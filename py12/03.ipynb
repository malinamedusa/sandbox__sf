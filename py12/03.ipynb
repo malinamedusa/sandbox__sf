{
 "cells": [
  {
   "cell_type": "code",
   "execution_count": 252,
   "metadata": {
    "collapsed": true
   },
   "outputs": [
    {
     "name": "stdout",
     "output_type": "stream",
     "text": [
      "<class 'pandas.core.frame.DataFrame'>\n",
      "RangeIndex: 13580 entries, 0 to 13579\n",
      "Data columns (total 26 columns):\n",
      " #   Column           Non-Null Count  Dtype  \n",
      "---  ------           --------------  -----  \n",
      " 0   Suburb           13580 non-null  object \n",
      " 1   Rooms            13580 non-null  int64  \n",
      " 2   Type             13580 non-null  object \n",
      " 3   Price            13580 non-null  float64\n",
      " 4   Method           13580 non-null  object \n",
      " 5   SellerG          13580 non-null  object \n",
      " 6   Date             13580 non-null  object \n",
      " 7   Distance         13580 non-null  float64\n",
      " 8   Postcode         13580 non-null  int64  \n",
      " 9   Bedroom          13580 non-null  int64  \n",
      " 10  Bathroom         13580 non-null  int64  \n",
      " 11  Car              13580 non-null  int64  \n",
      " 12  Landsize         13580 non-null  float64\n",
      " 13  BuildingArea     13580 non-null  float64\n",
      " 14  CouncilArea      12211 non-null  object \n",
      " 15  Lattitude        13580 non-null  float64\n",
      " 16  Longtitude       13580 non-null  float64\n",
      " 17  Regionname       13580 non-null  object \n",
      " 18  Propertycount    13580 non-null  int64  \n",
      " 19  MeanRoomsSquare  13580 non-null  float64\n",
      " 20  AreaRatio        13580 non-null  float64\n",
      " 21  MonthSale        13580 non-null  int64  \n",
      " 22  AgeBuilding      13580 non-null  int64  \n",
      " 23  WeekdaySale      13580 non-null  int64  \n",
      " 24  StreetType       13580 non-null  object \n",
      " 25  Weekend          13580 non-null  int64  \n",
      "dtypes: float64(8), int64(10), object(8)\n",
      "memory usage: 2.7+ MB\n"
     ]
    }
   ],
   "source": [
    "import pandas as pd\n",
    "import numpy as np\n",
    "\n",
    "df = pd.read_csv('melb_data_fe.csv')\n",
    "df.info()"
   ]
  },
  {
   "cell_type": "code",
   "execution_count": 253,
   "outputs": [
    {
     "data": {
      "text/plain": "3    4873\n2    4359\n4    2329\n1    2019\nName: Date_q, dtype: int64"
     },
     "execution_count": 253,
     "metadata": {},
     "output_type": "execute_result"
    }
   ],
   "source": [
    "df['Date'] = pd.to_datetime(df['Date'])\n",
    "df['Date_q'] = df['Date'].dt.quarter\n",
    "df['Date_q'].value_counts()"
   ],
   "metadata": {
    "collapsed": false,
    "pycharm": {
     "name": "#%%\n"
    }
   }
  },
  {
   "cell_type": "code",
   "execution_count": 254,
   "outputs": [
    {
     "name": "stdout",
     "output_type": "stream",
     "text": [
      "<class 'pandas.core.frame.DataFrame'>\n",
      "RangeIndex: 13580 entries, 0 to 13579\n",
      "Data columns (total 27 columns):\n",
      " #   Column           Non-Null Count  Dtype         \n",
      "---  ------           --------------  -----         \n",
      " 0   Suburb           13580 non-null  category      \n",
      " 1   Rooms            13580 non-null  int64         \n",
      " 2   Type             13580 non-null  category      \n",
      " 3   Price            13580 non-null  float64       \n",
      " 4   Method           13580 non-null  category      \n",
      " 5   SellerG          13580 non-null  category      \n",
      " 6   Date             13580 non-null  datetime64[ns]\n",
      " 7   Distance         13580 non-null  float64       \n",
      " 8   Postcode         13580 non-null  int64         \n",
      " 9   Bedroom          13580 non-null  int64         \n",
      " 10  Bathroom         13580 non-null  int64         \n",
      " 11  Car              13580 non-null  int64         \n",
      " 12  Landsize         13580 non-null  float64       \n",
      " 13  BuildingArea     13580 non-null  float64       \n",
      " 14  CouncilArea      12211 non-null  category      \n",
      " 15  Lattitude        13580 non-null  float64       \n",
      " 16  Longtitude       13580 non-null  float64       \n",
      " 17  Regionname       13580 non-null  category      \n",
      " 18  Propertycount    13580 non-null  int64         \n",
      " 19  MeanRoomsSquare  13580 non-null  float64       \n",
      " 20  AreaRatio        13580 non-null  float64       \n",
      " 21  MonthSale        13580 non-null  category      \n",
      " 22  AgeBuilding      13580 non-null  int64         \n",
      " 23  WeekdaySale      13580 non-null  category      \n",
      " 24  StreetType       13580 non-null  category      \n",
      " 25  Weekend          13580 non-null  category      \n",
      " 26  Date_q           13580 non-null  category      \n",
      "dtypes: category(11), datetime64[ns](1), float64(8), int64(7)\n",
      "memory usage: 1.8 MB\n"
     ]
    }
   ],
   "source": [
    "# создаём пустой список\n",
    "unique_list = []\n",
    "# пробегаемся по именам столбцов в таблице\n",
    "for col in df.columns:\n",
    "    # создаём кортеж (имя столбца, число уникальных значений)\n",
    "    item = (col, df[col].nunique(),df[col].dtype)\n",
    "    # добавляем кортеж в список\n",
    "    unique_list.append(item)\n",
    "# создаём вспомогательную таблицу и сортируем её\n",
    "unique_counts = pd.DataFrame(\n",
    "    unique_list,\n",
    "    columns=['Column_Name', 'Num_Unique', 'Type']\n",
    ").sort_values(by='Num_Unique',  ignore_index=True)\n",
    "# выводим её на экран\n",
    "column_list = list(unique_counts[unique_counts['Num_Unique'] <= 150]['Column_Name'])\n",
    "column_list = list(set(column_list) - set(list(['Date', 'Rooms', 'Bedroom', 'Bathroom', 'Car'])))\n",
    "\n",
    "for col in column_list: # цикл по именам столбцов\n",
    "        df[col] = df[col].astype('category')\n",
    "\n",
    "df.info()"
   ],
   "metadata": {
    "collapsed": false,
    "pycharm": {
     "name": "#%%\n"
    }
   }
  },
  {
   "cell_type": "code",
   "execution_count": 255,
   "outputs": [],
   "source": [
    "# df = df.sort_values(\n",
    "#     by='AreaRatio',\n",
    "#     ascending=False,\n",
    "#     ignore_index=True\n",
    "# )\n",
    "# df.iloc[1558]"
   ],
   "metadata": {
    "collapsed": false,
    "pycharm": {
     "name": "#%%\n"
    }
   }
  },
  {
   "cell_type": "code",
   "execution_count": 256,
   "outputs": [],
   "source": [
    "# df['Type'].value_counts()"
   ],
   "metadata": {
    "collapsed": false,
    "pycharm": {
     "name": "#%%\n"
    }
   }
  },
  {
   "cell_type": "code",
   "execution_count": 257,
   "outputs": [],
   "source": [
    "# # df = df[(df['Type'] == 'townhouse') & (df['Rooms'] > 2)]\n",
    "# df = df.sort_values(\n",
    "#     by=['Rooms', 'MeanRoomsSquare'],\n",
    "#     ascending=[True, False],\n",
    "#     ignore_index=True\n",
    "# )\n",
    "# df"
   ],
   "metadata": {
    "collapsed": false,
    "pycharm": {
     "name": "#%%\n"
    }
   }
  },
  {
   "cell_type": "code",
   "execution_count": 258,
   "outputs": [],
   "source": [
    "# ddd = df.groupby('Rooms')['Price'].mean()\n",
    "# ddd.info()"
   ],
   "metadata": {
    "collapsed": false,
    "pycharm": {
     "name": "#%%\n"
    }
   }
  },
  {
   "cell_type": "code",
   "execution_count": 259,
   "outputs": [],
   "source": [
    "# ddd.sort_values()"
   ],
   "metadata": {
    "collapsed": false,
    "pycharm": {
     "name": "#%%\n"
    }
   }
  },
  {
   "cell_type": "code",
   "execution_count": 260,
   "outputs": [
    {
     "data": {
      "text/plain": "0       -37.79960\n1       -37.80790\n2       -37.80930\n3       -37.79690\n4       -37.80720\n           ...   \n13575   -37.90562\n13576   -37.85927\n13577   -37.85274\n13578   -37.85908\n13579   -37.81188\nName: Lattitude, Length: 13580, dtype: float64"
     },
     "execution_count": 260,
     "metadata": {},
     "output_type": "execute_result"
    }
   ],
   "source": [
    "df['Lattitude']"
   ],
   "metadata": {
    "collapsed": false,
    "pycharm": {
     "name": "#%%\n"
    }
   }
  },
  {
   "cell_type": "code",
   "execution_count": 261,
   "outputs": [
    {
     "data": {
      "text/plain": "                                 min       max      nnn\nRegionname                                             \nEastern Metropolitan       -37.90383 -37.68508  0.21875\nEastern Victoria           -38.16439 -37.75735  0.40704\nNorthern Metropolitan      -37.93940 -37.56857  0.37083\nNorthern Victoria          -37.68503 -37.40853  0.27650\nSouth-Eastern Metropolitan -38.18255 -37.89210  0.29045\nSouthern Metropolitan      -37.99035 -37.78142  0.20893\nWestern Metropolitan       -37.91859 -37.56005  0.35854\nWestern Victoria           -37.71691 -37.67344  0.04347",
      "text/html": "<div>\n<style scoped>\n    .dataframe tbody tr th:only-of-type {\n        vertical-align: middle;\n    }\n\n    .dataframe tbody tr th {\n        vertical-align: top;\n    }\n\n    .dataframe thead th {\n        text-align: right;\n    }\n</style>\n<table border=\"1\" class=\"dataframe\">\n  <thead>\n    <tr style=\"text-align: right;\">\n      <th></th>\n      <th>min</th>\n      <th>max</th>\n      <th>nnn</th>\n    </tr>\n    <tr>\n      <th>Regionname</th>\n      <th></th>\n      <th></th>\n      <th></th>\n    </tr>\n  </thead>\n  <tbody>\n    <tr>\n      <th>Eastern Metropolitan</th>\n      <td>-37.90383</td>\n      <td>-37.68508</td>\n      <td>0.21875</td>\n    </tr>\n    <tr>\n      <th>Eastern Victoria</th>\n      <td>-38.16439</td>\n      <td>-37.75735</td>\n      <td>0.40704</td>\n    </tr>\n    <tr>\n      <th>Northern Metropolitan</th>\n      <td>-37.93940</td>\n      <td>-37.56857</td>\n      <td>0.37083</td>\n    </tr>\n    <tr>\n      <th>Northern Victoria</th>\n      <td>-37.68503</td>\n      <td>-37.40853</td>\n      <td>0.27650</td>\n    </tr>\n    <tr>\n      <th>South-Eastern Metropolitan</th>\n      <td>-38.18255</td>\n      <td>-37.89210</td>\n      <td>0.29045</td>\n    </tr>\n    <tr>\n      <th>Southern Metropolitan</th>\n      <td>-37.99035</td>\n      <td>-37.78142</td>\n      <td>0.20893</td>\n    </tr>\n    <tr>\n      <th>Western Metropolitan</th>\n      <td>-37.91859</td>\n      <td>-37.56005</td>\n      <td>0.35854</td>\n    </tr>\n    <tr>\n      <th>Western Victoria</th>\n      <td>-37.71691</td>\n      <td>-37.67344</td>\n      <td>0.04347</td>\n    </tr>\n  </tbody>\n</table>\n</div>"
     },
     "execution_count": 261,
     "metadata": {},
     "output_type": "execute_result"
    }
   ],
   "source": [
    "standard_deviation = df.groupby('Regionname', as_index=False)['Lattitude'].agg(['min', 'max'])\n",
    "# standard_deviation = np.std(standard_deviation['Lattitude'])\n",
    "standard_deviation['nnn'] = standard_deviation['max'] - standard_deviation['min']\n",
    "# standard_deviation = df\n",
    "# standard_deviation['Lattitude_std'] = np.std(standard_deviation['Lattitude'])\n",
    "\n",
    "# standard_deviation['Lattitude_std']  = standard_deviation['Lattitude'].apply(lambda x: np.std(x))\n",
    "standard_deviation"
   ],
   "metadata": {
    "collapsed": false,
    "pycharm": {
     "name": "#%%\n"
    }
   }
  },
  {
   "cell_type": "code",
   "execution_count": 262,
   "outputs": [
    {
     "data": {
      "text/plain": "          SellerG        Price\n0      Alexkarbon   10985000.0\n1           Barry  296723050.0\n2           Bells    8656000.0\n3          Biggin  110429500.0\n4            Brad   55955000.0\n5      Buckingham   19033000.0\n6         Burnham    4550500.0\n7          Buxton  219104000.0\n8             C21   19515000.0\n9          Cayzer    4439000.0\n10       Chisholm   23225000.0\n11        Collins   20217000.0\n12        Douglas   18341000.0\n13          Eview   19791500.0\n14      Fletchers  108847700.0\n15           Gary   39138400.0\n16           Greg   85621000.0\n17            HAR   25568000.0\n18      Harcourts   68720250.0\n19         Hodges   43231000.0\n20            Jas   59281600.0\n21         Jellis  414121833.0\n22            Kay   48569500.0\n23         LITTLE    2742000.0\n24           Love   23365500.0\n25       Marshall  253957888.0\n26       McDonald   14637500.0\n27        McGrath   78386500.0\n28          Miles   47582000.0\n29         Moonee    7328000.0\n30         Nelson  379767500.0\n31           Nick   16890000.0\n32           Noel   88129800.0\n33        O'Brien   23855508.0\n34         Philip   22051800.0\n35   Purplebricks   23401000.0\n36             RT   50498000.0\n37             RW   29261000.0\n38          Raine   30687700.0\n39            Ray  249572986.0\n40        Rendina   15422276.0\n41      Stockdale   35409800.0\n42        Sweeney   36882750.0\n43        Thomson    8332000.0\n44        Village   26473000.0\n45       Williams   23297000.0\n46       Woodards   85977500.0\n47            YPA   46354350.0\n48  hockingstuart  282834310.0\n49          other  365038432.0",
      "text/html": "<div>\n<style scoped>\n    .dataframe tbody tr th:only-of-type {\n        vertical-align: middle;\n    }\n\n    .dataframe tbody tr th {\n        vertical-align: top;\n    }\n\n    .dataframe thead th {\n        text-align: right;\n    }\n</style>\n<table border=\"1\" class=\"dataframe\">\n  <thead>\n    <tr style=\"text-align: right;\">\n      <th></th>\n      <th>SellerG</th>\n      <th>Price</th>\n    </tr>\n  </thead>\n  <tbody>\n    <tr>\n      <th>0</th>\n      <td>Alexkarbon</td>\n      <td>10985000.0</td>\n    </tr>\n    <tr>\n      <th>1</th>\n      <td>Barry</td>\n      <td>296723050.0</td>\n    </tr>\n    <tr>\n      <th>2</th>\n      <td>Bells</td>\n      <td>8656000.0</td>\n    </tr>\n    <tr>\n      <th>3</th>\n      <td>Biggin</td>\n      <td>110429500.0</td>\n    </tr>\n    <tr>\n      <th>4</th>\n      <td>Brad</td>\n      <td>55955000.0</td>\n    </tr>\n    <tr>\n      <th>5</th>\n      <td>Buckingham</td>\n      <td>19033000.0</td>\n    </tr>\n    <tr>\n      <th>6</th>\n      <td>Burnham</td>\n      <td>4550500.0</td>\n    </tr>\n    <tr>\n      <th>7</th>\n      <td>Buxton</td>\n      <td>219104000.0</td>\n    </tr>\n    <tr>\n      <th>8</th>\n      <td>C21</td>\n      <td>19515000.0</td>\n    </tr>\n    <tr>\n      <th>9</th>\n      <td>Cayzer</td>\n      <td>4439000.0</td>\n    </tr>\n    <tr>\n      <th>10</th>\n      <td>Chisholm</td>\n      <td>23225000.0</td>\n    </tr>\n    <tr>\n      <th>11</th>\n      <td>Collins</td>\n      <td>20217000.0</td>\n    </tr>\n    <tr>\n      <th>12</th>\n      <td>Douglas</td>\n      <td>18341000.0</td>\n    </tr>\n    <tr>\n      <th>13</th>\n      <td>Eview</td>\n      <td>19791500.0</td>\n    </tr>\n    <tr>\n      <th>14</th>\n      <td>Fletchers</td>\n      <td>108847700.0</td>\n    </tr>\n    <tr>\n      <th>15</th>\n      <td>Gary</td>\n      <td>39138400.0</td>\n    </tr>\n    <tr>\n      <th>16</th>\n      <td>Greg</td>\n      <td>85621000.0</td>\n    </tr>\n    <tr>\n      <th>17</th>\n      <td>HAR</td>\n      <td>25568000.0</td>\n    </tr>\n    <tr>\n      <th>18</th>\n      <td>Harcourts</td>\n      <td>68720250.0</td>\n    </tr>\n    <tr>\n      <th>19</th>\n      <td>Hodges</td>\n      <td>43231000.0</td>\n    </tr>\n    <tr>\n      <th>20</th>\n      <td>Jas</td>\n      <td>59281600.0</td>\n    </tr>\n    <tr>\n      <th>21</th>\n      <td>Jellis</td>\n      <td>414121833.0</td>\n    </tr>\n    <tr>\n      <th>22</th>\n      <td>Kay</td>\n      <td>48569500.0</td>\n    </tr>\n    <tr>\n      <th>23</th>\n      <td>LITTLE</td>\n      <td>2742000.0</td>\n    </tr>\n    <tr>\n      <th>24</th>\n      <td>Love</td>\n      <td>23365500.0</td>\n    </tr>\n    <tr>\n      <th>25</th>\n      <td>Marshall</td>\n      <td>253957888.0</td>\n    </tr>\n    <tr>\n      <th>26</th>\n      <td>McDonald</td>\n      <td>14637500.0</td>\n    </tr>\n    <tr>\n      <th>27</th>\n      <td>McGrath</td>\n      <td>78386500.0</td>\n    </tr>\n    <tr>\n      <th>28</th>\n      <td>Miles</td>\n      <td>47582000.0</td>\n    </tr>\n    <tr>\n      <th>29</th>\n      <td>Moonee</td>\n      <td>7328000.0</td>\n    </tr>\n    <tr>\n      <th>30</th>\n      <td>Nelson</td>\n      <td>379767500.0</td>\n    </tr>\n    <tr>\n      <th>31</th>\n      <td>Nick</td>\n      <td>16890000.0</td>\n    </tr>\n    <tr>\n      <th>32</th>\n      <td>Noel</td>\n      <td>88129800.0</td>\n    </tr>\n    <tr>\n      <th>33</th>\n      <td>O'Brien</td>\n      <td>23855508.0</td>\n    </tr>\n    <tr>\n      <th>34</th>\n      <td>Philip</td>\n      <td>22051800.0</td>\n    </tr>\n    <tr>\n      <th>35</th>\n      <td>Purplebricks</td>\n      <td>23401000.0</td>\n    </tr>\n    <tr>\n      <th>36</th>\n      <td>RT</td>\n      <td>50498000.0</td>\n    </tr>\n    <tr>\n      <th>37</th>\n      <td>RW</td>\n      <td>29261000.0</td>\n    </tr>\n    <tr>\n      <th>38</th>\n      <td>Raine</td>\n      <td>30687700.0</td>\n    </tr>\n    <tr>\n      <th>39</th>\n      <td>Ray</td>\n      <td>249572986.0</td>\n    </tr>\n    <tr>\n      <th>40</th>\n      <td>Rendina</td>\n      <td>15422276.0</td>\n    </tr>\n    <tr>\n      <th>41</th>\n      <td>Stockdale</td>\n      <td>35409800.0</td>\n    </tr>\n    <tr>\n      <th>42</th>\n      <td>Sweeney</td>\n      <td>36882750.0</td>\n    </tr>\n    <tr>\n      <th>43</th>\n      <td>Thomson</td>\n      <td>8332000.0</td>\n    </tr>\n    <tr>\n      <th>44</th>\n      <td>Village</td>\n      <td>26473000.0</td>\n    </tr>\n    <tr>\n      <th>45</th>\n      <td>Williams</td>\n      <td>23297000.0</td>\n    </tr>\n    <tr>\n      <th>46</th>\n      <td>Woodards</td>\n      <td>85977500.0</td>\n    </tr>\n    <tr>\n      <th>47</th>\n      <td>YPA</td>\n      <td>46354350.0</td>\n    </tr>\n    <tr>\n      <th>48</th>\n      <td>hockingstuart</td>\n      <td>282834310.0</td>\n    </tr>\n    <tr>\n      <th>49</th>\n      <td>other</td>\n      <td>365038432.0</td>\n    </tr>\n  </tbody>\n</table>\n</div>"
     },
     "execution_count": 262,
     "metadata": {},
     "output_type": "execute_result"
    }
   ],
   "source": [
    "ddd = df[(df['Date'] > '2017-04-30') & (df['Date'] < '2017-09-02')]\n",
    "ddd.groupby('SellerG', as_index=False)['Price'].sum()\n",
    "# Alexkarbon"
   ],
   "metadata": {
    "collapsed": false,
    "pycharm": {
     "name": "#%%\n"
    }
   }
  },
  {
   "cell_type": "code",
   "execution_count": 263,
   "outputs": [
    {
     "data": {
      "text/plain": "Type                  house     townhouse           unit\nSellerG                                                 \nAlexkarbon     1.103278e+06  9.220000e+05  556172.666667\nBarry          9.331888e+05  7.525791e+05  555870.512821\nBells          7.262763e+05  4.305000e+05  481250.000000\nBiggin         1.270929e+06  7.210370e+05  568020.833333\nBrad           9.571346e+05  6.978846e+05  480924.657534\nBuckingham     8.480634e+05  9.783333e+05  553000.000000\nBurnham        8.567692e+05  0.000000e+00  297730.769231\nBuxton         1.439187e+06  1.138067e+06  664625.954198\nC21            9.693400e+05  7.687500e+05  700700.000000\nCayzer         1.608258e+06  1.277333e+06  832333.333333\nChisholm       1.543138e+06  1.056000e+06  658447.651163\nCollins        1.667075e+06  8.750000e+05  571884.615385\nDouglas        6.880360e+05  5.100000e+05  448625.000000\nEview          8.674119e+05  6.127500e+05  602000.000000\nFletchers      1.480143e+06  1.248796e+06  691625.000000\nGary           1.400547e+06  1.105875e+06  555987.012987\nGreg           1.468400e+06  9.585667e+05  632855.932203\nHAR            8.002642e+05  0.000000e+00  641000.000000\nHarcourts      8.646909e+05  7.036000e+05  515604.838710\nHodges         1.628754e+06  1.184559e+06  677227.272727\nJas            9.932983e+05  6.893704e+05  455160.000000\nJellis         1.657952e+06  1.108469e+06  662828.060897\nKay            2.471453e+06  1.648818e+06  851660.606061\nLITTLE         1.011611e+06  8.000000e+05  470354.166667\nLove           8.223253e+05  7.233571e+05  452129.629630\nMarshall       2.161028e+06  1.590250e+06  770044.678261\nMcDonald       1.244533e+06  0.000000e+00  524166.666667\nMcGrath        1.327126e+06  9.794545e+05  579557.692308\nMiles          1.317484e+06  7.303000e+05  606840.425532\nMoonee         8.194677e+05  7.150000e+05  649000.000000\nNelson         1.148145e+06  7.523862e+05  574797.970480\nNick           2.111984e+06  7.800000e+05  993642.857143\nNoel           1.453143e+06  1.126570e+06  678085.714286\nO'Brien        8.558242e+05  4.283333e+05  624000.000000\nPhilip         1.068569e+06  7.370000e+05  706255.555556\nPurplebricks   8.882439e+05  9.590000e+05  559166.666667\nRT             1.841567e+06  1.261643e+06  703509.803922\nRW             1.077678e+06  5.929167e+05  598100.000000\nRaine          8.228126e+05  6.725556e+05  436666.666667\nRay            9.693127e+05  7.052136e+05  543938.559322\nRendina        1.278141e+06  6.365556e+05  492093.750000\nStockdale      7.543669e+05  5.603636e+05  450350.000000\nSweeney        9.318145e+05  7.274706e+05  408336.181818\nThomson        1.162462e+06  6.233333e+05  493615.384615\nVillage        1.049555e+06  7.228333e+05  414722.222222\nWilliams       1.258358e+06  8.587143e+05  685386.486486\nWoodards       1.295287e+06  9.255833e+05  626247.514019\nYPA            6.070024e+05  4.985000e+05  474250.000000\nhockingstuart  1.158002e+06  9.792072e+05  604151.664987\nother          1.106682e+06  9.413670e+05  586004.938272",
      "text/html": "<div>\n<style scoped>\n    .dataframe tbody tr th:only-of-type {\n        vertical-align: middle;\n    }\n\n    .dataframe tbody tr th {\n        vertical-align: top;\n    }\n\n    .dataframe thead th {\n        text-align: right;\n    }\n</style>\n<table border=\"1\" class=\"dataframe\">\n  <thead>\n    <tr style=\"text-align: right;\">\n      <th>Type</th>\n      <th>house</th>\n      <th>townhouse</th>\n      <th>unit</th>\n    </tr>\n    <tr>\n      <th>SellerG</th>\n      <th></th>\n      <th></th>\n      <th></th>\n    </tr>\n  </thead>\n  <tbody>\n    <tr>\n      <th>Alexkarbon</th>\n      <td>1.103278e+06</td>\n      <td>9.220000e+05</td>\n      <td>556172.666667</td>\n    </tr>\n    <tr>\n      <th>Barry</th>\n      <td>9.331888e+05</td>\n      <td>7.525791e+05</td>\n      <td>555870.512821</td>\n    </tr>\n    <tr>\n      <th>Bells</th>\n      <td>7.262763e+05</td>\n      <td>4.305000e+05</td>\n      <td>481250.000000</td>\n    </tr>\n    <tr>\n      <th>Biggin</th>\n      <td>1.270929e+06</td>\n      <td>7.210370e+05</td>\n      <td>568020.833333</td>\n    </tr>\n    <tr>\n      <th>Brad</th>\n      <td>9.571346e+05</td>\n      <td>6.978846e+05</td>\n      <td>480924.657534</td>\n    </tr>\n    <tr>\n      <th>Buckingham</th>\n      <td>8.480634e+05</td>\n      <td>9.783333e+05</td>\n      <td>553000.000000</td>\n    </tr>\n    <tr>\n      <th>Burnham</th>\n      <td>8.567692e+05</td>\n      <td>0.000000e+00</td>\n      <td>297730.769231</td>\n    </tr>\n    <tr>\n      <th>Buxton</th>\n      <td>1.439187e+06</td>\n      <td>1.138067e+06</td>\n      <td>664625.954198</td>\n    </tr>\n    <tr>\n      <th>C21</th>\n      <td>9.693400e+05</td>\n      <td>7.687500e+05</td>\n      <td>700700.000000</td>\n    </tr>\n    <tr>\n      <th>Cayzer</th>\n      <td>1.608258e+06</td>\n      <td>1.277333e+06</td>\n      <td>832333.333333</td>\n    </tr>\n    <tr>\n      <th>Chisholm</th>\n      <td>1.543138e+06</td>\n      <td>1.056000e+06</td>\n      <td>658447.651163</td>\n    </tr>\n    <tr>\n      <th>Collins</th>\n      <td>1.667075e+06</td>\n      <td>8.750000e+05</td>\n      <td>571884.615385</td>\n    </tr>\n    <tr>\n      <th>Douglas</th>\n      <td>6.880360e+05</td>\n      <td>5.100000e+05</td>\n      <td>448625.000000</td>\n    </tr>\n    <tr>\n      <th>Eview</th>\n      <td>8.674119e+05</td>\n      <td>6.127500e+05</td>\n      <td>602000.000000</td>\n    </tr>\n    <tr>\n      <th>Fletchers</th>\n      <td>1.480143e+06</td>\n      <td>1.248796e+06</td>\n      <td>691625.000000</td>\n    </tr>\n    <tr>\n      <th>Gary</th>\n      <td>1.400547e+06</td>\n      <td>1.105875e+06</td>\n      <td>555987.012987</td>\n    </tr>\n    <tr>\n      <th>Greg</th>\n      <td>1.468400e+06</td>\n      <td>9.585667e+05</td>\n      <td>632855.932203</td>\n    </tr>\n    <tr>\n      <th>HAR</th>\n      <td>8.002642e+05</td>\n      <td>0.000000e+00</td>\n      <td>641000.000000</td>\n    </tr>\n    <tr>\n      <th>Harcourts</th>\n      <td>8.646909e+05</td>\n      <td>7.036000e+05</td>\n      <td>515604.838710</td>\n    </tr>\n    <tr>\n      <th>Hodges</th>\n      <td>1.628754e+06</td>\n      <td>1.184559e+06</td>\n      <td>677227.272727</td>\n    </tr>\n    <tr>\n      <th>Jas</th>\n      <td>9.932983e+05</td>\n      <td>6.893704e+05</td>\n      <td>455160.000000</td>\n    </tr>\n    <tr>\n      <th>Jellis</th>\n      <td>1.657952e+06</td>\n      <td>1.108469e+06</td>\n      <td>662828.060897</td>\n    </tr>\n    <tr>\n      <th>Kay</th>\n      <td>2.471453e+06</td>\n      <td>1.648818e+06</td>\n      <td>851660.606061</td>\n    </tr>\n    <tr>\n      <th>LITTLE</th>\n      <td>1.011611e+06</td>\n      <td>8.000000e+05</td>\n      <td>470354.166667</td>\n    </tr>\n    <tr>\n      <th>Love</th>\n      <td>8.223253e+05</td>\n      <td>7.233571e+05</td>\n      <td>452129.629630</td>\n    </tr>\n    <tr>\n      <th>Marshall</th>\n      <td>2.161028e+06</td>\n      <td>1.590250e+06</td>\n      <td>770044.678261</td>\n    </tr>\n    <tr>\n      <th>McDonald</th>\n      <td>1.244533e+06</td>\n      <td>0.000000e+00</td>\n      <td>524166.666667</td>\n    </tr>\n    <tr>\n      <th>McGrath</th>\n      <td>1.327126e+06</td>\n      <td>9.794545e+05</td>\n      <td>579557.692308</td>\n    </tr>\n    <tr>\n      <th>Miles</th>\n      <td>1.317484e+06</td>\n      <td>7.303000e+05</td>\n      <td>606840.425532</td>\n    </tr>\n    <tr>\n      <th>Moonee</th>\n      <td>8.194677e+05</td>\n      <td>7.150000e+05</td>\n      <td>649000.000000</td>\n    </tr>\n    <tr>\n      <th>Nelson</th>\n      <td>1.148145e+06</td>\n      <td>7.523862e+05</td>\n      <td>574797.970480</td>\n    </tr>\n    <tr>\n      <th>Nick</th>\n      <td>2.111984e+06</td>\n      <td>7.800000e+05</td>\n      <td>993642.857143</td>\n    </tr>\n    <tr>\n      <th>Noel</th>\n      <td>1.453143e+06</td>\n      <td>1.126570e+06</td>\n      <td>678085.714286</td>\n    </tr>\n    <tr>\n      <th>O'Brien</th>\n      <td>8.558242e+05</td>\n      <td>4.283333e+05</td>\n      <td>624000.000000</td>\n    </tr>\n    <tr>\n      <th>Philip</th>\n      <td>1.068569e+06</td>\n      <td>7.370000e+05</td>\n      <td>706255.555556</td>\n    </tr>\n    <tr>\n      <th>Purplebricks</th>\n      <td>8.882439e+05</td>\n      <td>9.590000e+05</td>\n      <td>559166.666667</td>\n    </tr>\n    <tr>\n      <th>RT</th>\n      <td>1.841567e+06</td>\n      <td>1.261643e+06</td>\n      <td>703509.803922</td>\n    </tr>\n    <tr>\n      <th>RW</th>\n      <td>1.077678e+06</td>\n      <td>5.929167e+05</td>\n      <td>598100.000000</td>\n    </tr>\n    <tr>\n      <th>Raine</th>\n      <td>8.228126e+05</td>\n      <td>6.725556e+05</td>\n      <td>436666.666667</td>\n    </tr>\n    <tr>\n      <th>Ray</th>\n      <td>9.693127e+05</td>\n      <td>7.052136e+05</td>\n      <td>543938.559322</td>\n    </tr>\n    <tr>\n      <th>Rendina</th>\n      <td>1.278141e+06</td>\n      <td>6.365556e+05</td>\n      <td>492093.750000</td>\n    </tr>\n    <tr>\n      <th>Stockdale</th>\n      <td>7.543669e+05</td>\n      <td>5.603636e+05</td>\n      <td>450350.000000</td>\n    </tr>\n    <tr>\n      <th>Sweeney</th>\n      <td>9.318145e+05</td>\n      <td>7.274706e+05</td>\n      <td>408336.181818</td>\n    </tr>\n    <tr>\n      <th>Thomson</th>\n      <td>1.162462e+06</td>\n      <td>6.233333e+05</td>\n      <td>493615.384615</td>\n    </tr>\n    <tr>\n      <th>Village</th>\n      <td>1.049555e+06</td>\n      <td>7.228333e+05</td>\n      <td>414722.222222</td>\n    </tr>\n    <tr>\n      <th>Williams</th>\n      <td>1.258358e+06</td>\n      <td>8.587143e+05</td>\n      <td>685386.486486</td>\n    </tr>\n    <tr>\n      <th>Woodards</th>\n      <td>1.295287e+06</td>\n      <td>9.255833e+05</td>\n      <td>626247.514019</td>\n    </tr>\n    <tr>\n      <th>YPA</th>\n      <td>6.070024e+05</td>\n      <td>4.985000e+05</td>\n      <td>474250.000000</td>\n    </tr>\n    <tr>\n      <th>hockingstuart</th>\n      <td>1.158002e+06</td>\n      <td>9.792072e+05</td>\n      <td>604151.664987</td>\n    </tr>\n    <tr>\n      <th>other</th>\n      <td>1.106682e+06</td>\n      <td>9.413670e+05</td>\n      <td>586004.938272</td>\n    </tr>\n  </tbody>\n</table>\n</div>"
     },
     "execution_count": 263,
     "metadata": {},
     "output_type": "execute_result"
    }
   ],
   "source": [
    "df.pivot_table(\n",
    "    values='Price',\n",
    "    index='SellerG',\n",
    "    columns='Type',\n",
    "    aggfunc='mean',\n",
    "    fill_value=0\n",
    ")"
   ],
   "metadata": {
    "collapsed": false,
    "pycharm": {
     "name": "#%%\n"
    }
   }
  },
  {
   "cell_type": "code",
   "execution_count": 264,
   "outputs": [],
   "source": [
    "ratings1 = pd.read_csv('ratings1.csv')\n",
    "ratings2 = pd.read_csv('ratings2.csv')\n",
    "dates = pd.read_csv('dates.csv')\n",
    "movies = pd.read_csv('movies.csv')"
   ],
   "metadata": {
    "collapsed": false,
    "pycharm": {
     "name": "#%%\n"
    }
   }
  },
  {
   "cell_type": "code",
   "execution_count": 265,
   "outputs": [
    {
     "data": {
      "text/plain": "1         1\n53322     1\n53129     1\n53138     1\n53140     1\n         ..\n4390      1\n4392      1\n4393      1\n4394      1\n193609    1\nName: movieId, Length: 9742, dtype: int64"
     },
     "execution_count": 265,
     "metadata": {},
     "output_type": "execute_result"
    }
   ],
   "source": [
    "movies['movieId'].value_counts()"
   ],
   "metadata": {
    "collapsed": false,
    "pycharm": {
     "name": "#%%\n"
    }
   }
  },
  {
   "cell_type": "code",
   "execution_count": 266,
   "outputs": [
    {
     "data": {
      "text/plain": "2000    10061\n2017     8198\n2007     7114\n2016     6703\n2015     6616\n2018     6418\n1996     6040\n2005     5813\n2012     4656\n2008     4351\n2009     4158\n2006     4059\n2003     4014\n2001     3922\n2002     3478\n2004     3279\n1999     2439\n2010     2301\n1997     1916\n2011     1690\n2013     1664\n2014     1439\n1998      507\nName: date, dtype: int64"
     },
     "execution_count": 266,
     "metadata": {},
     "output_type": "execute_result"
    }
   ],
   "source": [
    "dates['date'] = pd.to_datetime(dates['date'], dayfirst=True)\n",
    "dates['date'].dt.year.value_counts()"
   ],
   "metadata": {
    "collapsed": false,
    "pycharm": {
     "name": "#%%\n"
    }
   }
  },
  {
   "cell_type": "code",
   "execution_count": 267,
   "outputs": [],
   "source": [
    "# # 6.3\n",
    "# import pandas as pd\n",
    "# import os\n",
    "#\n",
    "# def concat_users_files(path):\n",
    "#     \"\"\"\n",
    "#     Вам необходимо написать функцию concat_user_files(path), параметром которой является path - путь до директории.\n",
    "#     Функция должна объединить информацию из предоставленных вам файлов в один DataFrame и вернуть его.\n",
    "#     Не забудьте обновить индексы результирующей таблицы после объединения.\n",
    "#     Учтите тот момент, что в результате объединения могут возникнуть дубликаты, от которых необходимо будет избавиться.\n",
    "#     \"\"\"\n",
    "#     files = os.listdir(path)\n",
    "#     list.sort(files)\n",
    "#\n",
    "#     df_users = pd.DataFrame\n",
    "#\n",
    "#     for file in files:\n",
    "#         if file == files[0]:\n",
    "#             df_users = pd.read_csv(path + file)\n",
    "#         else:\n",
    "#             df = pd.read_csv(path + file)\n",
    "#             df_users = pd.concat(\n",
    "#                         [df_users, df],\n",
    "#                         ignore_index=True\n",
    "#                     )\n",
    "#     df_users = df_users.drop_duplicates()\n",
    "#\n",
    "#     return df_users\n",
    "#\n",
    "# if __name__ == '__main__':\n",
    "#     data = concat_users_files('./Root/users/')\n"
   ],
   "metadata": {
    "collapsed": false,
    "pycharm": {
     "name": "#%%\n"
    }
   }
  },
  {
   "cell_type": "code",
   "execution_count": 268,
   "outputs": [],
   "source": [
    "ratings_movies = pd.read_csv('ratings_movies.csv')\n",
    "import re\n",
    "def get_year_release(arg):\n",
    "    #находим все слова по шаблону \"(DDDD)\"\n",
    "    candidates = re.findall(r'\\(\\d{4}\\)', arg)\n",
    "    # проверяем число вхождений\n",
    "    if len(candidates) > 0:\n",
    "        #если число вхождений больше 0,\n",
    "\t#очищаем строку от знаков \"(\" и \")\"\n",
    "        year = candidates[0].replace('(', '')\n",
    "        year = year.replace(')', '')\n",
    "        return int(year)\n",
    "    else:\n",
    "        #если год не указан, возвращаем None\n",
    "        return None\n",
    "\n",
    "ratings_movies['year_release'] = ratings_movies['title'].apply(get_year_release)"
   ],
   "metadata": {
    "collapsed": false,
    "pycharm": {
     "name": "#%%\n"
    }
   }
  },
  {
   "cell_type": "code",
   "execution_count": 277,
   "outputs": [
    {
     "name": "stdout",
     "output_type": "stream",
     "text": [
      "<class 'pandas.core.frame.DataFrame'>\n",
      "RangeIndex: 100836 entries, 0 to 100835\n",
      "Data columns (total 10 columns):\n",
      " #   Column        Non-Null Count   Dtype         \n",
      "---  ------        --------------   -----         \n",
      " 0   Unnamed: 0    100836 non-null  int64         \n",
      " 1   userId        100836 non-null  int64         \n",
      " 2   movieId       100836 non-null  int64         \n",
      " 3   rating        100836 non-null  float64       \n",
      " 4   date          100836 non-null  datetime64[ns]\n",
      " 5   title         100836 non-null  object        \n",
      " 6   genres        100836 non-null  object        \n",
      " 7   year_release  100818 non-null  float64       \n",
      " 8   userId_g      100836 non-null  int64         \n",
      " 9   year_rating   100836 non-null  int64         \n",
      "dtypes: datetime64[ns](1), float64(2), int64(5), object(2)\n",
      "memory usage: 7.7+ MB\n"
     ]
    }
   ],
   "source": [
    "ratings_movies.info()"
   ],
   "metadata": {
    "collapsed": false,
    "pycharm": {
     "name": "#%%\n"
    }
   }
  },
  {
   "cell_type": "code",
   "execution_count": 270,
   "outputs": [
    {
     "data": {
      "text/plain": "userId\n1       232\n2        29\n3        39\n4       216\n5        44\n       ... \n606    1115\n607     187\n608     831\n609      37\n610    1302\nName: genres, Length: 610, dtype: int64"
     },
     "execution_count": 270,
     "metadata": {},
     "output_type": "execute_result"
    }
   ],
   "source": [
    "# df_rating = ratings_movies[ratings_movies['year_release'] == 2010]\n",
    "ratings_movies.groupby('userId')['genres'].count()\n",
    "# Bloodsport: The Dark Kumite\n",
    "# Action|Sci-Fi"
   ],
   "metadata": {
    "collapsed": false,
    "pycharm": {
     "name": "#%%\n"
    }
   }
  },
  {
   "cell_type": "code",
   "execution_count": 271,
   "outputs": [],
   "source": [
    "def parse_genres(userId):\n",
    "    genres = list(ratings_movies[ratings_movies['userId'] == userId]['genres'])\n",
    "    genres_set = []\n",
    "    # for i in genres:\n",
    "    #     genre = i.split('|')\n",
    "    #     for g in genre:\n",
    "    #         genres_set.append(g)\n",
    "    for i in genres:\n",
    "         genres_set.append(i)\n",
    "    return len(list(set(genres_set)))\n",
    "\n",
    "ratings_movies['userId_g'] = ratings_movies['userId'].apply(parse_genres)\n",
    "# ratings_movies['userId_g', 'userId']"
   ],
   "metadata": {
    "collapsed": false,
    "pycharm": {
     "name": "#%%\n"
    }
   }
  },
  {
   "cell_type": "code",
   "execution_count": 272,
   "outputs": [
    {
     "data": {
      "text/plain": "        Unnamed: 0  userId  movieId  rating                 date  \\\n0                0       1        1     4.0  2000-07-30 18:45:03   \n1                1       1        3     4.0  2000-07-30 18:20:47   \n2                2       1        6     4.0  2000-07-30 18:37:04   \n3                3       1       47     5.0  2000-07-30 19:03:35   \n4                4       1       50     5.0  2000-07-30 18:48:51   \n...            ...     ...      ...     ...                  ...   \n100831      100831     610   166534     4.0  2017-05-03 21:53:22   \n100832      100832     610   168248     5.0  2017-05-03 22:21:31   \n100833      100833     610   168250     5.0  2017-05-08 19:50:47   \n100834      100834     610   168252     5.0  2017-05-03 21:19:12   \n100835      100835     610   170875     3.0  2017-05-03 21:20:15   \n\n                                 title  \\\n0                     Toy Story (1995)   \n1              Grumpier Old Men (1995)   \n2                          Heat (1995)   \n3          Seven (a.k.a. Se7en) (1995)   \n4           Usual Suspects, The (1995)   \n...                                ...   \n100831                    Split (2017)   \n100832   John Wick: Chapter Two (2017)   \n100833                  Get Out (2017)   \n100834                    Logan (2017)   \n100835  The Fate of the Furious (2017)   \n\n                                             genres  year_release  userId_g  \n0       Adventure|Animation|Children|Comedy|Fantasy        1995.0       121  \n1                                    Comedy|Romance        1995.0       121  \n2                             Action|Crime|Thriller        1995.0       121  \n3                                  Mystery|Thriller        1995.0       121  \n4                            Crime|Mystery|Thriller        1995.0       121  \n...                                             ...           ...       ...  \n100831                        Drama|Horror|Thriller        2017.0       380  \n100832                        Action|Crime|Thriller        2017.0       380  \n100833                                       Horror        2017.0       380  \n100834                                Action|Sci-Fi        2017.0       380  \n100835                  Action|Crime|Drama|Thriller        2017.0       380  \n\n[100836 rows x 9 columns]",
      "text/html": "<div>\n<style scoped>\n    .dataframe tbody tr th:only-of-type {\n        vertical-align: middle;\n    }\n\n    .dataframe tbody tr th {\n        vertical-align: top;\n    }\n\n    .dataframe thead th {\n        text-align: right;\n    }\n</style>\n<table border=\"1\" class=\"dataframe\">\n  <thead>\n    <tr style=\"text-align: right;\">\n      <th></th>\n      <th>Unnamed: 0</th>\n      <th>userId</th>\n      <th>movieId</th>\n      <th>rating</th>\n      <th>date</th>\n      <th>title</th>\n      <th>genres</th>\n      <th>year_release</th>\n      <th>userId_g</th>\n    </tr>\n  </thead>\n  <tbody>\n    <tr>\n      <th>0</th>\n      <td>0</td>\n      <td>1</td>\n      <td>1</td>\n      <td>4.0</td>\n      <td>2000-07-30 18:45:03</td>\n      <td>Toy Story (1995)</td>\n      <td>Adventure|Animation|Children|Comedy|Fantasy</td>\n      <td>1995.0</td>\n      <td>121</td>\n    </tr>\n    <tr>\n      <th>1</th>\n      <td>1</td>\n      <td>1</td>\n      <td>3</td>\n      <td>4.0</td>\n      <td>2000-07-30 18:20:47</td>\n      <td>Grumpier Old Men (1995)</td>\n      <td>Comedy|Romance</td>\n      <td>1995.0</td>\n      <td>121</td>\n    </tr>\n    <tr>\n      <th>2</th>\n      <td>2</td>\n      <td>1</td>\n      <td>6</td>\n      <td>4.0</td>\n      <td>2000-07-30 18:37:04</td>\n      <td>Heat (1995)</td>\n      <td>Action|Crime|Thriller</td>\n      <td>1995.0</td>\n      <td>121</td>\n    </tr>\n    <tr>\n      <th>3</th>\n      <td>3</td>\n      <td>1</td>\n      <td>47</td>\n      <td>5.0</td>\n      <td>2000-07-30 19:03:35</td>\n      <td>Seven (a.k.a. Se7en) (1995)</td>\n      <td>Mystery|Thriller</td>\n      <td>1995.0</td>\n      <td>121</td>\n    </tr>\n    <tr>\n      <th>4</th>\n      <td>4</td>\n      <td>1</td>\n      <td>50</td>\n      <td>5.0</td>\n      <td>2000-07-30 18:48:51</td>\n      <td>Usual Suspects, The (1995)</td>\n      <td>Crime|Mystery|Thriller</td>\n      <td>1995.0</td>\n      <td>121</td>\n    </tr>\n    <tr>\n      <th>...</th>\n      <td>...</td>\n      <td>...</td>\n      <td>...</td>\n      <td>...</td>\n      <td>...</td>\n      <td>...</td>\n      <td>...</td>\n      <td>...</td>\n      <td>...</td>\n    </tr>\n    <tr>\n      <th>100831</th>\n      <td>100831</td>\n      <td>610</td>\n      <td>166534</td>\n      <td>4.0</td>\n      <td>2017-05-03 21:53:22</td>\n      <td>Split (2017)</td>\n      <td>Drama|Horror|Thriller</td>\n      <td>2017.0</td>\n      <td>380</td>\n    </tr>\n    <tr>\n      <th>100832</th>\n      <td>100832</td>\n      <td>610</td>\n      <td>168248</td>\n      <td>5.0</td>\n      <td>2017-05-03 22:21:31</td>\n      <td>John Wick: Chapter Two (2017)</td>\n      <td>Action|Crime|Thriller</td>\n      <td>2017.0</td>\n      <td>380</td>\n    </tr>\n    <tr>\n      <th>100833</th>\n      <td>100833</td>\n      <td>610</td>\n      <td>168250</td>\n      <td>5.0</td>\n      <td>2017-05-08 19:50:47</td>\n      <td>Get Out (2017)</td>\n      <td>Horror</td>\n      <td>2017.0</td>\n      <td>380</td>\n    </tr>\n    <tr>\n      <th>100834</th>\n      <td>100834</td>\n      <td>610</td>\n      <td>168252</td>\n      <td>5.0</td>\n      <td>2017-05-03 21:19:12</td>\n      <td>Logan (2017)</td>\n      <td>Action|Sci-Fi</td>\n      <td>2017.0</td>\n      <td>380</td>\n    </tr>\n    <tr>\n      <th>100835</th>\n      <td>100835</td>\n      <td>610</td>\n      <td>170875</td>\n      <td>3.0</td>\n      <td>2017-05-03 21:20:15</td>\n      <td>The Fate of the Furious (2017)</td>\n      <td>Action|Crime|Drama|Thriller</td>\n      <td>2017.0</td>\n      <td>380</td>\n    </tr>\n  </tbody>\n</table>\n<p>100836 rows × 9 columns</p>\n</div>"
     },
     "execution_count": 272,
     "metadata": {},
     "output_type": "execute_result"
    }
   ],
   "source": [
    "ratings_movies"
   ],
   "metadata": {
    "collapsed": false,
    "pycharm": {
     "name": "#%%\n"
    }
   }
  },
  {
   "cell_type": "code",
   "execution_count": 273,
   "outputs": [
    {
     "data": {
      "text/plain": "                                        count      mean  max\ngenres                                                      \nAction|Adventure|Sci-Fi                    14  3.928571  5.0\nAction|Comedy|Sci-Fi                       12  3.875000  5.0\nComedy                                      8  3.312500  4.5\nAction|Adventure|Children|Sci-Fi            5  3.900000  5.0\nAnimation|Comedy                            5  3.500000  5.0\nDrama|Horror|Thriller                       4  2.750000  4.5\nAction|Adventure|Animation|Children         4  3.000000  4.0\nAction|Adventure|Fantasy                    4  2.500000  3.5\nAdventure|Mystery|Sci-Fi|Thriller           3  3.833333  4.0\nAction|Adventure|Comedy|Fantasy|Sci-Fi      3  3.666667  4.0\nAction|Adventure|Thriller                   2  3.750000  4.0\nAction|Adventure|Drama|Sci-Fi|Thriller      2  3.250000  4.0\nComedy|Drama                                2  3.250000  4.0\nDocumentary                                 2  4.000000  5.0\nAction|Fantasy|Sci-Fi                       2  2.750000  3.0\nHorror|Mystery|Sci-Fi|Thriller              2  2.250000  4.0\nComedy|Romance                              1  4.500000  4.5\nDrama|Fantasy|Thriller                      1  2.000000  2.0\nCrime|Drama                                 1  3.500000  3.5\nCrime|Drama|Mystery|Thriller                1  1.500000  1.5\nHorror|Mystery|Thriller                     1  3.500000  3.5\nComedy|Fantasy|Sci-Fi                       1  4.500000  4.5\nAdventure|Comedy|Fantasy                    1  4.500000  4.5\nComedy|Crime|Drama                          1  2.500000  2.5\nAdventure|Thriller                          1  4.500000  4.5\nAdventure|Children|Fantasy|Sci-Fi           1  3.000000  3.0\nAction|Mystery|Sci-Fi|Thriller              1  3.500000  3.5\nAction|Crime|Thriller                       1  2.500000  2.5\nAction|Crime|Drama|Thriller                 1  4.000000  4.0\nAction|Comedy|Crime|Horror                  1  4.000000  4.0\nAction|Comedy                               1  3.000000  3.0\nAction|Animation                            1  3.500000  3.5\nSci-Fi|Thriller                             1  3.500000  3.5",
      "text/html": "<div>\n<style scoped>\n    .dataframe tbody tr th:only-of-type {\n        vertical-align: middle;\n    }\n\n    .dataframe tbody tr th {\n        vertical-align: top;\n    }\n\n    .dataframe thead th {\n        text-align: right;\n    }\n</style>\n<table border=\"1\" class=\"dataframe\">\n  <thead>\n    <tr style=\"text-align: right;\">\n      <th></th>\n      <th>count</th>\n      <th>mean</th>\n      <th>max</th>\n    </tr>\n    <tr>\n      <th>genres</th>\n      <th></th>\n      <th></th>\n      <th></th>\n    </tr>\n  </thead>\n  <tbody>\n    <tr>\n      <th>Action|Adventure|Sci-Fi</th>\n      <td>14</td>\n      <td>3.928571</td>\n      <td>5.0</td>\n    </tr>\n    <tr>\n      <th>Action|Comedy|Sci-Fi</th>\n      <td>12</td>\n      <td>3.875000</td>\n      <td>5.0</td>\n    </tr>\n    <tr>\n      <th>Comedy</th>\n      <td>8</td>\n      <td>3.312500</td>\n      <td>4.5</td>\n    </tr>\n    <tr>\n      <th>Action|Adventure|Children|Sci-Fi</th>\n      <td>5</td>\n      <td>3.900000</td>\n      <td>5.0</td>\n    </tr>\n    <tr>\n      <th>Animation|Comedy</th>\n      <td>5</td>\n      <td>3.500000</td>\n      <td>5.0</td>\n    </tr>\n    <tr>\n      <th>Drama|Horror|Thriller</th>\n      <td>4</td>\n      <td>2.750000</td>\n      <td>4.5</td>\n    </tr>\n    <tr>\n      <th>Action|Adventure|Animation|Children</th>\n      <td>4</td>\n      <td>3.000000</td>\n      <td>4.0</td>\n    </tr>\n    <tr>\n      <th>Action|Adventure|Fantasy</th>\n      <td>4</td>\n      <td>2.500000</td>\n      <td>3.5</td>\n    </tr>\n    <tr>\n      <th>Adventure|Mystery|Sci-Fi|Thriller</th>\n      <td>3</td>\n      <td>3.833333</td>\n      <td>4.0</td>\n    </tr>\n    <tr>\n      <th>Action|Adventure|Comedy|Fantasy|Sci-Fi</th>\n      <td>3</td>\n      <td>3.666667</td>\n      <td>4.0</td>\n    </tr>\n    <tr>\n      <th>Action|Adventure|Thriller</th>\n      <td>2</td>\n      <td>3.750000</td>\n      <td>4.0</td>\n    </tr>\n    <tr>\n      <th>Action|Adventure|Drama|Sci-Fi|Thriller</th>\n      <td>2</td>\n      <td>3.250000</td>\n      <td>4.0</td>\n    </tr>\n    <tr>\n      <th>Comedy|Drama</th>\n      <td>2</td>\n      <td>3.250000</td>\n      <td>4.0</td>\n    </tr>\n    <tr>\n      <th>Documentary</th>\n      <td>2</td>\n      <td>4.000000</td>\n      <td>5.0</td>\n    </tr>\n    <tr>\n      <th>Action|Fantasy|Sci-Fi</th>\n      <td>2</td>\n      <td>2.750000</td>\n      <td>3.0</td>\n    </tr>\n    <tr>\n      <th>Horror|Mystery|Sci-Fi|Thriller</th>\n      <td>2</td>\n      <td>2.250000</td>\n      <td>4.0</td>\n    </tr>\n    <tr>\n      <th>Comedy|Romance</th>\n      <td>1</td>\n      <td>4.500000</td>\n      <td>4.5</td>\n    </tr>\n    <tr>\n      <th>Drama|Fantasy|Thriller</th>\n      <td>1</td>\n      <td>2.000000</td>\n      <td>2.0</td>\n    </tr>\n    <tr>\n      <th>Crime|Drama</th>\n      <td>1</td>\n      <td>3.500000</td>\n      <td>3.5</td>\n    </tr>\n    <tr>\n      <th>Crime|Drama|Mystery|Thriller</th>\n      <td>1</td>\n      <td>1.500000</td>\n      <td>1.5</td>\n    </tr>\n    <tr>\n      <th>Horror|Mystery|Thriller</th>\n      <td>1</td>\n      <td>3.500000</td>\n      <td>3.5</td>\n    </tr>\n    <tr>\n      <th>Comedy|Fantasy|Sci-Fi</th>\n      <td>1</td>\n      <td>4.500000</td>\n      <td>4.5</td>\n    </tr>\n    <tr>\n      <th>Adventure|Comedy|Fantasy</th>\n      <td>1</td>\n      <td>4.500000</td>\n      <td>4.5</td>\n    </tr>\n    <tr>\n      <th>Comedy|Crime|Drama</th>\n      <td>1</td>\n      <td>2.500000</td>\n      <td>2.5</td>\n    </tr>\n    <tr>\n      <th>Adventure|Thriller</th>\n      <td>1</td>\n      <td>4.500000</td>\n      <td>4.5</td>\n    </tr>\n    <tr>\n      <th>Adventure|Children|Fantasy|Sci-Fi</th>\n      <td>1</td>\n      <td>3.000000</td>\n      <td>3.0</td>\n    </tr>\n    <tr>\n      <th>Action|Mystery|Sci-Fi|Thriller</th>\n      <td>1</td>\n      <td>3.500000</td>\n      <td>3.5</td>\n    </tr>\n    <tr>\n      <th>Action|Crime|Thriller</th>\n      <td>1</td>\n      <td>2.500000</td>\n      <td>2.5</td>\n    </tr>\n    <tr>\n      <th>Action|Crime|Drama|Thriller</th>\n      <td>1</td>\n      <td>4.000000</td>\n      <td>4.0</td>\n    </tr>\n    <tr>\n      <th>Action|Comedy|Crime|Horror</th>\n      <td>1</td>\n      <td>4.000000</td>\n      <td>4.0</td>\n    </tr>\n    <tr>\n      <th>Action|Comedy</th>\n      <td>1</td>\n      <td>3.000000</td>\n      <td>3.0</td>\n    </tr>\n    <tr>\n      <th>Action|Animation</th>\n      <td>1</td>\n      <td>3.500000</td>\n      <td>3.5</td>\n    </tr>\n    <tr>\n      <th>Sci-Fi|Thriller</th>\n      <td>1</td>\n      <td>3.500000</td>\n      <td>3.5</td>\n    </tr>\n  </tbody>\n</table>\n</div>"
     },
     "execution_count": 273,
     "metadata": {},
     "output_type": "execute_result"
    }
   ],
   "source": [
    "ratings_movies_2018 = ratings_movies[ratings_movies['year_release'] == 2018]\n",
    "ratings_movies_2018.groupby('genres')['rating'].agg(\n",
    "    ['count', 'mean', 'max']\n",
    ").sort_values(by='count', ascending=False)"
   ],
   "metadata": {
    "collapsed": false,
    "pycharm": {
     "name": "#%%\n"
    }
   }
  },
  {
   "cell_type": "code",
   "execution_count": 274,
   "outputs": [],
   "source": [
    "ratings_movies['date'] = pd.to_datetime(ratings_movies['date'])"
   ],
   "metadata": {
    "collapsed": false,
    "pycharm": {
     "name": "#%%\n"
    }
   }
  },
  {
   "cell_type": "code",
   "execution_count": 275,
   "outputs": [],
   "source": [
    "ratings_movies['year_rating'] = ratings_movies['date'].dt.year"
   ],
   "metadata": {
    "collapsed": false,
    "pycharm": {
     "name": "#%%\n"
    }
   }
  },
  {
   "cell_type": "code",
   "execution_count": 279,
   "outputs": [
    {
     "data": {
      "text/plain": "year_rating                              1996      1997  1998  1999      2000  \\\ngenres                                                                          \n(no genres listed)                        NaN       NaN   NaN   NaN       NaN   \nAction                               2.730769  3.538462   NaN   NaN  2.588235   \nAction|Adventure                     3.454545  4.150000   4.2   4.0  3.738462   \nAction|Adventure|Animation                NaN       NaN   NaN   NaN       NaN   \nAction|Adventure|Animation|Children       NaN       NaN   NaN   NaN       NaN   \n...                                       ...       ...   ...   ...       ...   \nSci-Fi|Thriller                      2.666667  3.400000   NaN   4.0  2.142857   \nSci-Fi|Thriller|IMAX                      NaN       NaN   NaN   NaN       NaN   \nThriller                             3.838095  3.923077   3.8   3.7  3.087912   \nWar                                       NaN       NaN   NaN   4.5  3.000000   \nWestern                              3.117647  3.000000   NaN   4.0  4.058824   \n\nyear_rating                              2001      2002      2003      2004  \\\ngenres                                                                        \n(no genres listed)                        NaN       NaN       NaN       NaN   \nAction                               3.000000  2.750000  3.833333  2.700000   \nAction|Adventure                     3.500000  4.304348  3.277778  4.136364   \nAction|Adventure|Animation                NaN       NaN       NaN       NaN   \nAction|Adventure|Animation|Children       NaN       NaN       NaN       NaN   \n...                                       ...       ...       ...       ...   \nSci-Fi|Thriller                      2.500000  3.600000  3.142857       NaN   \nSci-Fi|Thriller|IMAX                      NaN       NaN       NaN       NaN   \nThriller                             3.477273  3.583333  3.250000  3.464286   \nWar                                  3.000000  3.500000  3.000000  3.000000   \nWestern                              3.111111  3.000000  4.000000  3.800000   \n\nyear_rating                              2005  ...      2009      2010  \\\ngenres                                         ...                       \n(no genres listed)                        NaN  ...       NaN       NaN   \nAction                               3.357143  ...       NaN  3.500000   \nAction|Adventure                     3.413043  ...  3.714286  3.437500   \nAction|Adventure|Animation                NaN  ...       NaN       NaN   \nAction|Adventure|Animation|Children       NaN  ...       NaN       NaN   \n...                                       ...  ...       ...       ...   \nSci-Fi|Thriller                      2.750000  ...  4.000000  2.500000   \nSci-Fi|Thriller|IMAX                      NaN  ...       NaN       NaN   \nThriller                             3.411765  ...  2.964286  2.833333   \nWar                                       NaN  ...  4.000000       NaN   \nWestern                              4.500000  ...  3.375000  3.666667   \n\nyear_rating                              2011      2012      2013   2014  \\\ngenres                                                                     \n(no genres listed)                        NaN       NaN       NaN    NaN   \nAction                               4.500000  2.625000  2.500000    NaN   \nAction|Adventure                     3.888889  3.900000  3.833333  3.875   \nAction|Adventure|Animation                NaN       NaN       NaN  3.000   \nAction|Adventure|Animation|Children       NaN  4.000000  3.000000  3.500   \n...                                       ...       ...       ...    ...   \nSci-Fi|Thriller                      1.833333  3.500000  3.833333    NaN   \nSci-Fi|Thriller|IMAX                 4.000000  3.666667  4.000000  4.000   \nThriller                             3.625000  3.083333  3.666667  4.000   \nWar                                       NaN       NaN       NaN    NaN   \nWestern                              4.000000  4.100000  4.000000  4.000   \n\nyear_rating                              2015      2016      2017      2018  \ngenres                                                                       \n(no genres listed)                   0.500000  3.500000  3.000000  3.676471  \nAction                               3.100000  3.545455  2.637931  2.588235  \nAction|Adventure                     3.560976  3.722222  3.527778  3.397436  \nAction|Adventure|Animation           3.800000  3.750000  3.375000  3.650000  \nAction|Adventure|Animation|Children  3.666667  3.833333  3.500000  3.166667  \n...                                       ...       ...       ...       ...  \nSci-Fi|Thriller                      3.764706  3.916667  3.750000  3.562500  \nSci-Fi|Thriller|IMAX                 4.000000  3.666667  2.500000       NaN  \nThriller                             2.911765  3.432432  3.152174  3.296296  \nWar                                       NaN       NaN       NaN       NaN  \nWestern                              3.900000  3.958333  2.933333  3.611111  \n\n[951 rows x 23 columns]",
      "text/html": "<div>\n<style scoped>\n    .dataframe tbody tr th:only-of-type {\n        vertical-align: middle;\n    }\n\n    .dataframe tbody tr th {\n        vertical-align: top;\n    }\n\n    .dataframe thead th {\n        text-align: right;\n    }\n</style>\n<table border=\"1\" class=\"dataframe\">\n  <thead>\n    <tr style=\"text-align: right;\">\n      <th>year_rating</th>\n      <th>1996</th>\n      <th>1997</th>\n      <th>1998</th>\n      <th>1999</th>\n      <th>2000</th>\n      <th>2001</th>\n      <th>2002</th>\n      <th>2003</th>\n      <th>2004</th>\n      <th>2005</th>\n      <th>...</th>\n      <th>2009</th>\n      <th>2010</th>\n      <th>2011</th>\n      <th>2012</th>\n      <th>2013</th>\n      <th>2014</th>\n      <th>2015</th>\n      <th>2016</th>\n      <th>2017</th>\n      <th>2018</th>\n    </tr>\n    <tr>\n      <th>genres</th>\n      <th></th>\n      <th></th>\n      <th></th>\n      <th></th>\n      <th></th>\n      <th></th>\n      <th></th>\n      <th></th>\n      <th></th>\n      <th></th>\n      <th></th>\n      <th></th>\n      <th></th>\n      <th></th>\n      <th></th>\n      <th></th>\n      <th></th>\n      <th></th>\n      <th></th>\n      <th></th>\n      <th></th>\n    </tr>\n  </thead>\n  <tbody>\n    <tr>\n      <th>(no genres listed)</th>\n      <td>NaN</td>\n      <td>NaN</td>\n      <td>NaN</td>\n      <td>NaN</td>\n      <td>NaN</td>\n      <td>NaN</td>\n      <td>NaN</td>\n      <td>NaN</td>\n      <td>NaN</td>\n      <td>NaN</td>\n      <td>...</td>\n      <td>NaN</td>\n      <td>NaN</td>\n      <td>NaN</td>\n      <td>NaN</td>\n      <td>NaN</td>\n      <td>NaN</td>\n      <td>0.500000</td>\n      <td>3.500000</td>\n      <td>3.000000</td>\n      <td>3.676471</td>\n    </tr>\n    <tr>\n      <th>Action</th>\n      <td>2.730769</td>\n      <td>3.538462</td>\n      <td>NaN</td>\n      <td>NaN</td>\n      <td>2.588235</td>\n      <td>3.000000</td>\n      <td>2.750000</td>\n      <td>3.833333</td>\n      <td>2.700000</td>\n      <td>3.357143</td>\n      <td>...</td>\n      <td>NaN</td>\n      <td>3.500000</td>\n      <td>4.500000</td>\n      <td>2.625000</td>\n      <td>2.500000</td>\n      <td>NaN</td>\n      <td>3.100000</td>\n      <td>3.545455</td>\n      <td>2.637931</td>\n      <td>2.588235</td>\n    </tr>\n    <tr>\n      <th>Action|Adventure</th>\n      <td>3.454545</td>\n      <td>4.150000</td>\n      <td>4.2</td>\n      <td>4.0</td>\n      <td>3.738462</td>\n      <td>3.500000</td>\n      <td>4.304348</td>\n      <td>3.277778</td>\n      <td>4.136364</td>\n      <td>3.413043</td>\n      <td>...</td>\n      <td>3.714286</td>\n      <td>3.437500</td>\n      <td>3.888889</td>\n      <td>3.900000</td>\n      <td>3.833333</td>\n      <td>3.875</td>\n      <td>3.560976</td>\n      <td>3.722222</td>\n      <td>3.527778</td>\n      <td>3.397436</td>\n    </tr>\n    <tr>\n      <th>Action|Adventure|Animation</th>\n      <td>NaN</td>\n      <td>NaN</td>\n      <td>NaN</td>\n      <td>NaN</td>\n      <td>NaN</td>\n      <td>NaN</td>\n      <td>NaN</td>\n      <td>NaN</td>\n      <td>NaN</td>\n      <td>NaN</td>\n      <td>...</td>\n      <td>NaN</td>\n      <td>NaN</td>\n      <td>NaN</td>\n      <td>NaN</td>\n      <td>NaN</td>\n      <td>3.000</td>\n      <td>3.800000</td>\n      <td>3.750000</td>\n      <td>3.375000</td>\n      <td>3.650000</td>\n    </tr>\n    <tr>\n      <th>Action|Adventure|Animation|Children</th>\n      <td>NaN</td>\n      <td>NaN</td>\n      <td>NaN</td>\n      <td>NaN</td>\n      <td>NaN</td>\n      <td>NaN</td>\n      <td>NaN</td>\n      <td>NaN</td>\n      <td>NaN</td>\n      <td>NaN</td>\n      <td>...</td>\n      <td>NaN</td>\n      <td>NaN</td>\n      <td>NaN</td>\n      <td>4.000000</td>\n      <td>3.000000</td>\n      <td>3.500</td>\n      <td>3.666667</td>\n      <td>3.833333</td>\n      <td>3.500000</td>\n      <td>3.166667</td>\n    </tr>\n    <tr>\n      <th>...</th>\n      <td>...</td>\n      <td>...</td>\n      <td>...</td>\n      <td>...</td>\n      <td>...</td>\n      <td>...</td>\n      <td>...</td>\n      <td>...</td>\n      <td>...</td>\n      <td>...</td>\n      <td>...</td>\n      <td>...</td>\n      <td>...</td>\n      <td>...</td>\n      <td>...</td>\n      <td>...</td>\n      <td>...</td>\n      <td>...</td>\n      <td>...</td>\n      <td>...</td>\n      <td>...</td>\n    </tr>\n    <tr>\n      <th>Sci-Fi|Thriller</th>\n      <td>2.666667</td>\n      <td>3.400000</td>\n      <td>NaN</td>\n      <td>4.0</td>\n      <td>2.142857</td>\n      <td>2.500000</td>\n      <td>3.600000</td>\n      <td>3.142857</td>\n      <td>NaN</td>\n      <td>2.750000</td>\n      <td>...</td>\n      <td>4.000000</td>\n      <td>2.500000</td>\n      <td>1.833333</td>\n      <td>3.500000</td>\n      <td>3.833333</td>\n      <td>NaN</td>\n      <td>3.764706</td>\n      <td>3.916667</td>\n      <td>3.750000</td>\n      <td>3.562500</td>\n    </tr>\n    <tr>\n      <th>Sci-Fi|Thriller|IMAX</th>\n      <td>NaN</td>\n      <td>NaN</td>\n      <td>NaN</td>\n      <td>NaN</td>\n      <td>NaN</td>\n      <td>NaN</td>\n      <td>NaN</td>\n      <td>NaN</td>\n      <td>NaN</td>\n      <td>NaN</td>\n      <td>...</td>\n      <td>NaN</td>\n      <td>NaN</td>\n      <td>4.000000</td>\n      <td>3.666667</td>\n      <td>4.000000</td>\n      <td>4.000</td>\n      <td>4.000000</td>\n      <td>3.666667</td>\n      <td>2.500000</td>\n      <td>NaN</td>\n    </tr>\n    <tr>\n      <th>Thriller</th>\n      <td>3.838095</td>\n      <td>3.923077</td>\n      <td>3.8</td>\n      <td>3.7</td>\n      <td>3.087912</td>\n      <td>3.477273</td>\n      <td>3.583333</td>\n      <td>3.250000</td>\n      <td>3.464286</td>\n      <td>3.411765</td>\n      <td>...</td>\n      <td>2.964286</td>\n      <td>2.833333</td>\n      <td>3.625000</td>\n      <td>3.083333</td>\n      <td>3.666667</td>\n      <td>4.000</td>\n      <td>2.911765</td>\n      <td>3.432432</td>\n      <td>3.152174</td>\n      <td>3.296296</td>\n    </tr>\n    <tr>\n      <th>War</th>\n      <td>NaN</td>\n      <td>NaN</td>\n      <td>NaN</td>\n      <td>4.5</td>\n      <td>3.000000</td>\n      <td>3.000000</td>\n      <td>3.500000</td>\n      <td>3.000000</td>\n      <td>3.000000</td>\n      <td>NaN</td>\n      <td>...</td>\n      <td>4.000000</td>\n      <td>NaN</td>\n      <td>NaN</td>\n      <td>NaN</td>\n      <td>NaN</td>\n      <td>NaN</td>\n      <td>NaN</td>\n      <td>NaN</td>\n      <td>NaN</td>\n      <td>NaN</td>\n    </tr>\n    <tr>\n      <th>Western</th>\n      <td>3.117647</td>\n      <td>3.000000</td>\n      <td>NaN</td>\n      <td>4.0</td>\n      <td>4.058824</td>\n      <td>3.111111</td>\n      <td>3.000000</td>\n      <td>4.000000</td>\n      <td>3.800000</td>\n      <td>4.500000</td>\n      <td>...</td>\n      <td>3.375000</td>\n      <td>3.666667</td>\n      <td>4.000000</td>\n      <td>4.100000</td>\n      <td>4.000000</td>\n      <td>4.000</td>\n      <td>3.900000</td>\n      <td>3.958333</td>\n      <td>2.933333</td>\n      <td>3.611111</td>\n    </tr>\n  </tbody>\n</table>\n<p>951 rows × 23 columns</p>\n</div>"
     },
     "execution_count": 279,
     "metadata": {},
     "output_type": "execute_result"
    }
   ],
   "source": [
    "ratings_movies.groupby(['genres', 'year_rating'])['rating'].mean().unstack()"
   ],
   "metadata": {
    "collapsed": false,
    "pycharm": {
     "name": "#%%\n"
    }
   }
  },
  {
   "cell_type": "code",
   "execution_count": 281,
   "outputs": [],
   "source": [
    "orders_df = pd.read_csv('orders.csv', sep=';')\n",
    "products_df = pd.read_csv('products.csv', sep=';')"
   ],
   "metadata": {
    "collapsed": false,
    "pycharm": {
     "name": "#%%\n"
    }
   }
  },
  {
   "cell_type": "code",
   "execution_count": 282,
   "outputs": [
    {
     "name": "stdout",
     "output_type": "stream",
     "text": [
      "<class 'pandas.core.frame.DataFrame'>\n",
      "RangeIndex: 18 entries, 0 to 17\n",
      "Data columns (total 9 columns):\n",
      " #   Column         Non-Null Count  Dtype \n",
      "---  ------         --------------  ----- \n",
      " 0   Дата создания  18 non-null     object\n",
      " 1   Order ID       18 non-null     int64 \n",
      " 2   ID Покупателя  18 non-null     int64 \n",
      " 3   Статус         18 non-null     object\n",
      " 4   Оплачен        18 non-null     object\n",
      " 5   Отменен        18 non-null     object\n",
      " 6   Отгружен       18 non-null     object\n",
      " 7   ID товара      18 non-null     int64 \n",
      " 8   Количество     18 non-null     int64 \n",
      "dtypes: int64(4), object(5)\n",
      "memory usage: 1.4+ KB\n"
     ]
    }
   ],
   "source": [
    "orders_df.info()"
   ],
   "metadata": {
    "collapsed": false,
    "pycharm": {
     "name": "#%%\n"
    }
   }
  },
  {
   "cell_type": "code",
   "execution_count": 283,
   "outputs": [
    {
     "name": "stdout",
     "output_type": "stream",
     "text": [
      "<class 'pandas.core.frame.DataFrame'>\n",
      "RangeIndex: 14 entries, 0 to 13\n",
      "Data columns (total 4 columns):\n",
      " #   Column      Non-Null Count  Dtype \n",
      "---  ------      --------------  ----- \n",
      " 0   Product_ID  14 non-null     int64 \n",
      " 1   Name        14 non-null     object\n",
      " 2   Price       14 non-null     int64 \n",
      " 3   CURRENCY    14 non-null     object\n",
      "dtypes: int64(2), object(2)\n",
      "memory usage: 576.0+ bytes\n"
     ]
    }
   ],
   "source": [
    "products_df.info()"
   ],
   "metadata": {
    "collapsed": false,
    "pycharm": {
     "name": "#%%\n"
    }
   }
  },
  {
   "cell_type": "code",
   "execution_count": 284,
   "outputs": [
    {
     "data": {
      "text/plain": "          Дата создания  Order ID  ID Покупателя  \\\n0   09.11.2019 21:55:51         9             10   \n1   09.11.2019 15:05:57         8              9   \n2   09.11.2019 15:05:57         8              9   \n3   09.11.2019 12:50:07         7              8   \n4   09.11.2019 12:00:00         6              1   \n5   09.11.2019 12:00:00         6              1   \n6   08.11.2019 08:36:22         5              5   \n7   08.11.2019 08:36:22         4              9   \n8   08.11.2019 08:36:22         3              8   \n9   08.11.2019 08:36:22         3              8   \n10  08.11.2019 08:36:21         2              7   \n11  08.11.2019 08:36:21         2              7   \n12  08.11.2019 08:36:21         2              7   \n13  08.11.2019 08:36:21         2              7   \n14  08.11.2019 08:36:20         1              5   \n15  08.11.2019 08:36:20         1              5   \n16  08.11.2019 08:36:20         1              5   \n17  01.01.2001 00:00:00         0              1   \n\n                             Статус Оплачен Отменен Отгружен  ID товара  \\\n0          Принят, ожидается оплата     Нет     Нет      Нет        103   \n1          Принят, ожидается оплата     Нет     Нет      Нет         86   \n2          Принят, ожидается оплата     Нет     Нет      Нет        104   \n3          Принят, ожидается оплата     Нет     Нет      Нет        104   \n4          Принят, ожидается оплата     Нет     Нет      Нет        104   \n5          Принят, ожидается оплата     Нет     Нет      Нет        103   \n6                           Отменён     Нет      Да      Нет        124   \n7          Принят, ожидается оплата     Нет     Нет       Да         91   \n8   Оплачен, формируется к отправке      Да     Нет      Нет        103   \n9   Оплачен, формируется к отправке      Да     Нет      Нет        104   \n10                         Выполнен      Да     Нет       Да         74   \n11                         Выполнен      Да     Нет       Да         53   \n12                         Выполнен      Да     Нет       Да        137   \n13                         Выполнен      Да     Нет       Да         47   \n14  Оплачен, формируется к отправке      Да     Нет      Нет         71   \n15  Оплачен, формируется к отправке      Да     Нет      Нет         86   \n16  Оплачен, формируется к отправке      Да     Нет      Нет         51   \n17  Оплачен, формируется к отправке      Да     Нет      Нет        666   \n\n    Количество  Product_ID                       Name   Price CURRENCY  \n0            5         103      Носки Подарочные, муж   199.0      RUR  \n1          100          86         Носки Простые, муж    45.0      RUR  \n2           10         104      Носки Подарочные, жен   249.0      RUR  \n3            7         104      Носки Подарочные, жен   249.0      RUR  \n4            5         104      Носки Подарочные, жен   249.0      RUR  \n5            5         103      Носки Подарочные, муж   199.0      RUR  \n6            1         124       Носки беговые Camino   999.0      RUR  \n7            1          91         Носки Честные, муж    50.0      RUR  \n8            3         103      Носки Подарочные, муж   199.0      RUR  \n9            3         104      Носки Подарочные, жен   249.0      RUR  \n10           1          74   Платье Ночная Жизнь XXXL  8999.0      RUR  \n11           1          53     Штаны Цветочная Поляна  4999.0      RUR  \n12           1         137  Гольфы детские Снегурочка    99.0      RUR  \n13           1          47       Шатны Полосатый рейс  2999.0      RUR  \n14           1          71        Платье Ночная Жизнь  7999.0      RUR  \n15           1          86         Носки Простые, муж    45.0      RUR  \n16           1          51   Платье Аленький цветочек  4999.0      RUR  \n17           1         666                        NaN     NaN      NaN  ",
      "text/html": "<div>\n<style scoped>\n    .dataframe tbody tr th:only-of-type {\n        vertical-align: middle;\n    }\n\n    .dataframe tbody tr th {\n        vertical-align: top;\n    }\n\n    .dataframe thead th {\n        text-align: right;\n    }\n</style>\n<table border=\"1\" class=\"dataframe\">\n  <thead>\n    <tr style=\"text-align: right;\">\n      <th></th>\n      <th>Дата создания</th>\n      <th>Order ID</th>\n      <th>ID Покупателя</th>\n      <th>Статус</th>\n      <th>Оплачен</th>\n      <th>Отменен</th>\n      <th>Отгружен</th>\n      <th>ID товара</th>\n      <th>Количество</th>\n      <th>Product_ID</th>\n      <th>Name</th>\n      <th>Price</th>\n      <th>CURRENCY</th>\n    </tr>\n  </thead>\n  <tbody>\n    <tr>\n      <th>0</th>\n      <td>09.11.2019 21:55:51</td>\n      <td>9</td>\n      <td>10</td>\n      <td>Принят, ожидается оплата</td>\n      <td>Нет</td>\n      <td>Нет</td>\n      <td>Нет</td>\n      <td>103</td>\n      <td>5</td>\n      <td>103</td>\n      <td>Носки Подарочные, муж</td>\n      <td>199.0</td>\n      <td>RUR</td>\n    </tr>\n    <tr>\n      <th>1</th>\n      <td>09.11.2019 15:05:57</td>\n      <td>8</td>\n      <td>9</td>\n      <td>Принят, ожидается оплата</td>\n      <td>Нет</td>\n      <td>Нет</td>\n      <td>Нет</td>\n      <td>86</td>\n      <td>100</td>\n      <td>86</td>\n      <td>Носки Простые, муж</td>\n      <td>45.0</td>\n      <td>RUR</td>\n    </tr>\n    <tr>\n      <th>2</th>\n      <td>09.11.2019 15:05:57</td>\n      <td>8</td>\n      <td>9</td>\n      <td>Принят, ожидается оплата</td>\n      <td>Нет</td>\n      <td>Нет</td>\n      <td>Нет</td>\n      <td>104</td>\n      <td>10</td>\n      <td>104</td>\n      <td>Носки Подарочные, жен</td>\n      <td>249.0</td>\n      <td>RUR</td>\n    </tr>\n    <tr>\n      <th>3</th>\n      <td>09.11.2019 12:50:07</td>\n      <td>7</td>\n      <td>8</td>\n      <td>Принят, ожидается оплата</td>\n      <td>Нет</td>\n      <td>Нет</td>\n      <td>Нет</td>\n      <td>104</td>\n      <td>7</td>\n      <td>104</td>\n      <td>Носки Подарочные, жен</td>\n      <td>249.0</td>\n      <td>RUR</td>\n    </tr>\n    <tr>\n      <th>4</th>\n      <td>09.11.2019 12:00:00</td>\n      <td>6</td>\n      <td>1</td>\n      <td>Принят, ожидается оплата</td>\n      <td>Нет</td>\n      <td>Нет</td>\n      <td>Нет</td>\n      <td>104</td>\n      <td>5</td>\n      <td>104</td>\n      <td>Носки Подарочные, жен</td>\n      <td>249.0</td>\n      <td>RUR</td>\n    </tr>\n    <tr>\n      <th>5</th>\n      <td>09.11.2019 12:00:00</td>\n      <td>6</td>\n      <td>1</td>\n      <td>Принят, ожидается оплата</td>\n      <td>Нет</td>\n      <td>Нет</td>\n      <td>Нет</td>\n      <td>103</td>\n      <td>5</td>\n      <td>103</td>\n      <td>Носки Подарочные, муж</td>\n      <td>199.0</td>\n      <td>RUR</td>\n    </tr>\n    <tr>\n      <th>6</th>\n      <td>08.11.2019 08:36:22</td>\n      <td>5</td>\n      <td>5</td>\n      <td>Отменён</td>\n      <td>Нет</td>\n      <td>Да</td>\n      <td>Нет</td>\n      <td>124</td>\n      <td>1</td>\n      <td>124</td>\n      <td>Носки беговые Camino</td>\n      <td>999.0</td>\n      <td>RUR</td>\n    </tr>\n    <tr>\n      <th>7</th>\n      <td>08.11.2019 08:36:22</td>\n      <td>4</td>\n      <td>9</td>\n      <td>Принят, ожидается оплата</td>\n      <td>Нет</td>\n      <td>Нет</td>\n      <td>Да</td>\n      <td>91</td>\n      <td>1</td>\n      <td>91</td>\n      <td>Носки Честные, муж</td>\n      <td>50.0</td>\n      <td>RUR</td>\n    </tr>\n    <tr>\n      <th>8</th>\n      <td>08.11.2019 08:36:22</td>\n      <td>3</td>\n      <td>8</td>\n      <td>Оплачен, формируется к отправке</td>\n      <td>Да</td>\n      <td>Нет</td>\n      <td>Нет</td>\n      <td>103</td>\n      <td>3</td>\n      <td>103</td>\n      <td>Носки Подарочные, муж</td>\n      <td>199.0</td>\n      <td>RUR</td>\n    </tr>\n    <tr>\n      <th>9</th>\n      <td>08.11.2019 08:36:22</td>\n      <td>3</td>\n      <td>8</td>\n      <td>Оплачен, формируется к отправке</td>\n      <td>Да</td>\n      <td>Нет</td>\n      <td>Нет</td>\n      <td>104</td>\n      <td>3</td>\n      <td>104</td>\n      <td>Носки Подарочные, жен</td>\n      <td>249.0</td>\n      <td>RUR</td>\n    </tr>\n    <tr>\n      <th>10</th>\n      <td>08.11.2019 08:36:21</td>\n      <td>2</td>\n      <td>7</td>\n      <td>Выполнен</td>\n      <td>Да</td>\n      <td>Нет</td>\n      <td>Да</td>\n      <td>74</td>\n      <td>1</td>\n      <td>74</td>\n      <td>Платье Ночная Жизнь XXXL</td>\n      <td>8999.0</td>\n      <td>RUR</td>\n    </tr>\n    <tr>\n      <th>11</th>\n      <td>08.11.2019 08:36:21</td>\n      <td>2</td>\n      <td>7</td>\n      <td>Выполнен</td>\n      <td>Да</td>\n      <td>Нет</td>\n      <td>Да</td>\n      <td>53</td>\n      <td>1</td>\n      <td>53</td>\n      <td>Штаны Цветочная Поляна</td>\n      <td>4999.0</td>\n      <td>RUR</td>\n    </tr>\n    <tr>\n      <th>12</th>\n      <td>08.11.2019 08:36:21</td>\n      <td>2</td>\n      <td>7</td>\n      <td>Выполнен</td>\n      <td>Да</td>\n      <td>Нет</td>\n      <td>Да</td>\n      <td>137</td>\n      <td>1</td>\n      <td>137</td>\n      <td>Гольфы детские Снегурочка</td>\n      <td>99.0</td>\n      <td>RUR</td>\n    </tr>\n    <tr>\n      <th>13</th>\n      <td>08.11.2019 08:36:21</td>\n      <td>2</td>\n      <td>7</td>\n      <td>Выполнен</td>\n      <td>Да</td>\n      <td>Нет</td>\n      <td>Да</td>\n      <td>47</td>\n      <td>1</td>\n      <td>47</td>\n      <td>Шатны Полосатый рейс</td>\n      <td>2999.0</td>\n      <td>RUR</td>\n    </tr>\n    <tr>\n      <th>14</th>\n      <td>08.11.2019 08:36:20</td>\n      <td>1</td>\n      <td>5</td>\n      <td>Оплачен, формируется к отправке</td>\n      <td>Да</td>\n      <td>Нет</td>\n      <td>Нет</td>\n      <td>71</td>\n      <td>1</td>\n      <td>71</td>\n      <td>Платье Ночная Жизнь</td>\n      <td>7999.0</td>\n      <td>RUR</td>\n    </tr>\n    <tr>\n      <th>15</th>\n      <td>08.11.2019 08:36:20</td>\n      <td>1</td>\n      <td>5</td>\n      <td>Оплачен, формируется к отправке</td>\n      <td>Да</td>\n      <td>Нет</td>\n      <td>Нет</td>\n      <td>86</td>\n      <td>1</td>\n      <td>86</td>\n      <td>Носки Простые, муж</td>\n      <td>45.0</td>\n      <td>RUR</td>\n    </tr>\n    <tr>\n      <th>16</th>\n      <td>08.11.2019 08:36:20</td>\n      <td>1</td>\n      <td>5</td>\n      <td>Оплачен, формируется к отправке</td>\n      <td>Да</td>\n      <td>Нет</td>\n      <td>Нет</td>\n      <td>51</td>\n      <td>1</td>\n      <td>51</td>\n      <td>Платье Аленький цветочек</td>\n      <td>4999.0</td>\n      <td>RUR</td>\n    </tr>\n    <tr>\n      <th>17</th>\n      <td>01.01.2001 00:00:00</td>\n      <td>0</td>\n      <td>1</td>\n      <td>Оплачен, формируется к отправке</td>\n      <td>Да</td>\n      <td>Нет</td>\n      <td>Нет</td>\n      <td>666</td>\n      <td>1</td>\n      <td>666</td>\n      <td>NaN</td>\n      <td>NaN</td>\n      <td>NaN</td>\n    </tr>\n  </tbody>\n</table>\n</div>"
     },
     "execution_count": 284,
     "metadata": {},
     "output_type": "execute_result"
    }
   ],
   "source": [
    "orders_df['Product_ID'] = orders_df['ID товара']\n",
    "\n",
    "orders_products_df = orders_df.merge(\n",
    "    products_df,\n",
    "    on='Product_ID',\n",
    "    how='left'\n",
    ")\n",
    "orders_products_df"
   ],
   "metadata": {
    "collapsed": false,
    "pycharm": {
     "name": "#%%\n"
    }
   }
  },
  {
   "cell_type": "code",
   "execution_count": null,
   "outputs": [],
   "source": [],
   "metadata": {
    "collapsed": false,
    "pycharm": {
     "name": "#%%\n"
    }
   }
  }
 ],
 "metadata": {
  "kernelspec": {
   "display_name": "Python 3",
   "language": "python",
   "name": "python3"
  },
  "language_info": {
   "codemirror_mode": {
    "name": "ipython",
    "version": 2
   },
   "file_extension": ".py",
   "mimetype": "text/x-python",
   "name": "python",
   "nbconvert_exporter": "python",
   "pygments_lexer": "ipython2",
   "version": "2.7.6"
  }
 },
 "nbformat": 4,
 "nbformat_minor": 0
}