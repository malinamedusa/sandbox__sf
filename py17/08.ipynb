{
 "cells": [
  {
   "cell_type": "code",
   "execution_count": 1,
   "metadata": {
    "collapsed": true
   },
   "outputs": [
    {
     "data": {
      "text/plain": "<Response [200]>"
     },
     "execution_count": 1,
     "metadata": {},
     "output_type": "execute_result"
    }
   ],
   "source": [
    "import requests\n",
    "\n",
    "\n",
    "url = 'https://www.cbr-xml-daily.ru/daily_json.js'\n",
    "response = requests.get(url)\n",
    "response"
   ]
  },
  {
   "cell_type": "code",
   "execution_count": 2,
   "outputs": [
    {
     "data": {
      "text/plain": "200"
     },
     "execution_count": 2,
     "metadata": {},
     "output_type": "execute_result"
    }
   ],
   "source": [
    "response.status_code"
   ],
   "metadata": {
    "collapsed": false,
    "pycharm": {
     "name": "#%%\n"
    }
   }
  },
  {
   "cell_type": "code",
   "execution_count": 3,
   "outputs": [
    {
     "data": {
      "text/plain": "'{\\n    \"Date\": \"2022-04-06T11:30:00+03:00\",\\n    \"PreviousDate\": \"2022-04-05T11:30:00+03:00\",\\n    \"PreviousURL\": \"\\\\/\\\\/www.cbr-xml-daily.ru\\\\/archive\\\\/2022\\\\/04\\\\/05\\\\/daily_json.js\",\\n    \"Timestamp\": \"2022-04-06T14:00:00+03:00\",\\n    \"Valute\": {\\n        \"AUD\": {\\n            \"ID\": \"R01010\",\\n            \"NumCode\": \"036\",\\n            \"CharCode\": \"AUD\",\\n            \"Nominal\": 1,\\n            \"Name\": \"Австралийский доллар\",\\n            \"Value\": 63.4725,\\n            \"Previous\": 62.8119\\n        },\\n        \"AZN\": {\\n            \"ID\": \"R01020A\",\\n            \"NumCode\": \"944\",\\n            \"CharCode\": \"AZN\",\\n            \"Nominal\": 1,\\n            \"Name\": \"Азербайджанский манат\",\\n            \"Value\": 49.0306,\\n            \"Previous\": 49.1725\\n        },\\n        \"GBP\": {\\n            \"ID\": \"R01035\",\\n            \"NumCode\": \"826\",\\n            \"CharCode\": \"GBP\",\\n            \"Nominal\": 1,\\n            \"Name\": \"Фунт стерлингов Соединенного королевства\",\\n            \"Value\": 109.3245,\\n            \"Previous\": 109.5907\\n        },\\n        \"AMD\": {\\n            \"ID\": \"R01060\",\\n            \"NumCode\": \"051\",\\n            \"CharCode\": \"AMD\",\\n            \"Nominal\": 100,\\n            \"Name\": \"Армянских драмов\",\\n            \"Value\": 17.3077,\\n            \"Previous\": 17.3017\\n        },\\n        \"BYN\": {\\n            \"ID\": \"R01090B\",\\n            \"NumCode\": \"933\",\\n            \"CharCode\": \"BYN\",\\n            \"Nominal\": 1,\\n            \"Name\": \"Белорусский рубль\",\\n            \"Value\": 28.3231,\\n            \"Previous\": 28.3607\\n        },\\n        \"BGN\": {\\n            \"ID\": \"R01100\",\\n            \"NumCode\": \"975\",\\n            \"CharCode\": \"BGN\",\\n            \"Nominal\": 1,\\n            \"Name\": \"Болгарский лев\",\\n            \"Value\": 46.9007,\\n            \"Previous\": 47.2358\\n        },\\n        \"BRL\": {\\n            \"ID\": \"R01115\",\\n            \"NumCode\": \"986\",\\n            \"CharCode\": \"BRL\",\\n            \"Nominal\": 1,\\n            \"Name\": \"Бразильский реал\",\\n            \"Value\": 18.0537,\\n            \"Previous\": 17.7941\\n        },\\n        \"HUF\": {\\n            \"ID\": \"R01135\",\\n            \"NumCode\": \"348\",\\n            \"CharCode\": \"HUF\",\\n            \"Nominal\": 100,\\n            \"Name\": \"Венгерских форинтов\",\\n            \"Value\": 24.6757,\\n            \"Previous\": 24.9868\\n        },\\n        \"HKD\": {\\n            \"ID\": \"R01200\",\\n            \"NumCode\": \"344\",\\n            \"CharCode\": \"HKD\",\\n            \"Nominal\": 1,\\n            \"Name\": \"Гонконгский доллар\",\\n            \"Value\": 10.6602,\\n            \"Previous\": 10.6883\\n        },\\n        \"DKK\": {\\n            \"ID\": \"R01215\",\\n            \"NumCode\": \"208\",\\n            \"CharCode\": \"DKK\",\\n            \"Nominal\": 1,\\n            \"Name\": \"Датская крона\",\\n            \"Value\": 12.3316,\\n            \"Previous\": 12.4197\\n        },\\n        \"USD\": {\\n            \"ID\": \"R01235\",\\n            \"NumCode\": \"840\",\\n            \"CharCode\": \"USD\",\\n            \"Nominal\": 1,\\n            \"Name\": \"Доллар США\",\\n            \"Value\": 83.352,\\n            \"Previous\": 83.5932\\n        },\\n        \"EUR\": {\\n            \"ID\": \"R01239\",\\n            \"NumCode\": \"978\",\\n            \"CharCode\": \"EUR\",\\n            \"Nominal\": 1,\\n            \"Name\": \"Евро\",\\n            \"Value\": 91.7289,\\n            \"Previous\": 92.3872\\n        },\\n        \"INR\": {\\n            \"ID\": \"R01270\",\\n            \"NumCode\": \"356\",\\n            \"CharCode\": \"INR\",\\n            \"Nominal\": 10,\\n            \"Name\": \"Индийских рупий\",\\n            \"Value\": 10.9713,\\n            \"Previous\": 10.9621\\n        },\\n        \"KZT\": {\\n            \"ID\": \"R01335\",\\n            \"NumCode\": \"398\",\\n            \"CharCode\": \"KZT\",\\n            \"Nominal\": 100,\\n            \"Name\": \"Казахстанских тенге\",\\n            \"Value\": 17.6309,\\n            \"Previous\": 17.6894\\n        },\\n        \"CAD\": {\\n            \"ID\": \"R01350\",\\n            \"NumCode\": \"124\",\\n            \"CharCode\": \"CAD\",\\n            \"Nominal\": 1,\\n            \"Name\": \"Канадский доллар\",\\n            \"Value\": 66.735,\\n            \"Previous\": 66.8104\\n        },\\n        \"KGS\": {\\n            \"ID\": \"R01370\",\\n            \"NumCode\": \"417\",\\n            \"CharCode\": \"KGS\",\\n            \"Nominal\": 100,\\n            \"Name\": \"Киргизских сомов\",\\n            \"Value\": 97.2602,\\n            \"Previous\": 97.4658\\n        },\\n        \"CNY\": {\\n            \"ID\": \"R01375\",\\n            \"NumCode\": \"156\",\\n            \"CharCode\": \"CNY\",\\n            \"Nominal\": 1,\\n            \"Name\": \"Китайский юань\",\\n            \"Value\": 13.0993,\\n            \"Previous\": 13.1372\\n        },\\n        \"MDL\": {\\n            \"ID\": \"R01500\",\\n            \"NumCode\": \"498\",\\n            \"CharCode\": \"MDL\",\\n            \"Nominal\": 10,\\n            \"Name\": \"Молдавских леев\",\\n            \"Value\": 45.4745,\\n            \"Previous\": 45.5618\\n        },\\n        \"NOK\": {\\n            \"ID\": \"R01535\",\\n            \"NumCode\": \"578\",\\n            \"CharCode\": \"NOK\",\\n            \"Nominal\": 10,\\n            \"Name\": \"Норвежских крон\",\\n            \"Value\": 96.062,\\n            \"Previous\": 95.6116\\n        },\\n        \"PLN\": {\\n            \"ID\": \"R01565\",\\n            \"NumCode\": \"985\",\\n            \"CharCode\": \"PLN\",\\n            \"Nominal\": 1,\\n            \"Name\": \"Польский злотый\",\\n            \"Value\": 19.7129,\\n            \"Previous\": 19.8644\\n        },\\n        \"RON\": {\\n            \"ID\": \"R01585F\",\\n            \"NumCode\": \"946\",\\n            \"CharCode\": \"RON\",\\n            \"Nominal\": 1,\\n            \"Name\": \"Румынский лей\",\\n            \"Value\": 18.5148,\\n            \"Previous\": 18.628\\n        },\\n        \"XDR\": {\\n            \"ID\": \"R01589\",\\n            \"NumCode\": \"960\",\\n            \"CharCode\": \"XDR\",\\n            \"Nominal\": 1,\\n            \"Name\": \"СДР (специальные права заимствования)\",\\n            \"Value\": 114.7732,\\n            \"Previous\": 115.1053\\n        },\\n        \"SGD\": {\\n            \"ID\": \"R01625\",\\n            \"NumCode\": \"702\",\\n            \"CharCode\": \"SGD\",\\n            \"Nominal\": 1,\\n            \"Name\": \"Сингапурский доллар\",\\n            \"Value\": 61.4373,\\n            \"Previous\": 61.5924\\n        },\\n        \"TJS\": {\\n            \"ID\": \"R01670\",\\n            \"NumCode\": \"972\",\\n            \"CharCode\": \"TJS\",\\n            \"Nominal\": 10,\\n            \"Name\": \"Таджикских сомони\",\\n            \"Value\": 66.6816,\\n            \"Previous\": 66.8746\\n        },\\n        \"TRY\": {\\n            \"ID\": \"R01700J\",\\n            \"NumCode\": \"949\",\\n            \"CharCode\": \"TRY\",\\n            \"Nominal\": 10,\\n            \"Name\": \"Турецких лир\",\\n            \"Value\": 56.6681,\\n            \"Previous\": 56.8681\\n        },\\n        \"TMT\": {\\n            \"ID\": \"R01710A\",\\n            \"NumCode\": \"934\",\\n            \"CharCode\": \"TMT\",\\n            \"Nominal\": 1,\\n            \"Name\": \"Новый туркменский манат\",\\n            \"Value\": 23.8149,\\n            \"Previous\": 23.8838\\n        },\\n        \"UZS\": {\\n            \"ID\": \"R01717\",\\n            \"NumCode\": \"860\",\\n            \"CharCode\": \"UZS\",\\n            \"Nominal\": 10000,\\n            \"Name\": \"Узбекских сумов\",\\n            \"Value\": 73.0613,\\n            \"Previous\": 73.2977\\n        },\\n        \"UAH\": {\\n            \"ID\": \"R01720\",\\n            \"NumCode\": \"980\",\\n            \"CharCode\": \"UAH\",\\n            \"Nominal\": 10,\\n            \"Name\": \"Украинских гривен\",\\n            \"Value\": 28.351,\\n            \"Previous\": 28.3624\\n        },\\n        \"CZK\": {\\n            \"ID\": \"R01760\",\\n            \"NumCode\": \"203\",\\n            \"CharCode\": \"CZK\",\\n            \"Nominal\": 10,\\n            \"Name\": \"Чешских крон\",\\n            \"Value\": 37.5612,\\n            \"Previous\": 37.8267\\n        },\\n        \"SEK\": {\\n            \"ID\": \"R01770\",\\n            \"NumCode\": \"752\",\\n            \"CharCode\": \"SEK\",\\n            \"Nominal\": 10,\\n            \"Name\": \"Шведских крон\",\\n            \"Value\": 88.6733,\\n            \"Previous\": 89.1271\\n        },\\n        \"CHF\": {\\n            \"ID\": \"R01775\",\\n            \"NumCode\": \"756\",\\n            \"CharCode\": \"CHF\",\\n            \"Nominal\": 1,\\n            \"Name\": \"Швейцарский франк\",\\n            \"Value\": 89.9741,\\n            \"Previous\": 90.1761\\n        },\\n        \"ZAR\": {\\n            \"ID\": \"R01810\",\\n            \"NumCode\": \"710\",\\n            \"CharCode\": \"ZAR\",\\n            \"Nominal\": 10,\\n            \"Name\": \"Южноафриканских рэндов\",\\n            \"Value\": 57.3221,\\n            \"Previous\": 57.3192\\n        },\\n        \"KRW\": {\\n            \"ID\": \"R01815\",\\n            \"NumCode\": \"410\",\\n            \"CharCode\": \"KRW\",\\n            \"Nominal\": 1000,\\n            \"Name\": \"Вон Республики Корея\",\\n            \"Value\": 68.7326,\\n            \"Previous\": 68.835\\n        },\\n        \"JPY\": {\\n            \"ID\": \"R01820\",\\n            \"NumCode\": \"392\",\\n            \"CharCode\": \"JPY\",\\n            \"Nominal\": 100,\\n            \"Name\": \"Японских иен\",\\n            \"Value\": 68.0147,\\n            \"Previous\": 68.2784\\n        }\\n    }\\n}'"
     },
     "execution_count": 3,
     "metadata": {},
     "output_type": "execute_result"
    }
   ],
   "source": [
    "response.text"
   ],
   "metadata": {
    "collapsed": false,
    "pycharm": {
     "name": "#%%\n"
    }
   }
  },
  {
   "cell_type": "code",
   "execution_count": 4,
   "outputs": [
    {
     "name": "stdout",
     "output_type": "stream",
     "text": [
      "{'Date': '2022-04-06T11:30:00+03:00',\n",
      " 'PreviousDate': '2022-04-05T11:30:00+03:00',\n",
      " 'PreviousURL': '//www.cbr-xml-daily.ru/archive/2022/04/05/daily_json.js',\n",
      " 'Timestamp': '2022-04-06T14:00:00+03:00',\n",
      " 'Valute': {'AMD': {'CharCode': 'AMD',\n",
      "                    'ID': 'R01060',\n",
      "                    'Name': 'Армянских драмов',\n",
      "                    'Nominal': 100,\n",
      "                    'NumCode': '051',\n",
      "                    'Previous': 17.3017,\n",
      "                    'Value': 17.3077},\n",
      "            'AUD': {'CharCode': 'AUD',\n",
      "                    'ID': 'R01010',\n",
      "                    'Name': 'Австралийский доллар',\n",
      "                    'Nominal': 1,\n",
      "                    'NumCode': '036',\n",
      "                    'Previous': 62.8119,\n",
      "                    'Value': 63.4725},\n",
      "            'AZN': {'CharCode': 'AZN',\n",
      "                    'ID': 'R01020A',\n",
      "                    'Name': 'Азербайджанский манат',\n",
      "                    'Nominal': 1,\n",
      "                    'NumCode': '944',\n",
      "                    'Previous': 49.1725,\n",
      "                    'Value': 49.0306},\n",
      "            'BGN': {'CharCode': 'BGN',\n",
      "                    'ID': 'R01100',\n",
      "                    'Name': 'Болгарский лев',\n",
      "                    'Nominal': 1,\n",
      "                    'NumCode': '975',\n",
      "                    'Previous': 47.2358,\n",
      "                    'Value': 46.9007},\n",
      "            'BRL': {'CharCode': 'BRL',\n",
      "                    'ID': 'R01115',\n",
      "                    'Name': 'Бразильский реал',\n",
      "                    'Nominal': 1,\n",
      "                    'NumCode': '986',\n",
      "                    'Previous': 17.7941,\n",
      "                    'Value': 18.0537},\n",
      "            'BYN': {'CharCode': 'BYN',\n",
      "                    'ID': 'R01090B',\n",
      "                    'Name': 'Белорусский рубль',\n",
      "                    'Nominal': 1,\n",
      "                    'NumCode': '933',\n",
      "                    'Previous': 28.3607,\n",
      "                    'Value': 28.3231},\n",
      "            'CAD': {'CharCode': 'CAD',\n",
      "                    'ID': 'R01350',\n",
      "                    'Name': 'Канадский доллар',\n",
      "                    'Nominal': 1,\n",
      "                    'NumCode': '124',\n",
      "                    'Previous': 66.8104,\n",
      "                    'Value': 66.735},\n",
      "            'CHF': {'CharCode': 'CHF',\n",
      "                    'ID': 'R01775',\n",
      "                    'Name': 'Швейцарский франк',\n",
      "                    'Nominal': 1,\n",
      "                    'NumCode': '756',\n",
      "                    'Previous': 90.1761,\n",
      "                    'Value': 89.9741},\n",
      "            'CNY': {'CharCode': 'CNY',\n",
      "                    'ID': 'R01375',\n",
      "                    'Name': 'Китайский юань',\n",
      "                    'Nominal': 1,\n",
      "                    'NumCode': '156',\n",
      "                    'Previous': 13.1372,\n",
      "                    'Value': 13.0993},\n",
      "            'CZK': {'CharCode': 'CZK',\n",
      "                    'ID': 'R01760',\n",
      "                    'Name': 'Чешских крон',\n",
      "                    'Nominal': 10,\n",
      "                    'NumCode': '203',\n",
      "                    'Previous': 37.8267,\n",
      "                    'Value': 37.5612},\n",
      "            'DKK': {'CharCode': 'DKK',\n",
      "                    'ID': 'R01215',\n",
      "                    'Name': 'Датская крона',\n",
      "                    'Nominal': 1,\n",
      "                    'NumCode': '208',\n",
      "                    'Previous': 12.4197,\n",
      "                    'Value': 12.3316},\n",
      "            'EUR': {'CharCode': 'EUR',\n",
      "                    'ID': 'R01239',\n",
      "                    'Name': 'Евро',\n",
      "                    'Nominal': 1,\n",
      "                    'NumCode': '978',\n",
      "                    'Previous': 92.3872,\n",
      "                    'Value': 91.7289},\n",
      "            'GBP': {'CharCode': 'GBP',\n",
      "                    'ID': 'R01035',\n",
      "                    'Name': 'Фунт стерлингов Соединенного королевства',\n",
      "                    'Nominal': 1,\n",
      "                    'NumCode': '826',\n",
      "                    'Previous': 109.5907,\n",
      "                    'Value': 109.3245},\n",
      "            'HKD': {'CharCode': 'HKD',\n",
      "                    'ID': 'R01200',\n",
      "                    'Name': 'Гонконгский доллар',\n",
      "                    'Nominal': 1,\n",
      "                    'NumCode': '344',\n",
      "                    'Previous': 10.6883,\n",
      "                    'Value': 10.6602},\n",
      "            'HUF': {'CharCode': 'HUF',\n",
      "                    'ID': 'R01135',\n",
      "                    'Name': 'Венгерских форинтов',\n",
      "                    'Nominal': 100,\n",
      "                    'NumCode': '348',\n",
      "                    'Previous': 24.9868,\n",
      "                    'Value': 24.6757},\n",
      "            'INR': {'CharCode': 'INR',\n",
      "                    'ID': 'R01270',\n",
      "                    'Name': 'Индийских рупий',\n",
      "                    'Nominal': 10,\n",
      "                    'NumCode': '356',\n",
      "                    'Previous': 10.9621,\n",
      "                    'Value': 10.9713},\n",
      "            'JPY': {'CharCode': 'JPY',\n",
      "                    'ID': 'R01820',\n",
      "                    'Name': 'Японских иен',\n",
      "                    'Nominal': 100,\n",
      "                    'NumCode': '392',\n",
      "                    'Previous': 68.2784,\n",
      "                    'Value': 68.0147},\n",
      "            'KGS': {'CharCode': 'KGS',\n",
      "                    'ID': 'R01370',\n",
      "                    'Name': 'Киргизских сомов',\n",
      "                    'Nominal': 100,\n",
      "                    'NumCode': '417',\n",
      "                    'Previous': 97.4658,\n",
      "                    'Value': 97.2602},\n",
      "            'KRW': {'CharCode': 'KRW',\n",
      "                    'ID': 'R01815',\n",
      "                    'Name': 'Вон Республики Корея',\n",
      "                    'Nominal': 1000,\n",
      "                    'NumCode': '410',\n",
      "                    'Previous': 68.835,\n",
      "                    'Value': 68.7326},\n",
      "            'KZT': {'CharCode': 'KZT',\n",
      "                    'ID': 'R01335',\n",
      "                    'Name': 'Казахстанских тенге',\n",
      "                    'Nominal': 100,\n",
      "                    'NumCode': '398',\n",
      "                    'Previous': 17.6894,\n",
      "                    'Value': 17.6309},\n",
      "            'MDL': {'CharCode': 'MDL',\n",
      "                    'ID': 'R01500',\n",
      "                    'Name': 'Молдавских леев',\n",
      "                    'Nominal': 10,\n",
      "                    'NumCode': '498',\n",
      "                    'Previous': 45.5618,\n",
      "                    'Value': 45.4745},\n",
      "            'NOK': {'CharCode': 'NOK',\n",
      "                    'ID': 'R01535',\n",
      "                    'Name': 'Норвежских крон',\n",
      "                    'Nominal': 10,\n",
      "                    'NumCode': '578',\n",
      "                    'Previous': 95.6116,\n",
      "                    'Value': 96.062},\n",
      "            'PLN': {'CharCode': 'PLN',\n",
      "                    'ID': 'R01565',\n",
      "                    'Name': 'Польский злотый',\n",
      "                    'Nominal': 1,\n",
      "                    'NumCode': '985',\n",
      "                    'Previous': 19.8644,\n",
      "                    'Value': 19.7129},\n",
      "            'RON': {'CharCode': 'RON',\n",
      "                    'ID': 'R01585F',\n",
      "                    'Name': 'Румынский лей',\n",
      "                    'Nominal': 1,\n",
      "                    'NumCode': '946',\n",
      "                    'Previous': 18.628,\n",
      "                    'Value': 18.5148},\n",
      "            'SEK': {'CharCode': 'SEK',\n",
      "                    'ID': 'R01770',\n",
      "                    'Name': 'Шведских крон',\n",
      "                    'Nominal': 10,\n",
      "                    'NumCode': '752',\n",
      "                    'Previous': 89.1271,\n",
      "                    'Value': 88.6733},\n",
      "            'SGD': {'CharCode': 'SGD',\n",
      "                    'ID': 'R01625',\n",
      "                    'Name': 'Сингапурский доллар',\n",
      "                    'Nominal': 1,\n",
      "                    'NumCode': '702',\n",
      "                    'Previous': 61.5924,\n",
      "                    'Value': 61.4373},\n",
      "            'TJS': {'CharCode': 'TJS',\n",
      "                    'ID': 'R01670',\n",
      "                    'Name': 'Таджикских сомони',\n",
      "                    'Nominal': 10,\n",
      "                    'NumCode': '972',\n",
      "                    'Previous': 66.8746,\n",
      "                    'Value': 66.6816},\n",
      "            'TMT': {'CharCode': 'TMT',\n",
      "                    'ID': 'R01710A',\n",
      "                    'Name': 'Новый туркменский манат',\n",
      "                    'Nominal': 1,\n",
      "                    'NumCode': '934',\n",
      "                    'Previous': 23.8838,\n",
      "                    'Value': 23.8149},\n",
      "            'TRY': {'CharCode': 'TRY',\n",
      "                    'ID': 'R01700J',\n",
      "                    'Name': 'Турецких лир',\n",
      "                    'Nominal': 10,\n",
      "                    'NumCode': '949',\n",
      "                    'Previous': 56.8681,\n",
      "                    'Value': 56.6681},\n",
      "            'UAH': {'CharCode': 'UAH',\n",
      "                    'ID': 'R01720',\n",
      "                    'Name': 'Украинских гривен',\n",
      "                    'Nominal': 10,\n",
      "                    'NumCode': '980',\n",
      "                    'Previous': 28.3624,\n",
      "                    'Value': 28.351},\n",
      "            'USD': {'CharCode': 'USD',\n",
      "                    'ID': 'R01235',\n",
      "                    'Name': 'Доллар США',\n",
      "                    'Nominal': 1,\n",
      "                    'NumCode': '840',\n",
      "                    'Previous': 83.5932,\n",
      "                    'Value': 83.352},\n",
      "            'UZS': {'CharCode': 'UZS',\n",
      "                    'ID': 'R01717',\n",
      "                    'Name': 'Узбекских сумов',\n",
      "                    'Nominal': 10000,\n",
      "                    'NumCode': '860',\n",
      "                    'Previous': 73.2977,\n",
      "                    'Value': 73.0613},\n",
      "            'XDR': {'CharCode': 'XDR',\n",
      "                    'ID': 'R01589',\n",
      "                    'Name': 'СДР (специальные права заимствования)',\n",
      "                    'Nominal': 1,\n",
      "                    'NumCode': '960',\n",
      "                    'Previous': 115.1053,\n",
      "                    'Value': 114.7732},\n",
      "            'ZAR': {'CharCode': 'ZAR',\n",
      "                    'ID': 'R01810',\n",
      "                    'Name': 'Южноафриканских рэндов',\n",
      "                    'Nominal': 10,\n",
      "                    'NumCode': '710',\n",
      "                    'Previous': 57.3192,\n",
      "                    'Value': 57.3221}}}\n"
     ]
    }
   ],
   "source": [
    "from pprint import pprint # Импортируем функцию pprint()\n",
    "currencies = response.json() # Применяем метод json()\n",
    "pprint(currencies)"
   ],
   "metadata": {
    "collapsed": false,
    "pycharm": {
     "name": "#%%\n"
    }
   }
  },
  {
   "cell_type": "code",
   "execution_count": 5,
   "outputs": [
    {
     "name": "stdout",
     "output_type": "stream",
     "text": [
      "{'CharCode': 'EUR',\n",
      " 'ID': 'R01239',\n",
      " 'Name': 'Евро',\n",
      " 'Nominal': 1,\n",
      " 'NumCode': '978',\n",
      " 'Previous': 92.3872,\n",
      " 'Value': 91.7289}\n"
     ]
    }
   ],
   "source": [
    "pprint(currencies['Valute']['EUR'])"
   ],
   "metadata": {
    "collapsed": false,
    "pycharm": {
     "name": "#%%\n"
    }
   }
  },
  {
   "cell_type": "code",
   "execution_count": 6,
   "outputs": [
    {
     "name": "stdout",
     "output_type": "stream",
     "text": [
      "Чешских крон\n"
     ]
    }
   ],
   "source": [
    "print(currencies['Valute']['CZK']['Name'])"
   ],
   "metadata": {
    "collapsed": false,
    "pycharm": {
     "name": "#%%\n"
    }
   }
  },
  {
   "cell_type": "code",
   "execution_count": 7,
   "outputs": [
    {
     "data": {
      "text/plain": "'<!doctype html>\\n<html class=\"old-town-road no-js bg-fixed _no-bg\" style=\"background-image:url(https://nplus1.ru/images/2021/10/11/9c6bcb5f7c01c6d88d49410e16ebc003.jpg)\" lang=\"\">\\n<head>\\n    \\n    <meta charset=\"utf-8\">\\n    <meta http-equiv=\"x-ua-compatible\" content=\"ie=edge\">\\n    <meta name=\"viewport\" content=\"width=device-width, initial-scale=1\">\\n        <meta name=\"apple-mobile-web-app-capable\" content=\"yes\">\\n    <meta name=\"apple-mobile-web-app-status-bar-style\" content=\"black\">\\n                <meta name=\\'wmail-verification\\' content=\\'7991d7eb02d759f05b9050e111a7e3eb\\' />\\n\\n    <link rel=\"canonical\" href=\"https://nplus1.ru/news/2021/10/11/econobel2021\" />\\n\\n    <link rel=\"icon\" href=\"/i/favicon-bw.png\" />\\n\\n\\n        <title>Премию Нобеля по экономике присудили за исследования экономики труда и причинно-следственных связей</title>\\n\\n    \\t    <meta itemprop=\"datePublished\" content=\"2021-10-11\"/>\\n\\t\\n\\t    <meta name=\"mediator_author\" content=\"Илья Ферапонтов\"/> \\n\\t\\n        <!-- amp page -->\\n    <link rel=\"amphtml\" href=\"https://nplus1.ru/news/2021/10/11/econobel2021/amp\">\\n    \\n\\n        <!-- for Google -->\\n        <meta name=\"description\" content=\"Премия присуждена Дэвиду Карду (David Card) за его вклад в эмпирические исследования экономики рынка труда, а также Джошуа Энгристу (Joshua Angrist) и Гвидо Имбенсу (Guido Imbens) за их вклад в методологию анализа причинно-следственных связей. \" />\\n        \\n        <meta name=\"author\" content=\"Илья Ферапонтов\" />\\n        <meta name=\"copyright\" content=\"\" />\\n\\n        <!-- for Facebook -->\\n        <meta property=\"og:title\" content=\"Премию Нобеля по экономике присудили за исследования экономики труда и причинно-следственных связей\" />\\n                <meta property=\"og:image\" content=\"https://nplus1.ru/images/2021/10/11/7117bddc1d6a6e180ef208ba72511f03.jpg\" />\\n        <meta property=\"og:url\" content=\"https://nplus1.ru/news/2021/10/11/econobel2021\" />\\n        <meta property=\"og:description\" content=\"Премия присуждена Дэвиду Карду (David Card) за его вклад в эмпирические исследования экономики рынка труда, а также Джошуа Энгристу (Joshua Angrist) и Гвидо Имбенсу (Guido Imbens) за их вклад в методологию анализа причинно-следственных связей. \" />\\n        <!-- for Twitter -->\\n        <meta name=\"twitter:card\" content=\"summary_large_image\">\\n        <meta name=\"twitter:site\" content=\"@nplusodin\" />\\n        <meta name=\"twitter:title\" content=\"Премию Нобеля по экономике присудили за исследования экономики труда и причинно-следственных связей\" />\\n        <meta name=\"twitter:description\" content=\"Премия присуждена Дэвиду Карду (David Card) за его вклад в эмпирические исследования экономики рынка труда, а также Джошуа Энгристу (Joshua Angrist) и Гвидо Имбенсу (Guido Imbens) за их вклад в методологию анализа причинно-следственных связей. \" />\\n        <meta name=\"twitter:image\" content=\"https://nplus1.ru/images/2021/10/11/7117bddc1d6a6e180ef208ba72511f03.jpg\" />\\n        \\n        <meta name=\"yandex-verification\" content=\"8c90b02c84ac3b72\" />\\n        <meta name=\"pmail-verification\" content=\"b419949322895fc9106e24ed01be58ac\">\\n        \\n\\n        <link rel=\\'alternate\\' type=\\'application/rss+xml\\' title=\\'RSS\\' href=\\'https://nplus1.ru/rss\\'>\\n\\n    <link rel=\"stylesheet\" href=\"/css/font-awesome.min.css\">\\n    <link rel=\"stylesheet\" href=\"/css/main.min.css?v=1649061972\">\\n    <link rel=\"stylesheet\" href=\"/css/desktop.min.css?v=1452887696\">\\n    <link rel=\"stylesheet\" href=\"/css/tablet.min.css?v=1499281342\">\\n    <link rel=\"stylesheet\" href=\"/css/mobile.min.css?v=1635965090\">\\n    <link rel=\"stylesheet\" href=\"/js/tests/scopus/css/style.css\">\\n    \\n            <script src=\"//ajax.googleapis.com/ajax/libs/jquery/1.11.2/jquery.min.js\"></script>\\n    \\n    <script src=\"//cdnjs.cloudflare.com/ajax/libs/modernizr/2.8.3/modernizr.min.js\"></script>     \\n    \\n            <script type=\"text/javascript\" src=\"/js/lib/adfox.asyn.code.ver3.js\"> </script>\\n\\t\\t<script type=\"text/javascript\" src=\"/js/lib/adfox.asyn.code.scroll.js\"> </script>\\n\\t    <script src=\"https://yastatic.net/pcode/adfox/loader.js\" crossorigin=\"anonymous\"></script>\\n        <script async id=\"__lxGc__rtr\" type=\"text/javascript\" src=\"//s.clickiocdn.com/t/195458/360.js\"></script>\\n        <script async type=\"text/javascript\" src=\"//s.luxupcdnc.com/t/common_402.js\"></script>\\t\\t\\n\\n\\t\\t<!--  ad -->\\n\\t\\t<script type=\"text/javascript\">\\n\\t\\t    var __colAdLoaded = false;\\n\\t\\t    var __topAdLoaded = false;\\n\\t\\t    \\n\\t\\t    var __id = \"\";\\n\\t\\t    \\n\\t\\t    function detectAd(id){\\n\\t\\t        var _ad = document.getElementById(\"AdFox_banner_\"+id);\\n\\t\\t    \\t    console.debug(_ad);\\n\\t\\t        \\n\\t\\t        __id = id;\\n\\t\\t        if(_ad != null && _ad.innerHTML == \"\"){\\n\\t\\t            $(\".col-ad\").remove();\\n\\t\\t        }\\n\\t\\t        __colAdLoaded = true;\\n\\t\\t    }\\n\\t\\t    function detectAdTop(id){\\n\\t\\t        __topAdLoaded = true;\\n\\t\\t    }\\n\\t\\t</script>\\n\\t\\t<!-- /ad -->\\n\\t\\t\\n\\t\\t\\n\\t\\t    \\n\\n\\n<script type=\"application/ld+json\">{\"@context\":\"http://schema.org\",\"@type\":\"NewsArticle\",\"mainEntityOfPage\":{\"@type\":\"WebPage\",\"@id\":\"https://nplus1.ru/news/2021/10/11/econobel2021\"},\"headline\":\"Премию Нобеля по экономике присудили за исследования экономики труда и причинно-следственных связей\",\"description\":\"Премия присуждена Дэвиду Карду (David Card) за его вклад в эмпирические исследования экономики рынка труда, а также Джошуа Энгристу (Joshua Angrist) и Гвидо Имбенсу (Guido Imbens) за их вклад в методологию анализа причинно-следственных связей. \",\"image\":\"https://nplus1.ru/images/2021/10/11/7117bddc1d6a6e180ef208ba72511f03.jpg\",\"author\":{\"@type\":\"Person\",\"name\":\"Илья Ферапонтов\"},\"publisher\":{\"@type\":\"Organization\",\"name\":\"N + 1\",\"logo\":{\"@type\":\"ImageObject\",\"url\":\"https://nplus1.ru/i/logo-alt.png\"}},\"datePublished\":\"2021-10-11\"}</script>\\n</head>\\n<body style=\"background-image:url(https://nplus1.ru/images/2021/10/11/9c6bcb5f7c01c6d88d49410e16ebc003.jpg)\" class=\"_inner  \">\\n\\n<div class=\"shadow-overlay\"></div>\\n<link property=\\'\\' rel=\\'stylesheet\\' href=\\'//s.luxupcdnc.com/cp/all/cookies_policy.css\\' />\\n<script type=\\'text/javascript\\'>_cookies_policy = {dark:0,bottom:1,text:\\'Этот сайт использует cookies для улучшения качества работы\\',link:\\'Подробнее\\',href:\\'https://nplus1.ru/cookies-policy\\',button:\\'Закрыть\\'};</script>\\n<script async type=\\'text/javascript\\' src=\\'//s.luxupcdnc.com/cp/all/cookies_policy.js\\'></script>\\n\\n\\n\\n\\n\\n\\n<div class=\"thx-rospechat\">\\n            Функционирует при финансовой поддержке Федерального агентства по печати и массовым коммуникациям (Роспечать)\\n    </div>\\n\\n    <div id=\"viewport\">\\n\\t<div id=\"shadow\"></div>\\n        <div class=\"ad ad-top\">\\n        \\n                                                    \\n                    \\n    \\n    \\n                        \\t    <!-- bh1 -->\\n\\n\\n<!--AdFox START-->\\n<!--yandex_nplus1adv-->\\n<!--Площадка: N + 1 / * / *-->\\n<!--Тип баннера: Растяжка_100%х250-->\\n<!--Расположение: <верх страницы>-->\\n<div id=\"adfox_162739969569252320\"></div>\\n<script>\\n    window.yaContextCb.push(()=>{\\n        Ya.adfoxCode.create({\\n            ownerId: 386110,\\n        containerId: \\'adfox_162739969569252320\\',\\n            params: {\\n                pp: \\'g\\',\\n            ps: \\'fbio\\',\\n            p2: \\'hhkj\\'\\n            }\\n        })\\n    })\\n</script>\\n\\n\\n\\n\\t\\t                        \\n        </div>\\n        <header id=\"header-mobile\">\\n            \\n            <div class=\"container\">\\n                <a href=\"#\" class=\"action-menu pull-left\"><i class=\"icon icon-navicon\"></i></a>\\n                <a href=\"/\" class=\"link-logo\"><img src=\"/i/logo-mobile.png\"/></a>\\n                <a href=\"#\" class=\"action-search pull-right\"><i class=\"icon icon-search\"></i></a>\\n                <form action=\"/search\" method=\"get\" class=\"form-search\">\\n                    <div class=\"control\">\\n                        <input type=\"text\" name=\"q\" placeholder=\"Найти\" value=\"\"/>\\n                    </div>\\n                    <a href=\"#\" class=\"action-search-close\">×</a>\\n                </form>\\n            </div>\\n            <nav class=\"nav-rubrics\">\\n    <ul>\\n                <li>\\n            <a href=\"/rubric/astronomy\" class=\"\">Астрономия</a>\\n        </li>    \\n                <li>\\n            <a href=\"/rubric/physics\" class=\"\">Физика</a>\\n        </li>    \\n                <li>\\n            <a href=\"/rubric/biology\" class=\"\">Биология</a>\\n        </li>    \\n                <li>\\n            <a href=\"/rubric/robots-drones\" class=\"\">Роботы и дроны</a>\\n        </li>    \\n        \\n                                    <li>\\n                    <a href=\"/theme/bookshelf\" class=\"\">Книжная полка</a>\\n                </li>\\n                            <li>\\n                    <a href=\"/theme/Courses\" class=\"\">Курсы</a>\\n                </li>\\n                            <li>\\n                    <a href=\"/theme/coronavirus-history\" class=\"\">Коронавирусные хроники</a>\\n                </li>\\n                            <li>\\n                    <a href=\"/theme/offline\" class=\"\">N + Offline</a>\\n                </li>\\n                    \\n            </ul>\\n</nav>\\n\\n        </header>\\n        \\n    \\n        <div id=\"layout\" class=\"js-mediator-container\">\\n            <!-- header -->\\n                        <header id=\"header\" class=\"_middle\">\\n    <div class=\"row\">\\n        \\n        <div class=\"col col-logo\">\\n            <a href=\"/\" class=\"link-logo\"></a>\\n        </div>\\n        <div class=\"col col-nav-main\">\\n            <form action=\"/search\" method=\"get\" class=\"form-search\">\\n                <div class=\"control\">\\n                    <input type=\"text\" name=\"q\" placeholder=\"Найти\" value=\"\"/>\\n                </div>\\n                <a href=\"#\" class=\"action-search-close\">×</a>\\n            </form>\\n            \\n            <nav class=\"nav-rubrics\">\\n    <ul>\\n                <li>\\n            <a href=\"/rubric/astronomy\" class=\"\">Астрономия</a>\\n        </li>    \\n                <li>\\n            <a href=\"/rubric/physics\" class=\"\">Физика</a>\\n        </li>    \\n                <li>\\n            <a href=\"/rubric/biology\" class=\"\">Биология</a>\\n        </li>    \\n                <li>\\n            <a href=\"/rubric/robots-drones\" class=\"\">Роботы и дроны</a>\\n        </li>    \\n        \\n        \\n                <li>\\n            <a href=\"#\" class=\"action-search\"><i class=\"icon icon-search\"></i></a>\\n        </li>\\n            </ul>\\n</nav>            <nav class=\"nav-themes\">\\n    <ul>\\n                <li data-name=\"bookshelf\">\\n            <a href=\"/theme/bookshelf\" class=\"\">Книжная полка</a>\\n        </li>    \\n                <li data-name=\"Courses\">\\n            <a href=\"/theme/Courses\" class=\"\">Курсы</a>\\n        </li>    \\n                <li data-name=\"coronavirus-history\">\\n            <a href=\"/theme/coronavirus-history\" class=\"\">Коронавирусные хроники</a>\\n        </li>    \\n                <li data-name=\"offline\">\\n            <a href=\"/theme/offline\" class=\"\">N + Offline</a>\\n        </li>    \\n            </ul>\\n</nav>            \\n        </div>\\n    </div>\\n        <div class=\"container line-up\">\\n        <div class=\"line line-second\">\\n                                            <a href=\"https://nplus1.ru/blog/2022/03/31/please-to-meet-me\" class=\"action-line-toggle\">\\n                    <div class=\"heading\"><span></span></div>\\n                </a>\\n                                <a href=\"https://nplus1.ru/blog/2022/03/31/please-to-meet-me\" class=\"container-link\">\\n                    <div class=\"heading\"><span>Книжная полка</span></div>\\n                    <div class=\"link\"><span>Билл Салливан &laquo;Познакомьтесь с собой. Как гены, микробы и нейроны делают нас теми, кто мы есть&raquo;</span></div>\\n                </a>\\n                                <a href=\"https://nplus1.ru/blog/2022/03/29/origins\" class=\"container-link\">\\n                    <div class=\"heading\"><span>Книжная полка</span></div>\\n                    <div class=\"link\"><span>Льюис Дартнелл &laquo;Происхождение. Как Земля создала нас&raquo;</span></div>\\n                </a>\\n                                <a href=\"https://nplus1.ru/blog/2022/03/25/stranger-than-we-can-imagine\" class=\"container-link\">\\n                    <div class=\"heading\"><span>Книжная полка</span></div>\\n                    <div class=\"link\"><span>Джон Хиггс &laquo;Все страньше и страньше&raquo;</span></div>\\n                </a>\\n                                <a href=\"https://nplus1.ru/blog/2022/03/23/close-encounters-with-humankind\" class=\"container-link\">\\n                    <div class=\"heading\"><span>Книжная полка</span></div>\\n                    <div class=\"link\"><span>Санхи Ли &laquo;Близкие контакты далеких предков: Как эволюционировал наш вид&raquo;</span></div>\\n                </a>\\n                                <a href=\"https://nplus1.ru/blog/2022/03/21/swallow-this\" class=\"container-link\">\\n                    <div class=\"heading\"><span>Книжная полка</span></div>\\n                    <div class=\"link\"><span>Джоанна Блайтмэн &laquo;По косточкам. Разделываем пищевую индустрию на части&raquo;</span></div>\\n                </a>\\n                                <a href=\"https://nplus1.ru/blog/2022/03/17/sincerity-after-communism\" class=\"container-link\">\\n                    <div class=\"heading\"><span>Книжная полка</span></div>\\n                    <div class=\"link\"><span>Эллен Руттен &laquo;Искренность после коммунизма: культурная история&raquo;</span></div>\\n                </a>\\n                                <a href=\"https://nplus1.ru/blog/2022/03/16/what-does-rain-smell-like\" class=\"container-link\">\\n                    <div class=\"heading\"><span>Книжная полка</span></div>\\n                    <div class=\"link\"><span>Саймон Кинг, Клэр Насир &laquo;Чем пахнет дождь?&raquo;</span></div>\\n                </a>\\n                                <a href=\"https://nplus1.ru/blog/2022/03/14/geneweap\" class=\"container-link\">\\n                    <div class=\"heading\"><span>Давайте разберемся</span></div>\\n                    <div class=\"link\"><span>Из пушки по генам: что не так с &laquo;этнически ориентированным&raquo; оружием</span></div>\\n                </a>\\n                                <a href=\"https://nplus1.ru/blog/2022/03/10/microbes\" class=\"container-link\">\\n                    <div class=\"heading\"><span>Давайте разберемся</span></div>\\n                    <div class=\"link\"><span>Экстренное уничтожение: от каких бактерий избавлялись в украинских лабораториях</span></div>\\n                </a>\\n                                                \\t\\t           \\t<a href=\"https://nplus1.ru/blog/2022/04/05/junkyard-planet\" class=\"container-link active\">\\n        \\t        \\t<div class=\"heading\"><span>Книжная полка</span></div>\\n            \\t    \\t<div class=\"link\"><span>Адам Минтер &laquo;Планета свалок: Путешествия по многомиллиардной индустрии мусора&raquo;</span></div>\\n\\t\\t            </a>\\n\\t                                    \\n            <!-- here -->\\n                    </div>\\n        \\n    </div>\\n    </header>                        <!-- /header -->\\n            <!--  hero -->\\n                            <!-- /hero -->\\n            <!-- main section -->\\n            <section id=\"main\">\\n                \\n                \\n    <div class=\"container _middle\">\\n        <div class=\"row\" data-adaptive=\"1\" data-tablet-class=\"row-wrap\" data-mobile-class=\"row-wrap\">\\n            <div class=\"col col-3\" data-adaptive=\"1\" data-mobile-class=\"col-1\">\\n\\n                <article class=\"content\" id=\"article\" data-id=\"30917\" data-visit=\"1\" data-type=\"0\">\\n                                        <div class=\"meta\">\\n    <div class=\"tables\">\\n        <p class=\"table\">\\n                        <a data-rubric=\"economics\" href=\"/rubric/economics\">Экономика</a>\\n                                                <a data-theme=\"nobelprize\" href=\"/theme/nobelprize\">Нобелевская премия</a>\\n                    </p>\\n        <p class=\"table\">\\n            <a href=\"/news/2021/10/11\">\\n                <time itemprop=\"datePublished\" content=\"2021-10-11\" data-unix=\"1633946665\">\\n                    <span>13:04</span>\\n                    <span>11 Окт. 2021</span>\\n                </time>\\n            </a>\\n        </p>\\n        <p class=\"table\">\\n            <a href=\"/difficult/1.1\">\\n                <span>Сложность</span>\\n                <span class=\"difficult-value\">1.1</span>\\n            </a>\\n        </p>\\n    </div>\\n</div>\\n<script type=\"text/javascript\">\\n    var _dlData = {custom_rubric: []};\\n        _dlData.custom_author = \\'Илья Ферапонтов\\';\\n        _dlData.custom_difficult = \\'1.1\\';\\n        _dlData.custom_rubric.push(\\'Экономика\\');\\n                _dlData.custom_theme = \\'Нобелевская премия\\';\\n        \\n    window.dataLayer = window.dataLayer || [];\\n    window.dataLayer.push(_dlData);\\n</script>\\n                                        <div class=\"share-mobile\">\\n                        <nav class=\"nav-share\">\\n    <ul class=\"social-likes\">\\n\\t\\t<li class=\"facebook\"></li>\\n\\t\\t<li class=\"twitter\"></li>\\n\\t\\t<li class=\"vkontakte\"></li>\\n\\t\\t<li class=\"odnoklassniki\"></li>\\n    </ul>\\n</nav>\\n                    </div>\\n\\n                    <header class=\"hero hero-lite\">\\n                        <div>\\n                            <h1>Премию Нобеля по экономике присудили за исследования экономики труда и причинно-следственных связей</h1>\\n                        </div>\\n                    </header>\\n                                        <div class=\"body js-mediator-article\">\\n                                                                                                                            <div class=\"article-image\">\\n                            <figure>\\n                                <img src=\"https://nplus1.ru/images/2021/10/11/9c6bcb5f7c01c6d88d49410e16ebc003.jpg\"/>\\n                                                                                            </figure>\\n                        </div>\\n                                                \\n                                                    <!-- -->\\n                                                        <!-- -->\\n                            \\n                                                                                            <p>Премия Шведского национального банка по&nbsp;экономическим наукам памяти Альфреда Нобеля за&nbsp;2021 год присуждена Дэвиду Карду (David Card) за его вклад в эмпирические исследования экономики рынка труда, а также Джошуа Энгристу (Joshua Angrist) и Гвидо Имбенсу (Guido Imbens) за их вклад в методологию анализа причинно-следственных связей. Прямая трансляция церемонии объявления лауреатов <a href=\"https://www.nobelprize.org/\" target=\"_blank\">шла</a>&nbsp;на&nbsp;официальном сайте Нобелевской премии.</p>\\n\\n<div class=\"incut incut-gallery \" data-id=\"30917\">\\n    <div class=\"swiper-container\">\\n        <div class=\"swiper-wrapper\">\\n                        <div class=\"swiper-slide\">\\n                <figure>\\n                    <div class=\"img\">\\n                        <img src=\"https://nplus1.ru/images/2021/10/11/b7a9e42f1e5ee878f1d7c50e01bdbe84.jpg\"/>\\n                    </div>\\n                    <figcaption>\\n                    <p class=\"title\">Слева направо: Дэвид Карт, Джошуа Энгрист и Гвидо Имбенс.</p>\\n\\n                                            \\t    <p class=\"credits\">Niklas Elmehed © Nobel Prize Outreach</p>\\n                    \\t\\n                    </figcaption>\\n                </figure>\\n                <div class=\"share-incut\">\\n<div class=\"title\"><i class=\"fa fa-share\"></i><span>Поделиться</span></div>\\n<nav class=\"nav-share\">\\n    <ul class=\"social-likes\" data-title=\"Премию Нобеля по экономике присудили за исследования экономики труда и причинно-следственных связей\">\\n\\t\\t<li class=\"facebook\" data-service=\\'facebook\\' data-image=\\'https://nplus1.ru/images/2021/10/11/b7a9e42f1e5ee878f1d7c50e01bdbe84.jpg\\', data-description=\\'Niklas Elmehed &copy; Nobel Prize Outreach\\'></li>\\n\\t\\t<li class=\"twitter\" data-service=\\'twitter\\' data-image=\\'https://nplus1.ru/images/2021/10/11/b7a9e42f1e5ee878f1d7c50e01bdbe84.jpg\\', data-description=\\'Niklas Elmehed &copy; Nobel Prize Outreach\\'></li>\\n\\t\\t<li class=\"vkontakte\" data-service=\\'vkontakte\\' data-image=\\'https://nplus1.ru/images/2021/10/11/b7a9e42f1e5ee878f1d7c50e01bdbe84.jpg\\', data-description=\\'Niklas Elmehed &copy; Nobel Prize Outreach\\'></li>\\n\\t\\t<li class=\"odnoklassniki\" data-service=\\'odnoklassniki\\' data-image=\\'https://nplus1.ru/images/2021/10/11/b7a9e42f1e5ee878f1d7c50e01bdbe84.jpg\\', data-description=\\'Niklas Elmehed &copy; Nobel Prize Outreach\\'></li>\\n            </ul>\\n</nav>\\n</div>\\n            </div>\\n                    </div>\\n        <div class=\"pagination\">\\n            <div class=\"swiper-button-prev\"></div>\\n            <div class=\"swiper-counter\"></div>\\n            <div class=\"swiper-button-next\"></div>\\n        </div>\\n    </div>\\n</div>\\n<script type=\"text/insert-source\" data-type=\"inserts.gallery.page\">{\"id\":28572,\"type\":3,\"text\":\"\",\"img\":[{\"src\":\"https:\\\\/\\\\/nplus1.ru\\\\/images\\\\/2021\\\\/10\\\\/11\\\\/b7a9e42f1e5ee878f1d7c50e01bdbe84.jpg\",\"alt\":\"Слева направо: Дэвид Карт, Джошуа Энгрист и Гвидо Имбенс.\",\"credits\":\"Niklas Elmehed © Nobel Prize Outreach\"}],\"id_news\":30917,\"title\":null,\"vtitle\":\"\",\"vsrc\":\"\",\"vcredits\":\"\",\"points\":\"[]\",\"votes\":0,\"updated_at\":\"2021-10-11 13:10:06\"}</script>\\nПремия по&nbsp;экономике, в&nbsp;отличие от&nbsp;Нобелевских премий по&nbsp;физиологии и&nbsp;медицине, физике, химии и&nbsp;литературе, а&nbsp;также премии мира, была учреждена не&nbsp;самим Альфредом Нобелем, а&nbsp;Банком Швеции в&nbsp;1968&nbsp;году. Ее&nbsp;размер равен размеру остальных премий.<p>Лауреаты этого года награждены за их исследования причинно-следственных связей в области социальных наук. В частности, Дэвид Кард из университета Калифорнии в Беркли начиная с 1990-х годов исследовал, как именно на рынок труда влияют изменения минимальных зарплат, уровень иммиграции и образовательный уровень населения. Полученные им результаты, в частности, указывали, что повышение уровня минимальных зарплат не обязательно влечет за собой сокращение количества рабочих мест.</p><p>Два других лауреата - Джошуа Ангрист из Массачусетского технологического института и Гвидо Имбенс из Стэнфордского университета исследовали, как можно установить наличие причинно-следственных связей в естественных экспериментах, связанных с поисками отношения между уровнем образования и доходами.</p><p>Компания Clarivate, которая составляет списки потенциальных нобелевских лауреатов на&nbsp;основе наукометрических данных, в&nbsp;2021 году <a href=\"https://nplus1.ru/blog/2021/09/22/clarivate-prognosis-2021\" target=\"_blank\">предположила</a>, что в&nbsp;экономической номинации премию могут присудить Дэвиду Одречу (David Audretsch) и&nbsp;Дэвиду Тису (David Teece) за&nbsp;исследование инноваций.</p>\\n\\n<p>Кроме того, в&nbsp;списке этого года были Джоэл Мокир (Joel Mokyr), который исследует культурные истоки промышленной революции, а&nbsp;также Кармен Рейнхарт (Carmen Reinhart) и&nbsp;Кеннет Рогофф (Kenneth Rogoff)&nbsp;— авторы гипотезы «90-процентного порога»., согласно которой, когда внешний долг государства достигает 90&nbsp;процентов от&nbsp;ВВП, скорость роста ВВП падает вдвое.</p>\\n\\n<p>В&nbsp;2020 году премию по&nbsp;экономике присудили Полу Милгрому и&nbsp;Роберту Уилсону за&nbsp;развитие теории аукционов и&nbsp;изобретение новых форматов аукционов. Лауреаты исследовали, как работают аукционы, и&nbsp;разрабатывали новые форматы проведения аукционов для продажи товаров и&nbsp;услуг, которые трудно продавать с&nbsp;помощью традиционных методов. Читайте об&nbsp;их&nbsp;работах в&nbsp;нашем материале <a href=\"https://nplus1.ru/material/2020/10/13/nobel-econ-2020\" target=\"_blank\">«Тонкости молотка»</a>.</p>\\n\\n<p>В 2019 году премии памяти Нобеля по&nbsp;экономике были удостоены Абхиджит Банерджи, Эстер Дюфло и&nbsp;Майкл Кремер&nbsp;— «за&nbsp;экспериментальный подход к&nbsp;искоренению глобальной бедности». Подробнее о&nbsp;заслугах лауреатов можно прочесть в&nbsp;нашем материале&nbsp;<a href=\"https://nplus1.ru/material/2019/10/14/nobeleconomic\" target=\"_blank\" title=\"Link: https://nplus1.ru/material/2019/10/14/nobeleconomic\">«Опыты на&nbsp;бедных»</a>. В&nbsp;2018 года награда была присуждена Уильяму Нордхаусу за&nbsp;«интеграцию изменения климата в&nbsp;долгосрочный макроэкономический анализ» и&nbsp;Полу Ромеру за&nbsp;«интеграцию технологических инноваций в&nbsp;долгосрочный макроэкономический анализ». Об&nbsp;их&nbsp;работах можно прочитать в&nbsp;материале <a href=\"https://nplus1.ru/material/2018/10/08/econobel-2018\" target=\"_blank\">«Почем знания для природы»</a>.</p>\\n\\n<p><i>Сергей Кузнецов</i></p>\\n                            \\n                            \\n                                                \\n                        \\n                                            </div>\\n                </article>\\n\\n                \\n\\t\\t\\t\\t    <!-- ba1 -->\\n<!--AdFox START-->\\n<!--nplus1_dir-->\\n<!--Площадка: https://nplus1.ru/ / * / *-->\\n<!--Тип баннера: CLICKIO html5-->\\n<!--Расположение: мобильный-->\\n<div id=\"adfox_155980540701252236\"></div>\\n<script>\\n    window.Ya.adfoxCode.createAdaptive({\\n        ownerId: 248569,\\n        containerId: \\'adfox_155980540701252236\\',\\n        params: {\\n            pp: \\'ssg\\',\\n            ps: \\'cggm\\',\\n            p2: \\'fpum\\',\\n            puid1: \\'\\'\\n        }\\n    }, [\\'phone\\'], {\\n        tabletWidth: 1024,\\n        phoneWidth: 767,\\n        isAutoReloads: false\\n    });\\n</script>\\n\\n\\n\\t\\t                <meter class=\"bottom\"></meter>\\n            </div>\\n            <div class=\"col col-1 sidebar\" data-adaptive=\"1\" data-tablet-class=\"col-full\">\\n                                <nav class=\"nav-share\">\\n    <ul class=\"social-likes\">\\n\\t\\t<li class=\"facebook\"></li>\\n\\t\\t<li class=\"twitter\"></li>\\n\\t\\t<li class=\"vkontakte\"></li>\\n\\t\\t<li class=\"odnoklassniki\"></li>\\n    </ul>\\n</nav>\\n                \\n                                <div class=\"ad\">\\n                                                                \\t                            \\t<!-- ba2 -->\\n<!--AdFox START-->\\n<!--nplus1_dir-->\\n<!--Площадка: https://nplus1.ru/ / * / *-->\\n<!--Тип баннера: CLICKIO html5-->\\n<!--Расположение: <верх страницы>-->\\n<div id=\"adfox_153934342663011746\"></div>\\n<script>\\n    (function(w, n) {\\n    w[n] = w[n] || [];\\n    w[n].push({\\n        ownerId: 248569,\\n        containerId: \\'adfox_153934342663011746\\',\\n        params: {\\n            pp: \\'g\\',\\n            ps: \\'cggm\\',\\n            p2: \\'fpum\\',\\n            puid1: \\'\\'\\n        }\\n    });})(window, \\'adfoxAsyncParams\\');\\n</script>\\n\\n\\t\\n                    \\t                                                                </div>\\n                \\n\\t\\t\\t\\t\\n                <meter class=\"top\"></meter>\\n                    \\n\\n\\n\\n                    <div id=\"latest\" data-adaptive=\"1\" data-tablet-class=\"fixed\" data-mobile-class=\"fixed\">\\n\\n                        <h2 class=\"_tablet-hidden _mobile-hidden\">Свежее</h2>\\n                        <div class=\"latest-container\">\\n                        <article class=\"item item-news item-news-latest-first  _exist-image\" data-relevance=\"\" data-image=\"\" >\\n\\n    <a href=\"/news/2022/04/06/compress-the-photon\" data-id=\"32651\" >\\n        <div class=\"caption\">\\n                                                                    \\t                \\t\\t<img src=\"https://nplus1.ru/images/2022/04/05/d4c0adc9f1a1fb79fc1a36133cd9436d.jpg\"/>\\n                \\t                                \\n                \\n                                \\n                                    <div>\\n                        <div class=\"date\">\\n                            <span class=\"name\" title=\"2022-04-06\">13:58</span>\\n                        </div>\\n                        <h3>При увеличении плотности фотонный газ сжался с меньшим усилием</h3>\\n                    </div>\\n                                \\n                \\n                \\n                \\n                \\n                                                </div>\\n    </a>\\n    </article>                                                                                <article class=\"item item-news item-news-  _exist-image\" data-relevance=\"\" data-image=\"\" >\\n\\n    <a href=\"/news/2022/04/06/ancestral-genomes\" data-id=\"32703\" >\\n        <div class=\"caption\">\\n                                                                    \\n                \\n                                <div class=\"date\">\\n                    <span class=\"name\" title=\"2022-04-06\">11:48</span>\\n                </div>\\n                                \\n                                    <h3>Биологи реконструировали 624 предковых генома эукариот</h3>\\n                                \\n                \\n                \\n                \\n                \\n                                                </div>\\n    </a>\\n    </article>                                                        <article class=\"item item-news item-news-  _exist-image\" data-relevance=\"\" data-image=\"\" >\\n\\n    <a href=\"/news/2022/04/06/millennium-eruption\" data-id=\"32699\" >\\n        <div class=\"caption\">\\n                                                                    \\n                \\n                                <div class=\"date\">\\n                    <span class=\"name\" title=\"2022-04-06\">09:24</span>\\n                </div>\\n                                \\n                                    <h3>Колоссальное извержение вулкана Пэктусан произошло в конце 946 года</h3>\\n                                \\n                \\n                \\n                \\n                \\n                                                </div>\\n    </a>\\n    </article>                                                        <article class=\"item item-news item-news-  _exist-image\" data-relevance=\"\" data-image=\"\" >\\n\\n    <a href=\"/news/2022/04/05/nica-full-injection\" data-id=\"32702\" >\\n        <div class=\"caption\">\\n                                                                    \\n                \\n                                <div class=\"date\">\\n                    <span class=\"name\" title=\"2022-04-05\">вчера</span>\\n                </div>\\n                                \\n                                    <h3>На ускорительном комплексе NICA впервые одновременно заработали &laquo;Бустер&raquo; и&nbsp;&laquo;Нуклотрон&raquo;</h3>\\n                                \\n                \\n                \\n                \\n                \\n                                                </div>\\n    </a>\\n    </article>                                                        <article class=\"item item-news item-news-  _exist-image\" data-relevance=\"\" data-image=\"\" >\\n\\n    <a href=\"/news/2022/04/05/covid-vaccines-save-fetus\" data-id=\"32701\" >\\n        <div class=\"caption\">\\n                                                                    \\n                \\n                                <div class=\"date\">\\n                    <span class=\"name\" title=\"2022-04-05\">вчера</span>\\n                </div>\\n                                \\n                                    <h3>Вакцинация от ковида не привела к врожденным аномалиям плода</h3>\\n                                \\n                \\n                \\n                \\n                \\n                                                </div>\\n    </a>\\n    </article>                                                </div>\\n\\n\\n\\n\\n\\n\\n                    </div>\\n\\n                    \\n\\n                </div>\\n                                \\n                <footer class=\"article-footer\">\\n                    <div class=\"row\">\\n                        <div class=\"col col-3\" data-adaptive=\"1\" data-mobile-class=\"col-1\">\\n                            <p>Нашли опечатку? Выделите фрагмент и нажмите Ctrl+Enter.</p>\\n                        </div>\\n                        <div class=\"col col-1 _mobile-hidden _tablet-hidden\">\\n                            <nav class=\"nav-share\">\\n    <ul class=\"social-likes\">\\n\\t\\t<li class=\"facebook\"></li>\\n\\t\\t<li class=\"twitter\"></li>\\n\\t\\t<li class=\"vkontakte\"></li>\\n\\t\\t<li class=\"odnoklassniki\"></li>\\n    </ul>\\n</nav>\\n                        </div>\\n                    </div>\\n                </footer>\\n\\n                <div class=\"ad ad-footer\">\\n                    \\t\\t\\t                                                                                        </div>\\n                \\n                \\n            </div>\\n\\n                                        \\n            <div class=\"row row-wrap\">\\n                            </div>\\n            <div class=\"row row-wrap\">\\n                <div class=\"col col-full\" data-adaptive=\"1\"  data-mobile-class=\"col-1\">\\n                                        \\n                                    </div>\\n            </div>\\n            <div class=\"row\" data-adaptive=\"1\" data-tablet-class=\"row-wrap\" data-mobile-class=\"row-wrap\" data-type=\"also\">\\n                <div class=\"col col-3\" data-adaptive=\"1\" data-mobile-class=\"col-1\">\\n                    \\n                                        <section id=\"also\">\\n                                                <h4 class=\"pull-left\">Читайте также</h4>\\n                        <div class=\"col col-also\">\\n                                                            <article class=\"item item-news item-news-ill  _exist-image\" data-relevance=\"\" data-image=\"\" >\\n\\n    <a href=\"/news/2022/04/04/onhold\" data-id=\"32690\" >\\n        <div class=\"caption\">\\n                            <div style=\"background-image:url(https://nplus1.ru/images/2022/04/04/8de97b73fafda8d5eb64c4507b51cdbb.jpg)\" class=\"ill\"></div>\\n                                                                    \\n                \\n                                \\n                                    <h3>Научное издательство Microbiology Society приостановило публикацию статей из России</h3>\\n                                \\n                \\n                \\n                \\n                \\n                                                </div>\\n    </a>\\n    </article>                                                            <article class=\"item item-news item-news-ill  _exist-image\" data-relevance=\"\" data-image=\"\" >\\n\\n    <a href=\"/news/2022/04/04/metformin-offspring\" data-id=\"32691\" >\\n        <div class=\"caption\">\\n                            <div style=\"background-image:url(https://nplus1.ru/images/2022/04/04/a77b6a0c7cc17537e86fde1590e4fbdd.png)\" class=\"ill\"></div>\\n                                                                    \\n                \\n                                \\n                                    <h3>Прием метформина перед зачатием связали с аномалиями гениталий у потомства</h3>\\n                                \\n                \\n                \\n                \\n                \\n                                                </div>\\n    </a>\\n    </article>                                                            <article class=\"item item-news item-news-ill  _exist-image\" data-relevance=\"\" data-image=\"\" >\\n\\n    <a href=\"/news/2022/04/05/wooden-statues\" data-id=\"32694\" >\\n        <div class=\"caption\">\\n                            <div style=\"background-image:url(https://nplus1.ru/images/2022/04/05/1218c3410e843d297846b119c5d29e54.jpg)\" class=\"ill\"></div>\\n                                                                    \\n                \\n                                \\n                                    <h3>Ямальские деревянные изваяния с антропоморфными личинами назвали охранниками жилищ</h3>\\n                                \\n                \\n                \\n                \\n                \\n                                                </div>\\n    </a>\\n    </article>                                                    </div>\\n\\n                    </section>\\n                                    </div>\\n                <div class=\"col col-1\" data-adaptive=\"1\" data-tablet-class=\"col-full _indent-bottom\">\\n                    <section id=\"next\">\\n                        <div class=\"col col-1\" data-adaptive=\"1\" data-tablet-class=\"col-2\">\\n                                                        <article class=\"item item-article item-article-secondary  _exist-image\" data-relevance=\"\" data-image=\"https://nplus1.ru/images/2022/03/05/076dc31136a94b857123c6e497b8a4ec.jpg\" style=background-image:url(https://nplus1.ru/images/2022/03/05/a59c304cc22c907285e3dad3347a8b74.jpg)>\\n\\n    <a href=\"/material/2022/04/04/pain\" data-id=\"32463\" >\\n        <div class=\"caption\">\\n                                                                                    <h3>Просто больно</h3>\\n                    <p class=\"subtitle\">Как устроена боль и может ли она быть беспричинной</p>\\n                                    </div>\\n    </a>\\n        <nav class=\"nav-rubricator\">\\n        <ul>\\n            \\n                        <li>\\n                <a class=\"link-rubric\" href=\"/rubric/medicine\">Медицина</a>\\n            </li>\\n                                </ul>\\n    </nav>\\n    </article>                                                    </div>\\n                    </section>\\n                </div>\\n            </div>\\n        </div>\\n    <!--/div-->\\n    \\n    <div id=\"_mistake\">\\n        <input type=\"hidden\" name=\"_token\" value=\"x9uez4ErSZtkg9dQgyegLoyN22hpsoMtBX3OvMXS\">\\n        <input type=\"hidden\" name=\"id_news\" value=\"30917\">\\n        <input type=\"hidden\" name=\"id_author\" value=\"120\">\\n        <input type=\"hidden\" name=\"id_editor\" value=\"0\">\\n    </div>\\n    <div id=\"_post\">\\n        <input type=\"hidden\" name=\"_token\" value=\"x9uez4ErSZtkg9dQgyegLoyN22hpsoMtBX3OvMXS\">\\n        <input type=\"hidden\" name=\"id_news\" value=\"30917\">\\n    </div>\\n            </section>\\n            <!-- / main section -->\\n            \\n\\n            <div id=\"wrapper-footer\">\\n            <section id=\"difficult\" class=\"_middle\">\\n    <!-- Slider main container -->\\n    <div class=\"swiper-container\">\\n        <!-- Additional required wrapper -->\\n        <div class=\"swiper-wrapper\">\\n                        <div class=\"swiper-slide\">\\n                <div class=\"heading\">\\n                    <div class=\"num\">\\n                        <div class=\"value\">8.7</div>\\n                    </div>\\n                    <p>Коэффициент сложности</p>\\n                </div>\\n                <h3><a href=\"/news/2022/03/29/mechanical-coherence\">Время когерентности механического колебания превысило сто миллисекунд</a></h3>\\n            </div>\\n                        <div class=\"swiper-slide\">\\n                <div class=\"heading\">\\n                    <div class=\"num\">\\n                        <div class=\"value\">8.6</div>\\n                    </div>\\n                    <p>Коэффициент сложности</p>\\n                </div>\\n                <h3><a href=\"/news/2022/04/04/K-He3-spins\">Магнитное поле сделало спин-обменную связь между калием и гелием сильной</a></h3>\\n            </div>\\n                        <div class=\"swiper-slide\">\\n                <div class=\"heading\">\\n                    <div class=\"num\">\\n                        <div class=\"value\">7.7</div>\\n                    </div>\\n                    <p>Коэффициент сложности</p>\\n                </div>\\n                <h3><a href=\"/news/2022/04/05/Modulated-Thermal-Convection\">Модуляция градиента температуры увеличила теплопередачу в газе</a></h3>\\n            </div>\\n                        <div class=\"swiper-slide\">\\n                <div class=\"heading\">\\n                    <div class=\"num\">\\n                        <div class=\"value\">7.2</div>\\n                    </div>\\n                    <p>Коэффициент сложности</p>\\n                </div>\\n                <h3><a href=\"/news/2022/03/30/hybrid-opticalmicrowave\">Циркулярными ридберговскими состояниями научились управлять с помощью света</a></h3>\\n            </div>\\n                        <div class=\"swiper-slide\">\\n                <div class=\"heading\">\\n                    <div class=\"num\">\\n                        <div class=\"value\">6.9</div>\\n                    </div>\\n                    <p>Коэффициент сложности</p>\\n                </div>\\n                <h3><a href=\"/news/2022/04/04/white-phosphorus-functionalization\">Химики нашли удобный способ окисления белого фосфора</a></h3>\\n            </div>\\n                        <div class=\"swiper-slide\">\\n                <div class=\"heading\">\\n                    <div class=\"num\">\\n                        <div class=\"value\">6.9</div>\\n                    </div>\\n                    <p>Коэффициент сложности</p>\\n                </div>\\n                <h3><a href=\"/material/2022/04/04/pain\">Просто больно</a></h3>\\n            </div>\\n                        <div class=\"swiper-slide\">\\n                <div class=\"heading\">\\n                    <div class=\"num\">\\n                        <div class=\"value\">6.8</div>\\n                    </div>\\n                    <p>Коэффициент сложности</p>\\n                </div>\\n                <h3><a href=\"/news/2022/03/31/atom-light-beam\">Смесь атомов и света поможет сфокусировать лазер на световом парусе</a></h3>\\n            </div>\\n                        <div class=\"swiper-slide\">\\n                <div class=\"heading\">\\n                    <div class=\"num\">\\n                        <div class=\"value\">6.7</div>\\n                    </div>\\n                    <p>Коэффициент сложности</p>\\n                </div>\\n                <h3><a href=\"/news/2022/04/06/compress-the-photon\">При увеличении плотности фотонный газ сжался с меньшим усилием</a></h3>\\n            </div>\\n                        <div class=\"swiper-slide\">\\n                <div class=\"heading\">\\n                    <div class=\"num\">\\n                        <div class=\"value\">5.9</div>\\n                    </div>\\n                    <p>Коэффициент сложности</p>\\n                </div>\\n                <h3><a href=\"/news/2022/04/06/ancestral-genomes\">Биологи реконструировали 624 предковых генома эукариот</a></h3>\\n            </div>\\n                        <div class=\"swiper-slide\">\\n                <div class=\"heading\">\\n                    <div class=\"num\">\\n                        <div class=\"value\">5.5</div>\\n                    </div>\\n                    <p>Коэффициент сложности</p>\\n                </div>\\n                <h3><a href=\"/news/2022/04/01/Laozi-said-nothing-wrong\">Физики разобрались с точением камня водой</a></h3>\\n            </div>\\n                        \\n        </div>\\n        <!-- If we need pagination -->\\n        <div class=\"swiper-pagination\"></div>\\n        <div class=\"swiper-button-prev\"></div>\\n        <div class=\"swiper-button-next\"></div>\\n    </div>\\n    <h6>Самое сложное</h6>\\n</section>\\n\\n\\n            <div class=\"ad ad-col border\">\\n                    \\t    </div>\\n\\n            <!-- footer -->\\n            <footer id=\"footer\">\\n    <div class=\"row\" data-adaptive=\"1\" data-middle-class=\"row-wrap\" data-tablet-class=\"row-wrap\" data-mobile-class=\"row-wrap\">\\n        <div class=\"col col-logo\">\\n            <a href=\"/\" class=\"link-logo\"><img src=\"/i/logo-alt.png\"/></a>\\n        </div>\\n        <div class=\"col col-footer-desc\">\\n            <nav class=\"nav-pages\">\\n                <ul>\\n                    <li>\\n                        <a href=\"/about\">О нас</a>\\n                    </li>\\n                    <li>\\n                        <a href=\"https://nplus.pro\" target=\"_blank\">N + Production</a>\\n                    </li>\\n                    <li>\\n                        <a href=\"/adv\">Рекламодателям</a>\\n                    </li>\\n                    <li>\\n                        <a href=\"/rules\">Наши материалы</a>\\n                    </li>\\n                    <li>\\n                        <a href=\"/vacancy\">Вакансии</a>\\n                    </li>\\n                    <li>\\n                        <a href=\"/blog/2022/04/01/samotek\">Авторам</a>\\n                    </li>\\n                    <li>\\n                        <a href=\"/difficult\">Сложность</a>\\n                    </li>\\n                </ul>\\n            </nav>\\n            <div class=\"desc\">\\n                <p>&copy; 2022 <i>N&nbsp;+&nbsp;1</i> Интернет-издание &nbsp; Свидетельство о регистрации СМИ Эл № ФС77-67614</p>\\n                                \\n                    <p>Использование всех текстовых материалов без изменений в некоммерческих целях разрешается со ссылкой на <i>N&nbsp;+&nbsp;1</i>. \\n                        Все аудиовизуальные произведения являются собственностью своих авторов и правообладателей и используются \\n                        только в образовательных и информационных целях. Если вы являетесь собственником того или иного произведения \\n                        и не согласны с его размещением на нашем сайте, пожалуйста, напишите на kirill@nplus1.ru</p>\\n                    <p>Материалы, опубликованные в разделе «Блоги», отражают позиции их авторов, которые могут не совпадать с мнением редакции.</p>\\n                    <p>Сайт может содержать контент, не предназначенный для лиц младше 18 лет.</p>\\n                    <p>Связь с редакцией: <a href=\"mailto:info@nplus1.ru\">info@nplus1.ru</a></p>\\n                    <p>\\n                        <a href=\"https://nplus1.ru/personal-data-policy\" class=\"pd\">Политика обработки персональных данных пользователей сайта</a>\\n                    </p>\\n                    <p>\\n                        <script async type=\"text/javascript\" src=\"//s.luxupcdnc.com/t/consent_195458.js\"></script> \\n                        <a href=\"#\" onclick=\"if(window.__lxG__consent__ !== undefined) {window.__lxG__consent__.showConsent()} else {alert(\\'This function works only for users from the European Economic Area (EEA).\\')}; return false\">Change privacy settings</a>\\n                    </p>\\n                \\n                <p>\\n                                    </p>\\n            </div>\\n        </div>\\n        <div class=\"col col-1 pull-right\">\\n            <nav class=\"nav-social\">\\n                <ul>\\n                    <li>\\n                        <a href=\"https://t.me/nplusone\"><i class=\"fa fa-telegram\"></i></a>\\n                    </li>\\n                    <li>\\n                        <a href=\"http://vk.com/nplusone\"><i class=\"fa fa-vk\"></i></a>\\n                    </li>\\n                                        <li>\\n                        <a href=\"https://twitter.com/nplusodin\"><i class=\"fa fa-twitter\"></i></a>\\n                    </li>\\n                    <li>\\n                        <a href=\"https://ok.ru/nplus1\"><i class=\"fa fa-odnoklassniki\"></i></a>\\n                    </li>\\n                    <li>\\n                        <a href=\"https://soundcloud.com/nplus_1\"><i class=\"fa fa-soundcloud\"></i></a>\\n                    </li>\\n                    <li>\\n                        <a href=\"/rss\"><i class=\"fa fa-rss\"></i></a>\\n                    </li>\\n                </ul>\\n            </nav>\\n            <div class=\"partners\">\\n                \\t\\t\\t\\t\\t\\t\\t\\t\\t\\t\\t\\t\\n\\t\\t\\t\\t\\n                <!-- Rating@Mail.ru counter -->\\n<script type=\"text/javascript\">\\nvar _tmr = window._tmr || (window._tmr = []);\\n_tmr.push({id: \"3084572\", type: \"pageView\", start: (new Date()).getTime()});\\n(function (d, w, id) {\\n  if (d.getElementById(id)) return;\\n  var ts = d.createElement(\"script\"); ts.type = \"text/javascript\"; ts.async = true; ts.id = id;\\n  ts.src = \"https://top-fwz1.mail.ru/js/code.js\";\\n  var f = function () {var s = d.getElementsByTagName(\"script\")[0]; s.parentNode.insertBefore(ts, s);};\\n  if (w.opera == \"[object Opera]\") { d.addEventListener(\"DOMContentLoaded\", f, false); } else { f(); }\\n})(document, window, \"topmailru-code\");\\n</script><noscript><div>\\n<img src=\"https://top-fwz1.mail.ru/counter?id=3084572;js=na\" style=\"border:0;position:absolute;left:-9999px;\" alt=\"Top.Mail.Ru\" />\\n</div></noscript>\\n<!-- //Rating@Mail.ru counter -->\\n\\n\\n\\n            </div>\\n        </div>\\n    </div>\\n</footer>            <!-- / footer -->\\n            </div>\\n        </div>\\n    \\n    </div>\\n    \\n\\n<!-- Google Tag Manager -->\\n<script>(function(w,d,s,l,i){w[l]=w[l]||[];w[l].push({\\'gtm.start\\':\\nnew Date().getTime(),event:\\'gtm.js\\'});var f=d.getElementsByTagName(s)[0],\\nj=d.createElement(s),dl=l!=\\'dataLayer\\'?\\'&l=\\'+l:\\'\\';j.async=true;j.src=\\n\\'https://www.googletagmanager.com/gtm.js?id=\\'+i+dl;f.parentNode.insertBefore(j,f);\\n})(window,document,\\'script\\',\\'dataLayer\\',\\'GTM-MNJC58\\');</script>\\n<!-- End Google Tag Manager -->\\n\\n<!-- Google Tag Manager (noscript) -->\\n<noscript><iframe src=\"https://www.googletagmanager.com/ns.html?id=GTM-MNJC58\"\\nheight=\"0\" width=\"0\" style=\"display:none;visibility:hidden\"></iframe></noscript>\\n<!-- End Google Tag Manager (noscript) -->\\n\\n\\n\\n    <noscript><div><img src=\"//mc.yandex.ru/watch/29654565\" style=\"position:absolute; left:-9999px;\" alt=\"\" /></div></noscript>\\n\\t\\t\\n\\t\\n\\t</div>\\n\\n\\n\\n<script src=\"/js/lib/js.cookie.js\"></script>\\n<script src=\"/js/lib/jquery.swap.js\"></script>\\n<script src=\"/js/lib/swiper.jquery.min.js\"></script>\\n<script src=\"/js/lib/svg.js\"></script>\\n<script src=\"/js/lib/jquery.mobile-events.min.js\"></script>\\n<script src=\"/js/lib/social-likes.min.js\"></script>\\n<script src=\"/js/lib/jquery.sticky.js\"></script>\\n<script src=\"/js/tests/scopus/js/bundle.js\"></script>\\n\\n\\n\\n<script src=\"/js/lib/ts.js\"></script>\\n<script src=\"/js/lib/js.cookie.js\"></script>\\n\\n\\n<script async src=\"https://cdn.onthe.io/io.js/QCyUUwp6IVuR\"></script>\\n<script>\\nwindow._io_config = window._io_config || {};\\nwindow._io_config[\"0.2.0\"] = window._io_config[\"0.2.0\"] || [];\\nwindow._io_config[\"0.2.0\"].push({\\n    page_url: document.location.toString(),\\n    page_url_canonical: document.querySelector(\\'link[rel=\"canonical\"]\\').href,\\n    page_title: document.querySelector(\\'title\\').innerHTML,\\n    page_type: \"article\",\\n    page_language: \"ru\",\\n    article_authors: [document.querySelector(\\'meta[name=\"author\"]\\').content || \\'\\'],\\n    article_publication_date: (new Date(document.querySelector(\\'meta[itemprop=\"datePublished\"]\\').content).toUTCString()).toString()\\n});\\n</script>\\n\\n<!--   project scripts -->\\n<script src=\"/js/main.min.js?v=1643976149\"></script>\\n<!-- / project scripts -->\\n\\n\\n\\n\\n<!-- Quantcast Tag -->\\n<script type=\"text/javascript\">\\nvar _qevents = _qevents || [];\\n\\n(function() {\\nvar elem = document.createElement(\\'script\\');\\nelem.src = (document.location.protocol == \"https:\" ? \"https://secure\" : \"http://edge\") + \".quantserve.com/quant.js\";\\nelem.async = true;\\nelem.type = \"text/javascript\";\\nvar scpt = document.getElementsByTagName(\\'script\\')[0];\\nscpt.parentNode.insertBefore(elem, scpt);\\n})();\\n\\n_qevents.push({\\nqacct:\"p-s3ftDEFzEW5x7\"\\n});\\n</script>\\n\\n<noscript>\\n<div style=\"display:none;\">\\n<img src=\"//pixel.quantserve.com/pixel/p-s3ftDEFzEW5x7.gif\" border=\"0\" height=\"1\" width=\"1\" alt=\"Quantcast\"/>\\n</div>\\n</noscript>\\n<!-- End Quantcast tag -->\\n</body>\\n</html>'"
     },
     "execution_count": 7,
     "metadata": {},
     "output_type": "execute_result"
    }
   ],
   "source": [
    "url = 'https://nplus1.ru/news/2021/10/11/econobel2021'\n",
    "response = requests.get(url)\n",
    "response.text"
   ],
   "metadata": {
    "collapsed": false,
    "pycharm": {
     "name": "#%%\n"
    }
   }
  },
  {
   "cell_type": "code",
   "execution_count": 8,
   "outputs": [
    {
     "data": {
      "text/plain": "<title>Премию Нобеля по экономике присудили за исследования экономики труда и причинно-следственных связей</title>"
     },
     "execution_count": 8,
     "metadata": {},
     "output_type": "execute_result"
    }
   ],
   "source": [
    "from bs4 import BeautifulSoup\n",
    "\n",
    "url = 'https://nplus1.ru/news/2021/10/11/econobel2021'\n",
    "response = requests.get(url)\n",
    "page = BeautifulSoup(response.text, 'html.parser') # Создаём объект BeautifulSoup, указывая html-парсер\n",
    "page.title # Получаем тег title, отображающийся на вкладке браузера"
   ],
   "metadata": {
    "collapsed": false,
    "pycharm": {
     "name": "#%%\n"
    }
   }
  },
  {
   "cell_type": "code",
   "execution_count": 9,
   "outputs": [
    {
     "data": {
      "text/plain": "'Премию Нобеля по экономике присудили за исследования экономики труда и причинно-следственных связей'"
     },
     "execution_count": 9,
     "metadata": {},
     "output_type": "execute_result"
    }
   ],
   "source": [
    "page.title.text # Выводим текст из полученного тега, который содержится в атрибуте text"
   ],
   "metadata": {
    "collapsed": false,
    "pycharm": {
     "name": "#%%\n"
    }
   }
  },
  {
   "cell_type": "code",
   "execution_count": 10,
   "outputs": [
    {
     "data": {
      "text/plain": "'Премию Нобеля по экономике присудили за исследования экономики труда и причинно-следственных связей'"
     },
     "execution_count": 10,
     "metadata": {},
     "output_type": "execute_result"
    }
   ],
   "source": [
    "response = requests.get('https://nplus1.ru/news/2021/10/11/econobel2021')\n",
    "page = BeautifulSoup(response.text, 'html.parser') # Создаём объект BeautifulSoup, указывая html-парсер\n",
    "page.find('h1').text"
   ],
   "metadata": {
    "collapsed": false,
    "pycharm": {
     "name": "#%%\n"
    }
   }
  },
  {
   "cell_type": "code",
   "execution_count": 11,
   "outputs": [
    {
     "data": {
      "text/plain": "'Operating system'"
     },
     "execution_count": 11,
     "metadata": {},
     "output_type": "execute_result"
    }
   ],
   "source": [
    "# Напишите функцию wiki_header, которая по адресу страницы возвращает заголовок для статей на Wikipedia.\n",
    "#\n",
    "# wiki_header('https://en.wikipedia.org/wiki/Operating_system')\n",
    "# 'Operating system'\n",
    "\n",
    "def wiki_header(url):\n",
    "    response = requests.get(url)\n",
    "    page = BeautifulSoup(response.text, 'html.parser') # Создаём объект BeautifulSoup, указывая html-парсер\n",
    "    return page.find('h1').text\n",
    "\n",
    "wiki_header('https://en.wikipedia.org/wiki/Operating_system')"
   ],
   "metadata": {
    "collapsed": false,
    "pycharm": {
     "name": "#%%\n"
    }
   }
  },
  {
   "cell_type": "code",
   "execution_count": 12,
   "outputs": [
    {
     "name": "stdout",
     "output_type": "stream",
     "text": [
      "<a id=\"top\"></a>\n"
     ]
    }
   ],
   "source": [
    "# СБОР НЕСКОЛЬКИХ ЭЛЕМЕНТОВ: СОБИРАЕМ ВСЕ ССЫЛКИ НА СТРАНИЦЕ\n",
    "\n",
    "url = 'https://en.wikipedia.org/wiki/List_of_programming_languages' # Задаём адрес ресурса\n",
    "response = requests.get(url) # Делаем GET-запрос к ресурсу\n",
    "page = BeautifulSoup(response.text, 'html.parser') # Создаём объект BeautifulSoup\n",
    "print(page.find('a')) # Ищем ссылку по тегу <a> и выводим её на экран"
   ],
   "metadata": {
    "collapsed": false,
    "pycharm": {
     "name": "#%%\n"
    }
   }
  },
  {
   "cell_type": "code",
   "execution_count": 13,
   "outputs": [
    {
     "name": "stdout",
     "output_type": "stream",
     "text": [
      "937\n"
     ]
    }
   ],
   "source": [
    "links = page.find_all('a') # Ищем все ссылки на странице и сохраняем в переменной links в виде списка\n",
    "print(len(links)) # Выводим количество найденных ссылок"
   ],
   "metadata": {
    "collapsed": false,
    "pycharm": {
     "name": "#%%\n"
    }
   }
  },
  {
   "cell_type": "code",
   "execution_count": 14,
   "outputs": [
    {
     "name": "stdout",
     "output_type": "stream",
     "text": [
      "['Opal', 'Open Programming Language', 'OpenCL', 'OpenEdge Advanced Business Language', 'OpenVera', 'OPS5', 'OptimJ', 'Orc', 'ORCA/Modula-2', 'Oriel']\n"
     ]
    }
   ],
   "source": [
    "print([link.text for link in links[500:510]])"
   ],
   "metadata": {
    "collapsed": false,
    "pycharm": {
     "name": "#%%\n"
    }
   }
  },
  {
   "cell_type": "code",
   "execution_count": 15,
   "outputs": [
    {
     "name": "stdout",
     "output_type": "stream",
     "text": [
      "['', 'Jump to navigation', 'Jump to search', 'Programming languagelists', 'Alphabetical', 'Categorical', 'Chronological', 'Generational', 'v', 't']\n"
     ]
    }
   ],
   "source": [
    "print([link.text for link in links[0:10]])"
   ],
   "metadata": {
    "collapsed": false,
    "pycharm": {
     "name": "#%%\n"
    }
   }
  },
  {
   "cell_type": "code",
   "execution_count": 16,
   "outputs": [
    {
     "name": "stdout",
     "output_type": "stream",
     "text": [
      "{\"response\":[{\"id\":1,\"first_name\":\"Павел\",\"last_name\":\"Дуров\",\"can_access_closed\":true,\"is_closed\":false,\"sex\":2,\"bdate\":\"10.10.1984\"}]}\n"
     ]
    }
   ],
   "source": [
    "token = '3a5c7e9e3a5c7e9e3a5c7e9e243a2076f833a5c3a5c7e9e58111e57b3f97b8250b5806c' # Указываем свой сервисный токен\n",
    "url = 'https://api.vk.com/method/users.get' # Указываем адрес страницы к которой делаем запрос\n",
    "params = {'user_id': 1, 'v': 5.95, 'fields': 'sex,bdate', 'access_token': token, 'lang': 'ru'} # Перечисляем параметры нашего запроса в словаре params\n",
    "response = requests.get(url, params=params) # Отправляем запрос\n",
    "print(response.text) # Выводим текст ответа на экран"
   ],
   "metadata": {
    "collapsed": false,
    "pycharm": {
     "name": "#%%\n"
    }
   }
  },
  {
   "cell_type": "code",
   "execution_count": 17,
   "outputs": [
    {
     "name": "stdout",
     "output_type": "stream",
     "text": [
      "{'response': [{'bdate': '10.10.1984',\n",
      "               'can_access_closed': True,\n",
      "               'first_name': 'Павел',\n",
      "               'id': 1,\n",
      "               'is_closed': False,\n",
      "               'last_name': 'Дуров',\n",
      "               'sex': 2}]}\n"
     ]
    }
   ],
   "source": [
    "pprint(response.json())"
   ],
   "metadata": {
    "collapsed": false,
    "pycharm": {
     "name": "#%%\n"
    }
   }
  },
  {
   "cell_type": "code",
   "execution_count": 18,
   "outputs": [
    {
     "data": {
      "text/plain": "'Павел'"
     },
     "execution_count": 18,
     "metadata": {},
     "output_type": "execute_result"
    }
   ],
   "source": [
    "user = response.json()['response'][0] # Извлекаем из словаря по ключу response информацию о первом пользователе\n",
    "user['first_name']"
   ],
   "metadata": {
    "collapsed": false,
    "pycharm": {
     "name": "#%%\n"
    }
   }
  },
  {
   "cell_type": "code",
   "execution_count": 19,
   "outputs": [
    {
     "name": "stdout",
     "output_type": "stream",
     "text": [
      "{'response': [{'can_access_closed': True,\n",
      "               'first_name': 'Павел',\n",
      "               'id': 1,\n",
      "               'is_closed': False,\n",
      "               'last_name': 'Дуров'},\n",
      "              {'can_access_closed': False,\n",
      "               'first_name': 'Александра',\n",
      "               'id': 2,\n",
      "               'is_closed': True,\n",
      "               'last_name': 'Владимирова'},\n",
      "              {'deactivated': 'deleted',\n",
      "               'first_name': 'DELETED',\n",
      "               'id': 3,\n",
      "               'last_name': ''}]}\n"
     ]
    }
   ],
   "source": [
    "ids = \",\".join(map(str, range(1, 4))) # Формируем строку, содержащую информацию о поле id первых трёх пользователей\n",
    "params = {'user_ids': ids, 'v': 5.95, 'fields': 'bday', 'access_token': token, 'lang': 'ru'} # Формируем строку параметров\n",
    "pprint(requests.get(url, params=params).json()) # Посылаем запрос, полученный ответ в формате JSON-строки преобразуем в словарь и выводим на экран его содержимое, используя функцию pprint()"
   ],
   "metadata": {
    "collapsed": false,
    "pycharm": {
     "name": "#%%\n"
    }
   }
  },
  {
   "cell_type": "code",
   "execution_count": 20,
   "outputs": [
    {
     "data": {
      "text/plain": "0.49"
     },
     "execution_count": 20,
     "metadata": {},
     "output_type": "execute_result"
    }
   ],
   "source": [
    "# Используя API, определите долю женщин (sex=1) среди пользователей с id от 1 до 500. Иногда будут попадаться пользователи, у которых пол не указан (sex=0), — таких пользователей не нужно учитывать в общем числе.\n",
    "#\n",
    "# В ответе укажите число, округлив до двух знаков после точки-разделителя, например, 0.55.\n",
    "# Пример: если у нас будет 300 пользователей с sex=1, 100 пользователей с sex=2 и 100 пользователей с sex=0, то в ответе должно быть 0.75.\n",
    "\n",
    "token = '3a5c7e9e3a5c7e9e3a5c7e9e243a2076f833a5c3a5c7e9e58111e57b3f97b8250b5806c' # Указываем свой сервисный токен\n",
    "url = 'https://api.vk.com/method/users.get' # Указываем адрес страницы к которой делаем запрос\n",
    "ids = \",\".join(map(str, range(1, 501)))\n",
    "params = {'user_id': ids, 'v': 5.95, 'fields': 'sex', 'access_token': token, 'lang': 'ru'}\n",
    "response = requests.get(url, params=params) # Отправляем запрос\n",
    "response = response.json()['response']\n",
    "\n",
    "sex1, sex2 = 0, 0\n",
    "for user in range(0, 500):\n",
    "    if response[user]['sex'] == 1:\n",
    "        sex1 += 1\n",
    "    if response[user]['sex'] == 2:\n",
    "        sex2 += 1\n",
    "\n",
    "round(sex1 / (sex1 + sex2), 2)\n"
   ],
   "metadata": {
    "collapsed": false,
    "pycharm": {
     "name": "#%%\n"
    }
   }
  },
  {
   "cell_type": "code",
   "execution_count": 21,
   "outputs": [
    {
     "data": {
      "text/plain": "{'response': {'count': 12467486,\n  'items': [6,\n   19,\n   47,\n   54,\n   79,\n   177,\n   198,\n   212,\n   219,\n   239,\n   243,\n   345,\n   407,\n   450,\n   467,\n   485,\n   510,\n   550,\n   619,\n   640,\n   690,\n   702,\n   721,\n   804,\n   809,\n   831,\n   832,\n   834,\n   847,\n   900,\n   905,\n   907,\n   914,\n   943,\n   952,\n   958,\n   966,\n   976,\n   979,\n   1000,\n   1018,\n   1023,\n   1032,\n   1033,\n   1038,\n   1039,\n   1059,\n   1097,\n   1131,\n   1139,\n   1140,\n   1159,\n   1174,\n   1185,\n   1188,\n   1290,\n   1301,\n   1333,\n   1334,\n   1336,\n   1351,\n   1381,\n   1386,\n   1388,\n   1406,\n   1411,\n   1418,\n   1432,\n   1494,\n   1531,\n   1550,\n   1568,\n   1586,\n   1590,\n   1593,\n   1598,\n   1610,\n   1615,\n   1632,\n   1634,\n   1650,\n   1679,\n   1690,\n   1697,\n   1698,\n   1699,\n   1700,\n   1721,\n   1740,\n   1754,\n   1796,\n   1814,\n   1820,\n   1829,\n   1834,\n   1839,\n   1840,\n   1843,\n   1858,\n   1863,\n   1869,\n   1887,\n   1889,\n   1917,\n   1943,\n   1947,\n   1955,\n   1969,\n   2019,\n   2028,\n   2050,\n   2051,\n   2052,\n   2059,\n   2077,\n   2103,\n   2145,\n   2150,\n   2195,\n   2201,\n   2230,\n   2236,\n   2273,\n   2281,\n   2294,\n   2296,\n   2298,\n   2376,\n   2389,\n   2395,\n   2403,\n   2412,\n   2436,\n   2456,\n   2466,\n   2470,\n   2484,\n   2515,\n   2539,\n   2571,\n   2576,\n   2592,\n   2601,\n   2622,\n   2644,\n   2654,\n   2692,\n   2706,\n   2745,\n   2755,\n   2767,\n   2787,\n   2797,\n   2827,\n   2858,\n   2896,\n   2909,\n   2919,\n   2922,\n   2953,\n   2962,\n   2982,\n   3001,\n   3006,\n   3041,\n   3130,\n   3135,\n   3140,\n   3172,\n   3186,\n   3203,\n   3213,\n   3231,\n   3250,\n   3254,\n   3316,\n   3320,\n   3321,\n   3328,\n   3331,\n   3332,\n   3364,\n   3372,\n   3373,\n   3384,\n   3388,\n   3402,\n   3420,\n   3422,\n   3427,\n   3436,\n   3450,\n   3458,\n   3472,\n   3483,\n   3486,\n   3491,\n   3492,\n   3520,\n   3545,\n   3556,\n   3581,\n   3597,\n   3626,\n   3637,\n   3646,\n   3653,\n   3657,\n   3658,\n   3675,\n   3684,\n   3690,\n   3697,\n   3713,\n   3719,\n   3786,\n   3820,\n   3824,\n   3836,\n   3837,\n   3851,\n   3863,\n   3904,\n   3909,\n   3938,\n   3948,\n   3979,\n   4004,\n   4010,\n   4023,\n   4026,\n   4041,\n   4047,\n   4048,\n   4108,\n   4130,\n   4150,\n   4157,\n   4189,\n   4192,\n   4236,\n   4262,\n   4282,\n   4326,\n   4360,\n   4439,\n   4440,\n   4447,\n   4485,\n   4505,\n   4521,\n   4528,\n   4530,\n   4537,\n   4543,\n   4554,\n   4558,\n   4563,\n   4564,\n   4583,\n   4599,\n   4601,\n   4640,\n   4668,\n   4669,\n   4670,\n   4672,\n   4689,\n   4693,\n   4728,\n   4731,\n   4748,\n   4754,\n   4767,\n   4769,\n   4818,\n   4828,\n   4857,\n   4862,\n   4866,\n   4881,\n   4921,\n   4923,\n   4928,\n   4947,\n   4981,\n   4985,\n   5011,\n   5017,\n   5024,\n   5067,\n   5073,\n   5161,\n   5166,\n   5183,\n   5262,\n   5273,\n   5280,\n   5286,\n   5386,\n   5387,\n   5392,\n   5394,\n   5399,\n   5401,\n   5430,\n   5432,\n   5436,\n   5438,\n   5472,\n   5481,\n   5527,\n   5546,\n   5547,\n   5585,\n   5590,\n   5606,\n   5615,\n   5629,\n   5634,\n   5665,\n   5690,\n   5701,\n   5733,\n   5768,\n   5775,\n   5793,\n   5803,\n   5819,\n   5846,\n   5850,\n   5896,\n   5914,\n   5916,\n   5932,\n   5944,\n   5959,\n   5965,\n   5990,\n   5991,\n   5997,\n   6000,\n   6021,\n   6037,\n   6046,\n   6086,\n   6099,\n   6107,\n   6111,\n   6154,\n   6161,\n   6167,\n   6181,\n   6186,\n   6187,\n   6203,\n   6260,\n   6265,\n   6293,\n   6323,\n   6333,\n   6339,\n   6379,\n   6380,\n   6390,\n   6492,\n   6520,\n   6547,\n   6557,\n   6564,\n   6595,\n   6604,\n   6627,\n   6635,\n   6670,\n   6683,\n   6689,\n   6701,\n   6703,\n   6709,\n   6715,\n   6797,\n   6801,\n   6862,\n   6950,\n   6960,\n   6994,\n   7012,\n   7036,\n   7040,\n   7050,\n   7052,\n   7068,\n   7099,\n   7112,\n   7115,\n   7117,\n   7188,\n   7200,\n   7208,\n   7226,\n   7227,\n   7286,\n   7290,\n   7338,\n   7402,\n   7404,\n   7428,\n   7451,\n   7481,\n   7492,\n   7500,\n   7525,\n   7543,\n   7547,\n   7557,\n   7595,\n   7615,\n   7661,\n   7725,\n   7737,\n   7755,\n   7768,\n   7777,\n   7830,\n   7833,\n   7847,\n   7855,\n   7858,\n   7860,\n   7962,\n   7982,\n   7998,\n   8019,\n   8066,\n   8080,\n   8093,\n   8149,\n   8157,\n   8166,\n   8167,\n   8181,\n   8182,\n   8194,\n   8195,\n   8201,\n   8224,\n   8240,\n   8266,\n   8273,\n   8298,\n   8310,\n   8321,\n   8323,\n   8347,\n   8348,\n   8377,\n   8398,\n   8418,\n   8422,\n   8436,\n   8443,\n   8479,\n   8484,\n   8505,\n   8518,\n   8536,\n   8544,\n   8576,\n   8610,\n   8636,\n   8642,\n   8656,\n   8658,\n   8704,\n   8718,\n   8727,\n   8738,\n   8752,\n   8777,\n   8792,\n   8813,\n   8875,\n   8883,\n   8910,\n   8937,\n   8959,\n   9000,\n   9014,\n   9016,\n   9079,\n   9095,\n   9100,\n   9110,\n   9111,\n   9115,\n   9173,\n   9187,\n   9189,\n   9222,\n   9246,\n   9256,\n   9355,\n   9399,\n   9412,\n   9435,\n   9444,\n   9447,\n   9450,\n   9459,\n   9466,\n   9499,\n   9527,\n   9532,\n   9536,\n   9547,\n   9556,\n   9566,\n   9569,\n   9571,\n   9579,\n   9699,\n   9723,\n   9737,\n   9741,\n   9748,\n   9775,\n   9778,\n   9782,\n   9847,\n   9894,\n   9900,\n   9954,\n   9981,\n   9993,\n   10010,\n   10090,\n   10117,\n   10155,\n   10162,\n   10217,\n   10272,\n   10284,\n   10286,\n   10302,\n   10350,\n   10351,\n   10354,\n   10365,\n   10366,\n   10376,\n   10516,\n   10518,\n   10570,\n   10596,\n   10607,\n   10615,\n   10639,\n   10682,\n   10697,\n   10741,\n   10749,\n   10767,\n   10811,\n   10833,\n   10887,\n   10919,\n   10955,\n   10956,\n   10961,\n   10972,\n   10999,\n   11027,\n   11064,\n   11068,\n   11081,\n   11084,\n   11150,\n   11187,\n   11191,\n   11236,\n   11243,\n   11271,\n   11303,\n   11446,\n   11451,\n   11483,\n   11568,\n   11649,\n   11727,\n   11747,\n   11754,\n   11763,\n   11768,\n   11782,\n   11792,\n   11865,\n   11964,\n   11983,\n   12005,\n   12029,\n   12036,\n   12097,\n   12133,\n   12150,\n   12159,\n   12172,\n   12213,\n   12252,\n   12255,\n   12264,\n   12316,\n   12325,\n   12332,\n   12345,\n   12353,\n   12367,\n   12407,\n   12441,\n   12454,\n   12456,\n   12473,\n   12477,\n   12545,\n   12560,\n   12570,\n   12617,\n   12625,\n   12637,\n   12638,\n   12707,\n   12716,\n   12718,\n   12736,\n   12748,\n   12756,\n   12762,\n   12803,\n   12808,\n   12817,\n   12859,\n   12892,\n   12922,\n   12932,\n   12952,\n   12957,\n   12982,\n   13008,\n   13063,\n   13080,\n   13173,\n   13224,\n   13233,\n   13248,\n   13324,\n   13357,\n   13371,\n   13401,\n   13411,\n   13534,\n   13600,\n   13604,\n   13614,\n   13620,\n   13650,\n   13664,\n   13675,\n   13749,\n   13754,\n   13779,\n   13794,\n   13836,\n   13876,\n   13894,\n   13896,\n   13900,\n   13905,\n   13933,\n   13963,\n   13977,\n   14009,\n   14055,\n   14099,\n   14115,\n   14161,\n   14195,\n   14201,\n   14210,\n   14252,\n   14259,\n   14270,\n   14280,\n   14351,\n   14388,\n   14417,\n   14423,\n   14476,\n   14515,\n   14524,\n   14560,\n   14572,\n   14639,\n   14647,\n   14681,\n   14682,\n   14742,\n   14751,\n   14764,\n   14800,\n   14823,\n   14846,\n   14855,\n   14866,\n   14901,\n   14911,\n   14939,\n   14966,\n   15046,\n   15056,\n   15069,\n   15077,\n   15221,\n   15224,\n   15236,\n   15244,\n   15261,\n   15275,\n   15295,\n   15314,\n   15317,\n   15344,\n   15393,\n   15413,\n   15416,\n   15485,\n   15488,\n   15502,\n   15505,\n   15512,\n   15564,\n   15622,\n   15651,\n   15684,\n   15687,\n   15699,\n   15700,\n   15826,\n   15871,\n   15891,\n   15908,\n   15912,\n   15974,\n   16054,\n   16085,\n   16095,\n   16115,\n   16124,\n   16126,\n   16179,\n   16200,\n   16227,\n   16354,\n   16394,\n   16421,\n   16425,\n   16450,\n   16452,\n   16461,\n   16463,\n   16474,\n   16614,\n   16627,\n   16634,\n   16698,\n   16710,\n   16733,\n   16739,\n   16811,\n   16827,\n   16877,\n   16878,\n   16894,\n   16909,\n   16990,\n   17020,\n   17043,\n   17077,\n   17078,\n   17087,\n   17142,\n   17159,\n   17197,\n   17201,\n   17212,\n   17266,\n   17365,\n   17384,\n   17402,\n   17419,\n   17447,\n   17464,\n   17503,\n   17504,\n   17506,\n   17521,\n   17561,\n   17579,\n   17583,\n   17586,\n   17670,\n   17675,\n   17680,\n   17713,\n   17737,\n   17748,\n   17766,\n   17785,\n   17816,\n   17836,\n   17867,\n   17870,\n   17876,\n   17880,\n   17905,\n   17975,\n   17990,\n   18013,\n   18086,\n   18146,\n   18162,\n   18172,\n   18185,\n   18219,\n   18257,\n   18295,\n   18317,\n   18318,\n   18339,\n   18355,\n   18370,\n   18395,\n   18421,\n   18434,\n   18465,\n   18517,\n   18518,\n   18521,\n   18529,\n   18578,\n   18594,\n   18665,\n   18690,\n   18715,\n   18719,\n   18739,\n   18773,\n   18787,\n   18816,\n   18823,\n   18937,\n   18969,\n   19010,\n   19057,\n   19064,\n   19068,\n   19107,\n   19123,\n   19169,\n   19214,\n   19232,\n   19301,\n   19386,\n   19388,\n   19424,\n   19441,\n   19471,\n   19472,\n   19517,\n   19553,\n   19566,\n   19571,\n   19581,\n   19618,\n   19629,\n   19642,\n   19669,\n   19691,\n   19696,\n   19712,\n   19755,\n   19757,\n   19795,\n   19798,\n   19816,\n   19845,\n   19900,\n   19903,\n   19931,\n   19935,\n   19962,\n   19971,\n   19979,\n   20017,\n   20020,\n   20035,\n   20061,\n   20075,\n   20127,\n   20129,\n   20145,\n   20152,\n   20164,\n   20174,\n   20333,\n   20373,\n   20384,\n   20391,\n   20429,\n   20443,\n   20486,\n   20502,\n   20550,\n   20557,\n   20579,\n   20587,\n   20591,\n   20605,\n   20657,\n   20678,\n   20713,\n   20751,\n   20767,\n   20768,\n   20789,\n   20876,\n   20881,\n   20975,\n   20992,\n   21003,\n   21076,\n   21089,\n   21131,\n   21179,\n   21245,\n   21267,\n   21275,\n   21280,\n   21348,\n   21356,\n   21357,\n   21405,\n   21438,\n   21445,\n   21528,\n   21557,\n   21558,\n   21560,\n   21565,\n   21626,\n   21628,\n   21675,\n   21676,\n   21816,\n   21887,\n   21917,\n   21930,\n   21965,\n   22004,\n   22014,\n   22117,\n   22120,\n   22157,\n   22225,\n   22299,\n   22380,\n   22384,\n   22451,\n   22461,\n   22471,\n   22493,\n   22535,\n   22566,\n   22651,\n   22673,\n   22674,\n   22683,\n   22691,\n   22719,\n   22726,\n   22732,\n   22733,\n   22782,\n   22814,\n   22935,\n   22938,\n   23057,\n   23059,\n   23102,\n   23148,\n   23164]}}"
     },
     "execution_count": 21,
     "metadata": {},
     "output_type": "execute_result"
    }
   ],
   "source": [
    "url = 'https://api.vk.com/method/groups.getMembers' # Указываем адрес обращения\n",
    "params = {'group_id': 'vk', 'v': 5.95, 'access_token': token} # Формируем строку параметров\n",
    "response = requests.get(url, params = params) # Посылаем запрос\n",
    "data = response.json() # Ответ сохраняем в переменной data в формате словаря\n",
    "data # Выводим содержимое переменной data на экран (отображён фрагмент)"
   ],
   "metadata": {
    "collapsed": false,
    "pycharm": {
     "name": "#%%\n"
    }
   }
  },
  {
   "cell_type": "code",
   "execution_count": 22,
   "outputs": [
    {
     "data": {
      "text/plain": "1000"
     },
     "execution_count": 22,
     "metadata": {},
     "output_type": "execute_result"
    }
   ],
   "source": [
    "len(data['response']['items'])"
   ],
   "metadata": {
    "collapsed": false,
    "pycharm": {
     "name": "#%%\n"
    }
   }
  },
  {
   "cell_type": "code",
   "execution_count": 23,
   "outputs": [
    {
     "data": {
      "text/plain": "[6,\n 19,\n 47,\n 54,\n 79,\n 177,\n 198,\n 212,\n 219,\n 239,\n 243,\n 345,\n 407,\n 450,\n 467,\n 485,\n 510,\n 550,\n 619,\n 640]"
     },
     "execution_count": 23,
     "metadata": {},
     "output_type": "execute_result"
    }
   ],
   "source": [
    "users_for_checking = data['response']['items'][:20] # Загружаем в переменную информацию об id первых 20 пользователей в виде списка\n",
    "users_for_checking"
   ],
   "metadata": {
    "collapsed": false,
    "pycharm": {
     "name": "#%%\n"
    }
   }
  },
  {
   "cell_type": "code",
   "execution_count": 24,
   "outputs": [
    {
     "name": "stdout",
     "output_type": "stream",
     "text": [
      "Выгружаю 5 пользователей с offset = 0\n",
      "Выгружаю 5 пользователей с offset = 5\n",
      "Выгружаю 5 пользователей с offset = 10\n",
      "Выгружаю 5 пользователей с offset = 15\n"
     ]
    },
    {
     "data": {
      "text/plain": "[6,\n 19,\n 47,\n 54,\n 79,\n 177,\n 198,\n 212,\n 219,\n 239,\n 243,\n 345,\n 407,\n 450,\n 467,\n 485,\n 510,\n 550,\n 619,\n 640]"
     },
     "execution_count": 24,
     "metadata": {},
     "output_type": "execute_result"
    }
   ],
   "source": [
    "count = 5\n",
    "offset = 0\n",
    "user_ids = []\n",
    "max_count = 20\n",
    "while offset < max_count:\n",
    "    # Будем выгружать по count=5 пользователей,\n",
    "    # начиная с того места, где закончили на предыдущей итерации (offset)\n",
    "    print('Выгружаю {} пользователей с offset = {}'.format(count, offset))\n",
    "    params = {'group_id': 'vk', 'v': 5.95, 'count': count, 'offset': offset, 'access_token': token}\n",
    "    response = requests.get(url, params = params)\n",
    "    data = response.json()\n",
    "    user_ids += data['response']['items']\n",
    "    # Увеличиваем смещение на количество строк, которое мы уже выгрузили\n",
    "    offset += count\n",
    "user_ids"
   ],
   "metadata": {
    "collapsed": false,
    "pycharm": {
     "name": "#%%\n"
    }
   }
  },
  {
   "cell_type": "code",
   "execution_count": 25,
   "outputs": [
    {
     "name": "stdout",
     "output_type": "stream",
     "text": [
      "Ожидаю 0.5 секунды...\n",
      "Ожидаю 0.5 секунды...\n",
      "Ожидаю 0.5 секунды...\n",
      "Ожидаю 0.5 секунды...\n",
      "Ожидаю 0.5 секунды...\n",
      "Цикл завершен, offset = 5000\n"
     ]
    }
   ],
   "source": [
    "import time\n",
    "\n",
    "\n",
    "count = 1000\n",
    "offset = 0\n",
    "user_ids = []\n",
    "while offset < 5000:\n",
    "    params = {'group_id': 'vk', 'v': 5.95, 'count': count, 'offset': offset, 'access_token': token}\n",
    "    response = requests.get(url, params = params)\n",
    "    data = response.json()\n",
    "    user_ids += data['response']['items']\n",
    "    offset += count\n",
    "    print('Ожидаю 0.5 секунды...')\n",
    "    time.sleep(0.5)\n",
    "print('Цикл завершен, offset =',offset)"
   ],
   "metadata": {
    "collapsed": false,
    "pycharm": {
     "name": "#%%\n"
    }
   }
  },
  {
   "cell_type": "code",
   "execution_count": 36,
   "outputs": [
    {
     "name": "stdout",
     "output_type": "stream",
     "text": [
      "Hello! I am a task!\n",
      "Hello! I am a task!\n",
      "Hello! I am a task!\n",
      "Hello! I am a task!\n"
     ]
    },
    {
     "ename": "KeyboardInterrupt",
     "evalue": "",
     "output_type": "error",
     "traceback": [
      "\u001B[0;31m---------------------------------------------------------------------------\u001B[0m",
      "\u001B[0;31mKeyboardInterrupt\u001B[0m                         Traceback (most recent call last)",
      "Input \u001B[0;32mIn [36]\u001B[0m, in \u001B[0;36m<cell line: 11>\u001B[0;34m()\u001B[0m\n\u001B[1;32m     10\u001B[0m \u001B[38;5;28;01mwhile\u001B[39;00m \u001B[38;5;28;01mTrue\u001B[39;00m:\n\u001B[1;32m     11\u001B[0m     schedule\u001B[38;5;241m.\u001B[39mrun_pending()\n\u001B[0;32m---> 12\u001B[0m     \u001B[43mtime\u001B[49m\u001B[38;5;241;43m.\u001B[39;49m\u001B[43msleep\u001B[49m\u001B[43m(\u001B[49m\u001B[38;5;241;43m1\u001B[39;49m\u001B[43m)\u001B[49m\n",
      "\u001B[0;31mKeyboardInterrupt\u001B[0m: "
     ]
    }
   ],
   "source": [
    "import schedule\n",
    "\n",
    "def task():\n",
    "    print('Hello! I am a task!')\n",
    "    return\n",
    "\n",
    "schedule.every(1).minute.do(task)\n",
    "\n",
    "import time\n",
    "while True:\n",
    "    schedule.run_pending()\n",
    "    time.sleep(1)"
   ],
   "metadata": {
    "collapsed": false,
    "pycharm": {
     "name": "#%%\n"
    }
   }
  },
  {
   "cell_type": "code",
   "execution_count": null,
   "outputs": [],
   "source": [],
   "metadata": {
    "collapsed": false,
    "pycharm": {
     "name": "#%%\n"
    }
   }
  }
 ],
 "metadata": {
  "kernelspec": {
   "display_name": "Python 3",
   "language": "python",
   "name": "python3"
  },
  "language_info": {
   "codemirror_mode": {
    "name": "ipython",
    "version": 2
   },
   "file_extension": ".py",
   "mimetype": "text/x-python",
   "name": "python",
   "nbconvert_exporter": "python",
   "pygments_lexer": "ipython2",
   "version": "2.7.6"
  }
 },
 "nbformat": 4,
 "nbformat_minor": 0
}