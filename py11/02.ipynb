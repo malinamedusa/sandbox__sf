{
 "cells": [
  {
   "cell_type": "code",
   "execution_count": 1,
   "metadata": {
    "collapsed": true
   },
   "outputs": [
    {
     "data": {
      "text/plain": "   index      Suburb           Address  Rooms Type      Price Method SellerG  \\\n0      0  Abbotsford      85 Turner St      2    h  1480000.0      S  Biggin   \n1      1  Abbotsford   25 Bloomburg St      2    h  1035000.0      S  Biggin   \n2      2  Abbotsford      5 Charles St      3    h  1465000.0     SP  Biggin   \n3      3  Abbotsford  40 Federation La      3    h   850000.0     PI  Biggin   \n4      4  Abbotsford       55a Park St      4    h  1600000.0     VB  Nelson   \n\n        Date  Distance  ...  Car  Landsize  BuildingArea  YearBuilt  \\\n0  3/12/2016       2.5  ...    1     202.0         126.0       1970   \n1  4/02/2016       2.5  ...    0     156.0          79.0       1900   \n2  4/03/2017       2.5  ...    0     134.0         150.0       1900   \n3  4/03/2017       2.5  ...    1      94.0         126.0       1970   \n4  4/06/2016       2.5  ...    2     120.0         142.0       2014   \n\n   CouncilArea  Lattitude  Longtitude             Regionname  Propertycount  \\\n0        Yarra   -37.7996    144.9984  Northern Metropolitan           4019   \n1        Yarra   -37.8079    144.9934  Northern Metropolitan           4019   \n2        Yarra   -37.8093    144.9944  Northern Metropolitan           4019   \n3        Yarra   -37.7969    144.9969  Northern Metropolitan           4019   \n4        Yarra   -37.8072    144.9941  Northern Metropolitan           4019   \n\n          Coordinates  \n0  -37.7996, 144.9984  \n1  -37.8079, 144.9934  \n2  -37.8093, 144.9944  \n3  -37.7969, 144.9969  \n4  -37.8072, 144.9941  \n\n[5 rows x 23 columns]",
      "text/html": "<div>\n<style scoped>\n    .dataframe tbody tr th:only-of-type {\n        vertical-align: middle;\n    }\n\n    .dataframe tbody tr th {\n        vertical-align: top;\n    }\n\n    .dataframe thead th {\n        text-align: right;\n    }\n</style>\n<table border=\"1\" class=\"dataframe\">\n  <thead>\n    <tr style=\"text-align: right;\">\n      <th></th>\n      <th>index</th>\n      <th>Suburb</th>\n      <th>Address</th>\n      <th>Rooms</th>\n      <th>Type</th>\n      <th>Price</th>\n      <th>Method</th>\n      <th>SellerG</th>\n      <th>Date</th>\n      <th>Distance</th>\n      <th>...</th>\n      <th>Car</th>\n      <th>Landsize</th>\n      <th>BuildingArea</th>\n      <th>YearBuilt</th>\n      <th>CouncilArea</th>\n      <th>Lattitude</th>\n      <th>Longtitude</th>\n      <th>Regionname</th>\n      <th>Propertycount</th>\n      <th>Coordinates</th>\n    </tr>\n  </thead>\n  <tbody>\n    <tr>\n      <th>0</th>\n      <td>0</td>\n      <td>Abbotsford</td>\n      <td>85 Turner St</td>\n      <td>2</td>\n      <td>h</td>\n      <td>1480000.0</td>\n      <td>S</td>\n      <td>Biggin</td>\n      <td>3/12/2016</td>\n      <td>2.5</td>\n      <td>...</td>\n      <td>1</td>\n      <td>202.0</td>\n      <td>126.0</td>\n      <td>1970</td>\n      <td>Yarra</td>\n      <td>-37.7996</td>\n      <td>144.9984</td>\n      <td>Northern Metropolitan</td>\n      <td>4019</td>\n      <td>-37.7996, 144.9984</td>\n    </tr>\n    <tr>\n      <th>1</th>\n      <td>1</td>\n      <td>Abbotsford</td>\n      <td>25 Bloomburg St</td>\n      <td>2</td>\n      <td>h</td>\n      <td>1035000.0</td>\n      <td>S</td>\n      <td>Biggin</td>\n      <td>4/02/2016</td>\n      <td>2.5</td>\n      <td>...</td>\n      <td>0</td>\n      <td>156.0</td>\n      <td>79.0</td>\n      <td>1900</td>\n      <td>Yarra</td>\n      <td>-37.8079</td>\n      <td>144.9934</td>\n      <td>Northern Metropolitan</td>\n      <td>4019</td>\n      <td>-37.8079, 144.9934</td>\n    </tr>\n    <tr>\n      <th>2</th>\n      <td>2</td>\n      <td>Abbotsford</td>\n      <td>5 Charles St</td>\n      <td>3</td>\n      <td>h</td>\n      <td>1465000.0</td>\n      <td>SP</td>\n      <td>Biggin</td>\n      <td>4/03/2017</td>\n      <td>2.5</td>\n      <td>...</td>\n      <td>0</td>\n      <td>134.0</td>\n      <td>150.0</td>\n      <td>1900</td>\n      <td>Yarra</td>\n      <td>-37.8093</td>\n      <td>144.9944</td>\n      <td>Northern Metropolitan</td>\n      <td>4019</td>\n      <td>-37.8093, 144.9944</td>\n    </tr>\n    <tr>\n      <th>3</th>\n      <td>3</td>\n      <td>Abbotsford</td>\n      <td>40 Federation La</td>\n      <td>3</td>\n      <td>h</td>\n      <td>850000.0</td>\n      <td>PI</td>\n      <td>Biggin</td>\n      <td>4/03/2017</td>\n      <td>2.5</td>\n      <td>...</td>\n      <td>1</td>\n      <td>94.0</td>\n      <td>126.0</td>\n      <td>1970</td>\n      <td>Yarra</td>\n      <td>-37.7969</td>\n      <td>144.9969</td>\n      <td>Northern Metropolitan</td>\n      <td>4019</td>\n      <td>-37.7969, 144.9969</td>\n    </tr>\n    <tr>\n      <th>4</th>\n      <td>4</td>\n      <td>Abbotsford</td>\n      <td>55a Park St</td>\n      <td>4</td>\n      <td>h</td>\n      <td>1600000.0</td>\n      <td>VB</td>\n      <td>Nelson</td>\n      <td>4/06/2016</td>\n      <td>2.5</td>\n      <td>...</td>\n      <td>2</td>\n      <td>120.0</td>\n      <td>142.0</td>\n      <td>2014</td>\n      <td>Yarra</td>\n      <td>-37.8072</td>\n      <td>144.9941</td>\n      <td>Northern Metropolitan</td>\n      <td>4019</td>\n      <td>-37.8072, 144.9941</td>\n    </tr>\n  </tbody>\n</table>\n<p>5 rows × 23 columns</p>\n</div>"
     },
     "execution_count": 1,
     "metadata": {},
     "output_type": "execute_result"
    }
   ],
   "source": [
    "import pandas as pd\n",
    "\n",
    "\n",
    "data = pd.read_csv('melb_data_ps.csv', sep=',')\n",
    "data.head()"
   ]
  },
  {
   "cell_type": "code",
   "execution_count": 2,
   "outputs": [
    {
     "data": {
      "text/plain": "   index      Suburb           Address  Rooms Type      Price Method SellerG  \\\n0      0  Abbotsford      85 Turner St      2    h  1480000.0      S  Biggin   \n1      1  Abbotsford   25 Bloomburg St      2    h  1035000.0      S  Biggin   \n2      2  Abbotsford      5 Charles St      3    h  1465000.0     SP  Biggin   \n3      3  Abbotsford  40 Federation La      3    h   850000.0     PI  Biggin   \n4      4  Abbotsford       55a Park St      4    h  1600000.0     VB  Nelson   \n\n        Date  Distance  ...  Car  Landsize  BuildingArea  YearBuilt  \\\n0  3/12/2016       2.5  ...    1     202.0         126.0       1970   \n1  4/02/2016       2.5  ...    0     156.0          79.0       1900   \n2  4/03/2017       2.5  ...    0     134.0         150.0       1900   \n3  4/03/2017       2.5  ...    1      94.0         126.0       1970   \n4  4/06/2016       2.5  ...    2     120.0         142.0       2014   \n\n   CouncilArea  Lattitude  Longtitude             Regionname  Propertycount  \\\n0        Yarra   -37.7996    144.9984  Northern Metropolitan           4019   \n1        Yarra   -37.8079    144.9934  Northern Metropolitan           4019   \n2        Yarra   -37.8093    144.9944  Northern Metropolitan           4019   \n3        Yarra   -37.7969    144.9969  Northern Metropolitan           4019   \n4        Yarra   -37.8072    144.9941  Northern Metropolitan           4019   \n\n          Coordinates  \n0  -37.7996, 144.9984  \n1  -37.8079, 144.9934  \n2  -37.8093, 144.9944  \n3  -37.7969, 144.9969  \n4  -37.8072, 144.9941  \n\n[5 rows x 23 columns]",
      "text/html": "<div>\n<style scoped>\n    .dataframe tbody tr th:only-of-type {\n        vertical-align: middle;\n    }\n\n    .dataframe tbody tr th {\n        vertical-align: top;\n    }\n\n    .dataframe thead th {\n        text-align: right;\n    }\n</style>\n<table border=\"1\" class=\"dataframe\">\n  <thead>\n    <tr style=\"text-align: right;\">\n      <th></th>\n      <th>index</th>\n      <th>Suburb</th>\n      <th>Address</th>\n      <th>Rooms</th>\n      <th>Type</th>\n      <th>Price</th>\n      <th>Method</th>\n      <th>SellerG</th>\n      <th>Date</th>\n      <th>Distance</th>\n      <th>...</th>\n      <th>Car</th>\n      <th>Landsize</th>\n      <th>BuildingArea</th>\n      <th>YearBuilt</th>\n      <th>CouncilArea</th>\n      <th>Lattitude</th>\n      <th>Longtitude</th>\n      <th>Regionname</th>\n      <th>Propertycount</th>\n      <th>Coordinates</th>\n    </tr>\n  </thead>\n  <tbody>\n    <tr>\n      <th>0</th>\n      <td>0</td>\n      <td>Abbotsford</td>\n      <td>85 Turner St</td>\n      <td>2</td>\n      <td>h</td>\n      <td>1480000.0</td>\n      <td>S</td>\n      <td>Biggin</td>\n      <td>3/12/2016</td>\n      <td>2.5</td>\n      <td>...</td>\n      <td>1</td>\n      <td>202.0</td>\n      <td>126.0</td>\n      <td>1970</td>\n      <td>Yarra</td>\n      <td>-37.7996</td>\n      <td>144.9984</td>\n      <td>Northern Metropolitan</td>\n      <td>4019</td>\n      <td>-37.7996, 144.9984</td>\n    </tr>\n    <tr>\n      <th>1</th>\n      <td>1</td>\n      <td>Abbotsford</td>\n      <td>25 Bloomburg St</td>\n      <td>2</td>\n      <td>h</td>\n      <td>1035000.0</td>\n      <td>S</td>\n      <td>Biggin</td>\n      <td>4/02/2016</td>\n      <td>2.5</td>\n      <td>...</td>\n      <td>0</td>\n      <td>156.0</td>\n      <td>79.0</td>\n      <td>1900</td>\n      <td>Yarra</td>\n      <td>-37.8079</td>\n      <td>144.9934</td>\n      <td>Northern Metropolitan</td>\n      <td>4019</td>\n      <td>-37.8079, 144.9934</td>\n    </tr>\n    <tr>\n      <th>2</th>\n      <td>2</td>\n      <td>Abbotsford</td>\n      <td>5 Charles St</td>\n      <td>3</td>\n      <td>h</td>\n      <td>1465000.0</td>\n      <td>SP</td>\n      <td>Biggin</td>\n      <td>4/03/2017</td>\n      <td>2.5</td>\n      <td>...</td>\n      <td>0</td>\n      <td>134.0</td>\n      <td>150.0</td>\n      <td>1900</td>\n      <td>Yarra</td>\n      <td>-37.8093</td>\n      <td>144.9944</td>\n      <td>Northern Metropolitan</td>\n      <td>4019</td>\n      <td>-37.8093, 144.9944</td>\n    </tr>\n    <tr>\n      <th>3</th>\n      <td>3</td>\n      <td>Abbotsford</td>\n      <td>40 Federation La</td>\n      <td>3</td>\n      <td>h</td>\n      <td>850000.0</td>\n      <td>PI</td>\n      <td>Biggin</td>\n      <td>4/03/2017</td>\n      <td>2.5</td>\n      <td>...</td>\n      <td>1</td>\n      <td>94.0</td>\n      <td>126.0</td>\n      <td>1970</td>\n      <td>Yarra</td>\n      <td>-37.7969</td>\n      <td>144.9969</td>\n      <td>Northern Metropolitan</td>\n      <td>4019</td>\n      <td>-37.7969, 144.9969</td>\n    </tr>\n    <tr>\n      <th>4</th>\n      <td>4</td>\n      <td>Abbotsford</td>\n      <td>55a Park St</td>\n      <td>4</td>\n      <td>h</td>\n      <td>1600000.0</td>\n      <td>VB</td>\n      <td>Nelson</td>\n      <td>4/06/2016</td>\n      <td>2.5</td>\n      <td>...</td>\n      <td>2</td>\n      <td>120.0</td>\n      <td>142.0</td>\n      <td>2014</td>\n      <td>Yarra</td>\n      <td>-37.8072</td>\n      <td>144.9941</td>\n      <td>Northern Metropolitan</td>\n      <td>4019</td>\n      <td>-37.8072, 144.9941</td>\n    </tr>\n  </tbody>\n</table>\n<p>5 rows × 23 columns</p>\n</div>"
     },
     "execution_count": 2,
     "metadata": {},
     "output_type": "execute_result"
    }
   ],
   "source": [
    "melb_df = data.copy()\n",
    "melb_df.head()"
   ],
   "metadata": {
    "collapsed": false,
    "pycharm": {
     "name": "#%%\n"
    }
   }
  },
  {
   "cell_type": "code",
   "execution_count": 3,
   "outputs": [
    {
     "data": {
      "text/plain": "       Suburb           Address  Rooms Type      Price Method SellerG  \\\n0  Abbotsford      85 Turner St      2    h  1480000.0      S  Biggin   \n1  Abbotsford   25 Bloomburg St      2    h  1035000.0      S  Biggin   \n2  Abbotsford      5 Charles St      3    h  1465000.0     SP  Biggin   \n3  Abbotsford  40 Federation La      3    h   850000.0     PI  Biggin   \n4  Abbotsford       55a Park St      4    h  1600000.0     VB  Nelson   \n\n        Date  Distance  Postcode  ...  Bathroom  Car  Landsize  BuildingArea  \\\n0  3/12/2016       2.5      3067  ...         1    1     202.0         126.0   \n1  4/02/2016       2.5      3067  ...         1    0     156.0          79.0   \n2  4/03/2017       2.5      3067  ...         2    0     134.0         150.0   \n3  4/03/2017       2.5      3067  ...         2    1      94.0         126.0   \n4  4/06/2016       2.5      3067  ...         1    2     120.0         142.0   \n\n   YearBuilt  CouncilArea Lattitude  Longtitude             Regionname  \\\n0       1970        Yarra  -37.7996    144.9984  Northern Metropolitan   \n1       1900        Yarra  -37.8079    144.9934  Northern Metropolitan   \n2       1900        Yarra  -37.8093    144.9944  Northern Metropolitan   \n3       1970        Yarra  -37.7969    144.9969  Northern Metropolitan   \n4       2014        Yarra  -37.8072    144.9941  Northern Metropolitan   \n\n  Propertycount  \n0          4019  \n1          4019  \n2          4019  \n3          4019  \n4          4019  \n\n[5 rows x 21 columns]",
      "text/html": "<div>\n<style scoped>\n    .dataframe tbody tr th:only-of-type {\n        vertical-align: middle;\n    }\n\n    .dataframe tbody tr th {\n        vertical-align: top;\n    }\n\n    .dataframe thead th {\n        text-align: right;\n    }\n</style>\n<table border=\"1\" class=\"dataframe\">\n  <thead>\n    <tr style=\"text-align: right;\">\n      <th></th>\n      <th>Suburb</th>\n      <th>Address</th>\n      <th>Rooms</th>\n      <th>Type</th>\n      <th>Price</th>\n      <th>Method</th>\n      <th>SellerG</th>\n      <th>Date</th>\n      <th>Distance</th>\n      <th>Postcode</th>\n      <th>...</th>\n      <th>Bathroom</th>\n      <th>Car</th>\n      <th>Landsize</th>\n      <th>BuildingArea</th>\n      <th>YearBuilt</th>\n      <th>CouncilArea</th>\n      <th>Lattitude</th>\n      <th>Longtitude</th>\n      <th>Regionname</th>\n      <th>Propertycount</th>\n    </tr>\n  </thead>\n  <tbody>\n    <tr>\n      <th>0</th>\n      <td>Abbotsford</td>\n      <td>85 Turner St</td>\n      <td>2</td>\n      <td>h</td>\n      <td>1480000.0</td>\n      <td>S</td>\n      <td>Biggin</td>\n      <td>3/12/2016</td>\n      <td>2.5</td>\n      <td>3067</td>\n      <td>...</td>\n      <td>1</td>\n      <td>1</td>\n      <td>202.0</td>\n      <td>126.0</td>\n      <td>1970</td>\n      <td>Yarra</td>\n      <td>-37.7996</td>\n      <td>144.9984</td>\n      <td>Northern Metropolitan</td>\n      <td>4019</td>\n    </tr>\n    <tr>\n      <th>1</th>\n      <td>Abbotsford</td>\n      <td>25 Bloomburg St</td>\n      <td>2</td>\n      <td>h</td>\n      <td>1035000.0</td>\n      <td>S</td>\n      <td>Biggin</td>\n      <td>4/02/2016</td>\n      <td>2.5</td>\n      <td>3067</td>\n      <td>...</td>\n      <td>1</td>\n      <td>0</td>\n      <td>156.0</td>\n      <td>79.0</td>\n      <td>1900</td>\n      <td>Yarra</td>\n      <td>-37.8079</td>\n      <td>144.9934</td>\n      <td>Northern Metropolitan</td>\n      <td>4019</td>\n    </tr>\n    <tr>\n      <th>2</th>\n      <td>Abbotsford</td>\n      <td>5 Charles St</td>\n      <td>3</td>\n      <td>h</td>\n      <td>1465000.0</td>\n      <td>SP</td>\n      <td>Biggin</td>\n      <td>4/03/2017</td>\n      <td>2.5</td>\n      <td>3067</td>\n      <td>...</td>\n      <td>2</td>\n      <td>0</td>\n      <td>134.0</td>\n      <td>150.0</td>\n      <td>1900</td>\n      <td>Yarra</td>\n      <td>-37.8093</td>\n      <td>144.9944</td>\n      <td>Northern Metropolitan</td>\n      <td>4019</td>\n    </tr>\n    <tr>\n      <th>3</th>\n      <td>Abbotsford</td>\n      <td>40 Federation La</td>\n      <td>3</td>\n      <td>h</td>\n      <td>850000.0</td>\n      <td>PI</td>\n      <td>Biggin</td>\n      <td>4/03/2017</td>\n      <td>2.5</td>\n      <td>3067</td>\n      <td>...</td>\n      <td>2</td>\n      <td>1</td>\n      <td>94.0</td>\n      <td>126.0</td>\n      <td>1970</td>\n      <td>Yarra</td>\n      <td>-37.7969</td>\n      <td>144.9969</td>\n      <td>Northern Metropolitan</td>\n      <td>4019</td>\n    </tr>\n    <tr>\n      <th>4</th>\n      <td>Abbotsford</td>\n      <td>55a Park St</td>\n      <td>4</td>\n      <td>h</td>\n      <td>1600000.0</td>\n      <td>VB</td>\n      <td>Nelson</td>\n      <td>4/06/2016</td>\n      <td>2.5</td>\n      <td>3067</td>\n      <td>...</td>\n      <td>1</td>\n      <td>2</td>\n      <td>120.0</td>\n      <td>142.0</td>\n      <td>2014</td>\n      <td>Yarra</td>\n      <td>-37.8072</td>\n      <td>144.9941</td>\n      <td>Northern Metropolitan</td>\n      <td>4019</td>\n    </tr>\n  </tbody>\n</table>\n<p>5 rows × 21 columns</p>\n</div>"
     },
     "execution_count": 3,
     "metadata": {},
     "output_type": "execute_result"
    }
   ],
   "source": [
    "melb_df = melb_df.drop(['index', 'Coordinates'], axis=1)\n",
    "melb_df.head()"
   ],
   "metadata": {
    "collapsed": false,
    "pycharm": {
     "name": "#%%\n"
    }
   }
  },
  {
   "cell_type": "code",
   "execution_count": 4,
   "outputs": [
    {
     "data": {
      "text/plain": "0         5\n1         5\n2         8\n3         8\n4         8\n         ..\n13575    10\n13576     8\n13577     8\n13578     9\n13579     9\nLength: 13580, dtype: int64"
     },
     "execution_count": 4,
     "metadata": {},
     "output_type": "execute_result"
    }
   ],
   "source": [
    "total_rooms = melb_df['Rooms'] + melb_df['Bedroom'] + melb_df['Bathroom']\n",
    "total_rooms"
   ],
   "metadata": {
    "collapsed": false,
    "pycharm": {
     "name": "#%%\n"
    }
   }
  },
  {
   "cell_type": "code",
   "execution_count": 5,
   "outputs": [
    {
     "data": {
      "text/plain": "0        25.200000\n1        15.800000\n2        18.750000\n3        15.750000\n4        17.750000\n           ...    \n13575    12.600000\n13576    16.625000\n13577    15.750000\n13578    17.444444\n13579    12.444444\nName: MeanRoomsSquare, Length: 13580, dtype: float64"
     },
     "execution_count": 5,
     "metadata": {},
     "output_type": "execute_result"
    }
   ],
   "source": [
    "melb_df['MeanRoomsSquare'] = melb_df['BuildingArea'] / total_rooms\n",
    "melb_df['MeanRoomsSquare']"
   ],
   "metadata": {
    "collapsed": false,
    "pycharm": {
     "name": "#%%\n"
    }
   }
  },
  {
   "cell_type": "code",
   "execution_count": 6,
   "outputs": [
    {
     "data": {
      "text/plain": "0       -0.231707\n1       -0.327660\n2        0.056338\n3        0.145455\n4        0.083969\n           ...   \n13575   -0.676093\n13576   -0.429185\n13577   -0.551601\n13578   -0.693060\n13579   -0.527426\nName: AreaRatio, Length: 13580, dtype: float64"
     },
     "execution_count": 6,
     "metadata": {},
     "output_type": "execute_result"
    }
   ],
   "source": [
    "diff_area = melb_df['BuildingArea'] - melb_df['Landsize']\n",
    "sum_area = melb_df['BuildingArea'] + melb_df['Landsize']\n",
    "melb_df['AreaRatio'] = diff_area/sum_area\n",
    "melb_df['AreaRatio']"
   ],
   "metadata": {
    "collapsed": false,
    "pycharm": {
     "name": "#%%\n"
    }
   }
  },
  {
   "cell_type": "code",
   "execution_count": null,
   "outputs": [],
   "source": [
    "import pandas as pd\n",
    "\n",
    "def delete_columns(df, col=[]):\n",
    "    \"\"\"\n",
    "    Напишите функцию delete_columns(df, col=[]), которая удаляет столбцы из DataFrame и возвращает новую таблицу.\n",
    "    Если одного из указанных столбцов в таблице не существует, то функция должна возвращать None.\n",
    "    \"\"\"\n",
    "    for i in col:\n",
    "        if i not in df:\n",
    "            return None\n",
    "\n",
    "    df = df.drop(col, axis=1)\n",
    "    return df\n",
    "\n",
    "if __name__ == '__main__':\n",
    "    customer_df = pd.DataFrame({\n",
    "        'number': [0, 1, 2, 3, 4],\n",
    "        'cust_id': [128, 1201, 9832, 4392, 7472],\n",
    "        'cust_age': [13, 21, 19, 21, 60],\n",
    "        'cust_sale': [0, 0, 0.2, 0.15, 0.3],\n",
    "        'cust_year_birth': [2008, 2000, 2002, 2000, 1961],\n",
    "        'cust_order': [1400, 14142, 900, 1240, 8430]\n",
    "    })\n",
    "    columns_for_delete = ['number', 'cust_age'] #выбранные вами столбцы\n",
    "    new_df = delete_columns(customer_df, columns_for_delete)\n",
    "    print(new_df)"
   ],
   "metadata": {
    "collapsed": false,
    "pycharm": {
     "name": "#%%\n"
    }
   }
  },
  {
   "cell_type": "code",
   "execution_count": 18,
   "outputs": [
    {
     "data": {
      "text/plain": "84.93"
     },
     "execution_count": 18,
     "metadata": {},
     "output_type": "execute_result"
    }
   ],
   "source": [
    "countries_df = pd.DataFrame({\n",
    "    'country': ['Англия', 'Канада', 'США', 'Россия', 'Украина', 'Беларусь', 'Казахстан'],\n",
    "    'population': [56.29, 38.05, 322.28, 146.24, 45.5, 9.5, 17.04],\n",
    "    'square': [133396, 9984670, 9826630, 17125191, 603628, 207600, 2724902]\n",
    "})\n",
    "countries_df['pn'] = (countries_df['population']  * 1000000) / countries_df['square']\n",
    "round((sum(countries_df['pn']) /7), 2)"
   ],
   "metadata": {
    "collapsed": false,
    "pycharm": {
     "name": "#%%\n"
    }
   }
  },
  {
   "cell_type": "code",
   "execution_count": 18,
   "outputs": [],
   "source": [],
   "metadata": {
    "collapsed": false,
    "pycharm": {
     "name": "#%%\n"
    }
   }
  },
  {
   "cell_type": "code",
   "execution_count": 19,
   "outputs": [
    {
     "data": {
      "text/plain": "0       2016-12-03\n1       2016-02-04\n2       2017-03-04\n3       2017-03-04\n4       2016-06-04\n           ...    \n13575   2017-08-26\n13576   2017-08-26\n13577   2017-08-26\n13578   2017-08-26\n13579   2017-08-26\nName: Date, Length: 13580, dtype: datetime64[ns]"
     },
     "execution_count": 19,
     "metadata": {},
     "output_type": "execute_result"
    }
   ],
   "source": [
    "melb_df['Date'] = pd.to_datetime(melb_df['Date'], dayfirst=True)\n",
    "melb_df['Date']"
   ],
   "metadata": {
    "collapsed": false,
    "pycharm": {
     "name": "#%%\n"
    }
   }
  },
  {
   "cell_type": "code",
   "execution_count": 20,
   "outputs": [
    {
     "name": "stdout",
     "output_type": "stream",
     "text": [
      "0        2016\n",
      "1        2016\n",
      "2        2017\n",
      "3        2017\n",
      "4        2016\n",
      "         ... \n",
      "13575    2017\n",
      "13576    2017\n",
      "13577    2017\n",
      "13578    2017\n",
      "13579    2017\n",
      "Name: Date, Length: 13580, dtype: int64\n",
      "Min year sold: 2016\n",
      "Max year sold: 2017\n",
      "Mode year sold: 2017\n"
     ]
    }
   ],
   "source": [
    "years_sold = melb_df['Date'].dt.year\n",
    "print(years_sold)\n",
    "print('Min year sold:', years_sold.min())\n",
    "print('Max year sold:', years_sold.max())\n",
    "print('Mode year sold:', years_sold.mode()[0])"
   ],
   "metadata": {
    "collapsed": false,
    "pycharm": {
     "name": "#%%\n"
    }
   }
  },
  {
   "cell_type": "code",
   "execution_count": 21,
   "outputs": [
    {
     "data": {
      "text/plain": "5     0.149411\n7     0.145950\n9     0.135862\n6     0.134757\n8     0.114138\n11    0.082032\n4     0.069882\n3     0.049926\n12    0.044698\n10    0.040574\n2     0.032622\n1     0.000147\nName: MonthSale, dtype: float64"
     },
     "execution_count": 21,
     "metadata": {},
     "output_type": "execute_result"
    }
   ],
   "source": [
    "melb_df['MonthSale'] = melb_df['Date'].dt.month\n",
    "melb_df['MonthSale'].value_counts(normalize=True)"
   ],
   "metadata": {
    "collapsed": false,
    "pycharm": {
     "name": "#%%\n"
    }
   }
  },
  {
   "cell_type": "code",
   "execution_count": 22,
   "outputs": [
    {
     "data": {
      "text/plain": "0       337 days\n1        34 days\n2       428 days\n3       428 days\n4       155 days\n          ...   \n13575   603 days\n13576   603 days\n13577   603 days\n13578   603 days\n13579   603 days\nName: Date, Length: 13580, dtype: timedelta64[ns]"
     },
     "execution_count": 22,
     "metadata": {},
     "output_type": "execute_result"
    }
   ],
   "source": [
    "delta_days = melb_df['Date'] - pd.to_datetime('2016-01-01')\n",
    "delta_days"
   ],
   "metadata": {
    "collapsed": false,
    "pycharm": {
     "name": "#%%\n"
    }
   }
  },
  {
   "cell_type": "code",
   "execution_count": 23,
   "outputs": [
    {
     "data": {
      "text/plain": "0        337\n1         34\n2        428\n3        428\n4        155\n        ... \n13575    603\n13576    603\n13577    603\n13578    603\n13579    603\nName: Date, Length: 13580, dtype: int64"
     },
     "execution_count": 23,
     "metadata": {},
     "output_type": "execute_result"
    }
   ],
   "source": [
    "delta_days.dt.days"
   ],
   "metadata": {
    "collapsed": false,
    "pycharm": {
     "name": "#%%\n"
    }
   }
  },
  {
   "cell_type": "code",
   "execution_count": 24,
   "outputs": [
    {
     "data": {
      "text/plain": "0         46\n1        116\n2        117\n3         47\n4          2\n        ... \n13575     36\n13576     22\n13577     20\n13578     97\n13579     97\nName: AgeBuilding, Length: 13580, dtype: int64"
     },
     "execution_count": 24,
     "metadata": {},
     "output_type": "execute_result"
    }
   ],
   "source": [
    "melb_df['AgeBuilding'] = melb_df['Date'].dt.year - melb_df['YearBuilt']\n",
    "melb_df['AgeBuilding']"
   ],
   "metadata": {
    "collapsed": false,
    "pycharm": {
     "name": "#%%\n"
    }
   }
  },
  {
   "cell_type": "code",
   "execution_count": 25,
   "outputs": [],
   "source": [
    "melb_df = melb_df.drop('YearBuilt', axis=1)"
   ],
   "metadata": {
    "collapsed": false,
    "pycharm": {
     "name": "#%%\n"
    }
   }
  },
  {
   "cell_type": "code",
   "execution_count": 36,
   "outputs": [
    {
     "data": {
      "text/plain": "12822"
     },
     "execution_count": 36,
     "metadata": {},
     "output_type": "execute_result"
    }
   ],
   "source": [
    "melb_df['WeekdaySale'] = melb_df['Date'].dt.dayofweek\n",
    "weekend_count = melb_df['WeekdaySale'].value_counts()\n",
    "\n",
    "weekend_count[6] + weekend_count[5]"
   ],
   "metadata": {
    "collapsed": false,
    "pycharm": {
     "name": "#%%\n"
    }
   }
  },
  {
   "cell_type": "code",
   "execution_count": 37,
   "outputs": [
    {
     "data": {
      "text/plain": "                       City Colors Reported Shape Reported State  \\\n0                    Ithaca             NaN       TRIANGLE    NY   \n1               Willingboro             NaN          OTHER    NJ   \n2                   Holyoke             NaN           OVAL    CO   \n3                   Abilene             NaN           DISK    KS   \n4      New York Worlds Fair             NaN          LIGHT    NY   \n...                     ...             ...            ...   ...   \n18236            Grant Park             NaN       TRIANGLE    IL   \n18237           Spirit Lake             NaN           DISK    IA   \n18238           Eagle River             NaN            NaN    WI   \n18239           Eagle River             RED          LIGHT    WI   \n18240                  Ybor             NaN           OVAL    FL   \n\n                   Time  \n0        6/1/1930 22:00  \n1       6/30/1930 20:00  \n2       2/15/1931 14:00  \n3        6/1/1931 13:00  \n4       4/18/1933 19:00  \n...                 ...  \n18236  12/31/2000 23:00  \n18237  12/31/2000 23:00  \n18238  12/31/2000 23:45  \n18239  12/31/2000 23:45  \n18240  12/31/2000 23:59  \n\n[18241 rows x 5 columns]",
      "text/html": "<div>\n<style scoped>\n    .dataframe tbody tr th:only-of-type {\n        vertical-align: middle;\n    }\n\n    .dataframe tbody tr th {\n        vertical-align: top;\n    }\n\n    .dataframe thead th {\n        text-align: right;\n    }\n</style>\n<table border=\"1\" class=\"dataframe\">\n  <thead>\n    <tr style=\"text-align: right;\">\n      <th></th>\n      <th>City</th>\n      <th>Colors Reported</th>\n      <th>Shape Reported</th>\n      <th>State</th>\n      <th>Time</th>\n    </tr>\n  </thead>\n  <tbody>\n    <tr>\n      <th>0</th>\n      <td>Ithaca</td>\n      <td>NaN</td>\n      <td>TRIANGLE</td>\n      <td>NY</td>\n      <td>6/1/1930 22:00</td>\n    </tr>\n    <tr>\n      <th>1</th>\n      <td>Willingboro</td>\n      <td>NaN</td>\n      <td>OTHER</td>\n      <td>NJ</td>\n      <td>6/30/1930 20:00</td>\n    </tr>\n    <tr>\n      <th>2</th>\n      <td>Holyoke</td>\n      <td>NaN</td>\n      <td>OVAL</td>\n      <td>CO</td>\n      <td>2/15/1931 14:00</td>\n    </tr>\n    <tr>\n      <th>3</th>\n      <td>Abilene</td>\n      <td>NaN</td>\n      <td>DISK</td>\n      <td>KS</td>\n      <td>6/1/1931 13:00</td>\n    </tr>\n    <tr>\n      <th>4</th>\n      <td>New York Worlds Fair</td>\n      <td>NaN</td>\n      <td>LIGHT</td>\n      <td>NY</td>\n      <td>4/18/1933 19:00</td>\n    </tr>\n    <tr>\n      <th>...</th>\n      <td>...</td>\n      <td>...</td>\n      <td>...</td>\n      <td>...</td>\n      <td>...</td>\n    </tr>\n    <tr>\n      <th>18236</th>\n      <td>Grant Park</td>\n      <td>NaN</td>\n      <td>TRIANGLE</td>\n      <td>IL</td>\n      <td>12/31/2000 23:00</td>\n    </tr>\n    <tr>\n      <th>18237</th>\n      <td>Spirit Lake</td>\n      <td>NaN</td>\n      <td>DISK</td>\n      <td>IA</td>\n      <td>12/31/2000 23:00</td>\n    </tr>\n    <tr>\n      <th>18238</th>\n      <td>Eagle River</td>\n      <td>NaN</td>\n      <td>NaN</td>\n      <td>WI</td>\n      <td>12/31/2000 23:45</td>\n    </tr>\n    <tr>\n      <th>18239</th>\n      <td>Eagle River</td>\n      <td>RED</td>\n      <td>LIGHT</td>\n      <td>WI</td>\n      <td>12/31/2000 23:45</td>\n    </tr>\n    <tr>\n      <th>18240</th>\n      <td>Ybor</td>\n      <td>NaN</td>\n      <td>OVAL</td>\n      <td>FL</td>\n      <td>12/31/2000 23:59</td>\n    </tr>\n  </tbody>\n</table>\n<p>18241 rows × 5 columns</p>\n</div>"
     },
     "execution_count": 37,
     "metadata": {},
     "output_type": "execute_result"
    }
   ],
   "source": [
    "data = pd.read_csv('https://raw.githubusercontent.com/justmarkham/pandas-videos/master/data/ufo.csv')\n",
    "data"
   ],
   "metadata": {
    "collapsed": false,
    "pycharm": {
     "name": "#%%\n"
    }
   }
  },
  {
   "cell_type": "code",
   "execution_count": 39,
   "outputs": [],
   "source": [
    "data['Time'] = pd.to_datetime(data['Time'], dayfirst=True)"
   ],
   "metadata": {
    "collapsed": false,
    "pycharm": {
     "name": "#%%\n"
    }
   }
  },
  {
   "cell_type": "code",
   "execution_count": 73,
   "outputs": [],
   "source": [
    "d = data"
   ],
   "metadata": {
    "collapsed": false,
    "pycharm": {
     "name": "#%%\n"
    }
   }
  },
  {
   "cell_type": "code",
   "execution_count": 76,
   "outputs": [
    {
     "data": {
      "text/plain": "76       1947-07-15\n172      1952-02-17\n565      1959-09-15\n566      1959-09-15\n613      1960-01-07\n            ...    \n17447    2000-09-16\n17567    2000-09-30\n17617    2000-06-10\n17890    2000-07-11\n18104    2000-10-12\nName: Time, Length: 284, dtype: object"
     },
     "execution_count": 76,
     "metadata": {},
     "output_type": "execute_result"
    }
   ],
   "source": [
    "d = data\n",
    "d = d[d['State'] == 'NV']['Time']\n",
    "d = d.dt.date\n",
    "d"
   ],
   "metadata": {
    "collapsed": false,
    "pycharm": {
     "name": "#%%\n"
    }
   }
  },
  {
   "cell_type": "code",
   "execution_count": 79,
   "outputs": [
    {
     "data": {
      "text/plain": "68"
     },
     "execution_count": 79,
     "metadata": {},
     "output_type": "execute_result"
    }
   ],
   "source": [
    "d = data\n",
    "d = d[d['State'] == 'NV']['Time']\n",
    "d = d.dt.date\n",
    "d = d.diff(periods=1)\n",
    "d = d.dt.days\n",
    "d = d.fillna(0)\n",
    "# d = abs(d)\n",
    "round(d.mean())"
   ],
   "metadata": {
    "collapsed": false,
    "pycharm": {
     "name": "#%%\n"
    }
   }
  },
  {
   "cell_type": "code",
   "execution_count": 80,
   "outputs": [
    {
     "data": {
      "text/plain": "0        St\n1        St\n2        St\n3        La\n4        St\n         ..\n13575    Cr\n13576    Dr\n13577    St\n13578    St\n13579    St\nName: Address, Length: 13580, dtype: object"
     },
     "execution_count": 80,
     "metadata": {},
     "output_type": "execute_result"
    }
   ],
   "source": [
    "def get_street_type(address):\n",
    "    exclude_list = ['N', 'S', 'W', 'E']\n",
    "    address_list = address.split(' ')\n",
    "    street_type = address_list[-1]\n",
    "    if street_type in exclude_list:\n",
    "        street_type = address_list[-2]\n",
    "    return street_type\n",
    "\n",
    "\n",
    "street_types = melb_df['Address'].apply(get_street_type)\n",
    "street_types"
   ],
   "metadata": {
    "collapsed": false,
    "pycharm": {
     "name": "#%%\n"
    }
   }
  },
  {
   "cell_type": "code",
   "execution_count": 95,
   "outputs": [],
   "source": [
    "def get_weekend(weekday):\n",
    "        if weekday==5 or weekday==6:\n",
    "            return 1\n",
    "        return 0\n",
    "weekday_01=melb_df['WeekdaySale'].apply(get_weekend)\n",
    "# get_weekend(melb_df['WeekdaySale'])\n",
    "# s = melb_df[melb_df['Weekend'] == 1]['Price'].mean()\n",
    "# s"
   ],
   "metadata": {
    "collapsed": false,
    "pycharm": {
     "name": "#%%\n"
    }
   }
  },
  {
   "cell_type": "code",
   "execution_count": 93,
   "outputs": [
    {
     "data": {
      "text/plain": "              Suburb           Address  Rooms Type      Price Method  \\\n0         Abbotsford      85 Turner St      2    h  1480000.0      S   \n1         Abbotsford   25 Bloomburg St      2    h  1035000.0      S   \n2         Abbotsford      5 Charles St      3    h  1465000.0     SP   \n3         Abbotsford  40 Federation La      3    h   850000.0     PI   \n4         Abbotsford       55a Park St      4    h  1600000.0     VB   \n...              ...               ...    ...  ...        ...    ...   \n13575  Wheelers Hill      12 Strada Cr      4    h  1245000.0      S   \n13576   Williamstown     77 Merrett Dr      3    h  1031000.0     SP   \n13577   Williamstown       83 Power St      3    h  1170000.0      S   \n13578   Williamstown      96 Verdon St      4    h  2500000.0     PI   \n13579     Yarraville        6 Agnes St      4    h  1285000.0     SP   \n\n        SellerG       Date  Distance  Postcode  ...  Lattitude  Longtitude  \\\n0        Biggin 2016-12-03       2.5      3067  ...  -37.79960   144.99840   \n1        Biggin 2016-02-04       2.5      3067  ...  -37.80790   144.99340   \n2        Biggin 2017-03-04       2.5      3067  ...  -37.80930   144.99440   \n3        Biggin 2017-03-04       2.5      3067  ...  -37.79690   144.99690   \n4        Nelson 2016-06-04       2.5      3067  ...  -37.80720   144.99410   \n...         ...        ...       ...       ...  ...        ...         ...   \n13575     Barry 2017-08-26      16.7      3150  ...  -37.90562   145.16761   \n13576  Williams 2017-08-26       6.8      3016  ...  -37.85927   144.87904   \n13577     Raine 2017-08-26       6.8      3016  ...  -37.85274   144.88738   \n13578   Sweeney 2017-08-26       6.8      3016  ...  -37.85908   144.89299   \n13579   Village 2017-08-26       6.3      3013  ...  -37.81188   144.88449   \n\n                       Regionname  Propertycount  MeanRoomsSquare AreaRatio  \\\n0           Northern Metropolitan           4019        25.200000 -0.231707   \n1           Northern Metropolitan           4019        15.800000 -0.327660   \n2           Northern Metropolitan           4019        18.750000  0.056338   \n3           Northern Metropolitan           4019        15.750000  0.145455   \n4           Northern Metropolitan           4019        17.750000  0.083969   \n...                           ...            ...              ...       ...   \n13575  South-Eastern Metropolitan           7392        12.600000 -0.676093   \n13576        Western Metropolitan           6380        16.625000 -0.429185   \n13577        Western Metropolitan           6380        15.750000 -0.551601   \n13578        Western Metropolitan           6380        17.444444 -0.693060   \n13579        Western Metropolitan           6543        12.444444 -0.527426   \n\n       MonthSale  AgeBuilding WeekdaySale  Weekend  \n0             12           46           5        1  \n1              2          116           3        1  \n2              3          117           5        1  \n3              3           47           5        1  \n4              6            2           5        1  \n...          ...          ...         ...      ...  \n13575          8           36           5        1  \n13576          8           22           5        1  \n13577          8           20           5        1  \n13578          8           97           5        1  \n13579          8           97           5        1  \n\n[13580 rows x 26 columns]",
      "text/html": "<div>\n<style scoped>\n    .dataframe tbody tr th:only-of-type {\n        vertical-align: middle;\n    }\n\n    .dataframe tbody tr th {\n        vertical-align: top;\n    }\n\n    .dataframe thead th {\n        text-align: right;\n    }\n</style>\n<table border=\"1\" class=\"dataframe\">\n  <thead>\n    <tr style=\"text-align: right;\">\n      <th></th>\n      <th>Suburb</th>\n      <th>Address</th>\n      <th>Rooms</th>\n      <th>Type</th>\n      <th>Price</th>\n      <th>Method</th>\n      <th>SellerG</th>\n      <th>Date</th>\n      <th>Distance</th>\n      <th>Postcode</th>\n      <th>...</th>\n      <th>Lattitude</th>\n      <th>Longtitude</th>\n      <th>Regionname</th>\n      <th>Propertycount</th>\n      <th>MeanRoomsSquare</th>\n      <th>AreaRatio</th>\n      <th>MonthSale</th>\n      <th>AgeBuilding</th>\n      <th>WeekdaySale</th>\n      <th>Weekend</th>\n    </tr>\n  </thead>\n  <tbody>\n    <tr>\n      <th>0</th>\n      <td>Abbotsford</td>\n      <td>85 Turner St</td>\n      <td>2</td>\n      <td>h</td>\n      <td>1480000.0</td>\n      <td>S</td>\n      <td>Biggin</td>\n      <td>2016-12-03</td>\n      <td>2.5</td>\n      <td>3067</td>\n      <td>...</td>\n      <td>-37.79960</td>\n      <td>144.99840</td>\n      <td>Northern Metropolitan</td>\n      <td>4019</td>\n      <td>25.200000</td>\n      <td>-0.231707</td>\n      <td>12</td>\n      <td>46</td>\n      <td>5</td>\n      <td>1</td>\n    </tr>\n    <tr>\n      <th>1</th>\n      <td>Abbotsford</td>\n      <td>25 Bloomburg St</td>\n      <td>2</td>\n      <td>h</td>\n      <td>1035000.0</td>\n      <td>S</td>\n      <td>Biggin</td>\n      <td>2016-02-04</td>\n      <td>2.5</td>\n      <td>3067</td>\n      <td>...</td>\n      <td>-37.80790</td>\n      <td>144.99340</td>\n      <td>Northern Metropolitan</td>\n      <td>4019</td>\n      <td>15.800000</td>\n      <td>-0.327660</td>\n      <td>2</td>\n      <td>116</td>\n      <td>3</td>\n      <td>1</td>\n    </tr>\n    <tr>\n      <th>2</th>\n      <td>Abbotsford</td>\n      <td>5 Charles St</td>\n      <td>3</td>\n      <td>h</td>\n      <td>1465000.0</td>\n      <td>SP</td>\n      <td>Biggin</td>\n      <td>2017-03-04</td>\n      <td>2.5</td>\n      <td>3067</td>\n      <td>...</td>\n      <td>-37.80930</td>\n      <td>144.99440</td>\n      <td>Northern Metropolitan</td>\n      <td>4019</td>\n      <td>18.750000</td>\n      <td>0.056338</td>\n      <td>3</td>\n      <td>117</td>\n      <td>5</td>\n      <td>1</td>\n    </tr>\n    <tr>\n      <th>3</th>\n      <td>Abbotsford</td>\n      <td>40 Federation La</td>\n      <td>3</td>\n      <td>h</td>\n      <td>850000.0</td>\n      <td>PI</td>\n      <td>Biggin</td>\n      <td>2017-03-04</td>\n      <td>2.5</td>\n      <td>3067</td>\n      <td>...</td>\n      <td>-37.79690</td>\n      <td>144.99690</td>\n      <td>Northern Metropolitan</td>\n      <td>4019</td>\n      <td>15.750000</td>\n      <td>0.145455</td>\n      <td>3</td>\n      <td>47</td>\n      <td>5</td>\n      <td>1</td>\n    </tr>\n    <tr>\n      <th>4</th>\n      <td>Abbotsford</td>\n      <td>55a Park St</td>\n      <td>4</td>\n      <td>h</td>\n      <td>1600000.0</td>\n      <td>VB</td>\n      <td>Nelson</td>\n      <td>2016-06-04</td>\n      <td>2.5</td>\n      <td>3067</td>\n      <td>...</td>\n      <td>-37.80720</td>\n      <td>144.99410</td>\n      <td>Northern Metropolitan</td>\n      <td>4019</td>\n      <td>17.750000</td>\n      <td>0.083969</td>\n      <td>6</td>\n      <td>2</td>\n      <td>5</td>\n      <td>1</td>\n    </tr>\n    <tr>\n      <th>...</th>\n      <td>...</td>\n      <td>...</td>\n      <td>...</td>\n      <td>...</td>\n      <td>...</td>\n      <td>...</td>\n      <td>...</td>\n      <td>...</td>\n      <td>...</td>\n      <td>...</td>\n      <td>...</td>\n      <td>...</td>\n      <td>...</td>\n      <td>...</td>\n      <td>...</td>\n      <td>...</td>\n      <td>...</td>\n      <td>...</td>\n      <td>...</td>\n      <td>...</td>\n      <td>...</td>\n    </tr>\n    <tr>\n      <th>13575</th>\n      <td>Wheelers Hill</td>\n      <td>12 Strada Cr</td>\n      <td>4</td>\n      <td>h</td>\n      <td>1245000.0</td>\n      <td>S</td>\n      <td>Barry</td>\n      <td>2017-08-26</td>\n      <td>16.7</td>\n      <td>3150</td>\n      <td>...</td>\n      <td>-37.90562</td>\n      <td>145.16761</td>\n      <td>South-Eastern Metropolitan</td>\n      <td>7392</td>\n      <td>12.600000</td>\n      <td>-0.676093</td>\n      <td>8</td>\n      <td>36</td>\n      <td>5</td>\n      <td>1</td>\n    </tr>\n    <tr>\n      <th>13576</th>\n      <td>Williamstown</td>\n      <td>77 Merrett Dr</td>\n      <td>3</td>\n      <td>h</td>\n      <td>1031000.0</td>\n      <td>SP</td>\n      <td>Williams</td>\n      <td>2017-08-26</td>\n      <td>6.8</td>\n      <td>3016</td>\n      <td>...</td>\n      <td>-37.85927</td>\n      <td>144.87904</td>\n      <td>Western Metropolitan</td>\n      <td>6380</td>\n      <td>16.625000</td>\n      <td>-0.429185</td>\n      <td>8</td>\n      <td>22</td>\n      <td>5</td>\n      <td>1</td>\n    </tr>\n    <tr>\n      <th>13577</th>\n      <td>Williamstown</td>\n      <td>83 Power St</td>\n      <td>3</td>\n      <td>h</td>\n      <td>1170000.0</td>\n      <td>S</td>\n      <td>Raine</td>\n      <td>2017-08-26</td>\n      <td>6.8</td>\n      <td>3016</td>\n      <td>...</td>\n      <td>-37.85274</td>\n      <td>144.88738</td>\n      <td>Western Metropolitan</td>\n      <td>6380</td>\n      <td>15.750000</td>\n      <td>-0.551601</td>\n      <td>8</td>\n      <td>20</td>\n      <td>5</td>\n      <td>1</td>\n    </tr>\n    <tr>\n      <th>13578</th>\n      <td>Williamstown</td>\n      <td>96 Verdon St</td>\n      <td>4</td>\n      <td>h</td>\n      <td>2500000.0</td>\n      <td>PI</td>\n      <td>Sweeney</td>\n      <td>2017-08-26</td>\n      <td>6.8</td>\n      <td>3016</td>\n      <td>...</td>\n      <td>-37.85908</td>\n      <td>144.89299</td>\n      <td>Western Metropolitan</td>\n      <td>6380</td>\n      <td>17.444444</td>\n      <td>-0.693060</td>\n      <td>8</td>\n      <td>97</td>\n      <td>5</td>\n      <td>1</td>\n    </tr>\n    <tr>\n      <th>13579</th>\n      <td>Yarraville</td>\n      <td>6 Agnes St</td>\n      <td>4</td>\n      <td>h</td>\n      <td>1285000.0</td>\n      <td>SP</td>\n      <td>Village</td>\n      <td>2017-08-26</td>\n      <td>6.3</td>\n      <td>3013</td>\n      <td>...</td>\n      <td>-37.81188</td>\n      <td>144.88449</td>\n      <td>Western Metropolitan</td>\n      <td>6543</td>\n      <td>12.444444</td>\n      <td>-0.527426</td>\n      <td>8</td>\n      <td>97</td>\n      <td>5</td>\n      <td>1</td>\n    </tr>\n  </tbody>\n</table>\n<p>13580 rows × 26 columns</p>\n</div>"
     },
     "execution_count": 93,
     "metadata": {},
     "output_type": "execute_result"
    }
   ],
   "source": [
    "melb_df"
   ],
   "metadata": {
    "collapsed": false,
    "pycharm": {
     "name": "#%%\n"
    }
   }
  },
  {
   "cell_type": "code",
   "execution_count": null,
   "outputs": [],
   "source": [],
   "metadata": {
    "collapsed": false,
    "pycharm": {
     "name": "#%%\n"
    }
   }
  }
 ],
 "metadata": {
  "kernelspec": {
   "display_name": "Python 3",
   "language": "python",
   "name": "python3"
  },
  "language_info": {
   "codemirror_mode": {
    "name": "ipython",
    "version": 2
   },
   "file_extension": ".py",
   "mimetype": "text/x-python",
   "name": "python",
   "nbconvert_exporter": "python",
   "pygments_lexer": "ipython2",
   "version": "2.7.6"
  }
 },
 "nbformat": 4,
 "nbformat_minor": 0
}