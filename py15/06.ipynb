{
 "cells": [
  {
   "cell_type": "code",
   "execution_count": 1,
   "metadata": {
    "collapsed": true
   },
   "outputs": [
    {
     "name": "stdout",
     "output_type": "stream",
     "text": [
      "[1000000, 400000]\n",
      "700000.0\n"
     ]
    }
   ],
   "source": [
    "class DepartmentReport():\n",
    "    def add_revenue(self, amount):\n",
    "        \"\"\"\n",
    "        Метод для добавления выручки отдела в список revenues.\n",
    "        Если атрибута revenues ещё не существует, метод должен создавать пустой список перед добавлением выручки.\n",
    "        \"\"\"\n",
    "        if not hasattr(self, 'revenues'):\n",
    "            self.revenues = []\n",
    "        self.revenues.append(amount)\n",
    "\n",
    "    def average_revenue(self):\n",
    "        \"\"\"\n",
    "        Метод возвращает среднюю выручку по отделам.\n",
    "        \"\"\"\n",
    "        return sum(self.revenues) / len(self.revenues)\n",
    "\n",
    "\n",
    "report = DepartmentReport()\n",
    "report.add_revenue(1000000)\n",
    "report.add_revenue(400000)\n",
    "print(report.revenues)\n",
    "# => [1000000, 400000]\n",
    "print(report.average_revenue())\n",
    "# => 700000.0"
   ]
  },
  {
   "cell_type": "code",
   "execution_count": 2,
   "outputs": [
    {
     "name": "stdout",
     "output_type": "stream",
     "text": [
      "Average department revenue for Danon: 700000\n"
     ]
    }
   ],
   "source": [
    "class DepartmentReport():\n",
    "\n",
    "    def __init__(self,company):\n",
    "        \"\"\"\n",
    "        Метод инициализации класса.\n",
    "        Создаёт атрибуты revenues и company\n",
    "        \"\"\"\n",
    "        self.deals = []\n",
    "        self.company = company\n",
    "\n",
    "\n",
    "    def add_revenue(self, amount):\n",
    "        \"\"\"\n",
    "        Метод для добавления выручки отдела в список revenues.\n",
    "        Если атрибута revenues ещё не существует, метод должен создавать пустой список перед добавлением выручки.\n",
    "        \"\"\"\n",
    "        if not hasattr(self, 'revenues'):\n",
    "            self.revenues = []\n",
    "        self.revenues.append(amount)\n",
    "\n",
    "\n",
    "    def average_revenue(self):\n",
    "        \"\"\"\n",
    "        Вычисляет average_revenue — среднюю выручку по отделам — округляя до целого.\n",
    "        Метод возвращает строку в формате:\n",
    "        'Average department revenue for <company>: <average_revenue>'\n",
    "        \"\"\"\n",
    "        average= self.company\n",
    "        return 'Average department revenue for ' + f'{average}: ' + str(round(sum(self.revenues) / len(self.revenues)))\n",
    "\n",
    "report = DepartmentReport(\"Danon\")\n",
    "report.add_revenue(1000000)\n",
    "report.add_revenue(400000)\n",
    "\n",
    "print(report.average_revenue())\n",
    "# => Average department revenue for Danon: 700000"
   ],
   "metadata": {
    "collapsed": false,
    "pycharm": {
     "name": "#%%\n"
    }
   }
  },
  {
   "cell_type": "code",
   "execution_count": 3,
   "outputs": [
    {
     "name": "stdout",
     "output_type": "stream",
     "text": [
      "False\n",
      "True\n",
      "20200\n",
      "19700\n",
      "19700\n"
     ]
    }
   ],
   "source": [
    "# Определите класс для пользователей User:\n",
    "#\n",
    "# у него должны быть атрибуты email, password и balance, которые устанавливаются при инициализации;\n",
    "# у него должен быть метод login, который принимает емайл и пароль. Если они совпадают с атрибутами объекта, он возвращает True, а иначе — False;\n",
    "# должен быть метод update_balance(amount), который изменяет баланс счёта на величину amount.\n",
    "# В случае правильного описания класса код, приведённый ниже, должен выдать следующий результат:\n",
    "\n",
    "class User():\n",
    "\n",
    "    def __init__(self, email, password, balance):\n",
    "        self.email = email\n",
    "        self.password = password\n",
    "        self.balance = balance\n",
    "\n",
    "    def login(self, email, password):\n",
    "        if email == self.email and password == self.password:\n",
    "            print(True)\n",
    "            return True\n",
    "        print(False)\n",
    "        return False\n",
    "\n",
    "    def update_balance(self, amount):\n",
    "        self.balance += amount\n",
    "        print(self.balance)\n",
    "\n",
    "\n",
    "user = User(\"gosha@roskino.org\", \"qwerty\", 20000)\n",
    "user.login(\"gosha@roskino.org\", \"qwerty123\")\n",
    "# => False\n",
    "user.login(\"gosha@roskino.org\", \"qwerty\")\n",
    "# => True\n",
    "user.update_balance(200)\n",
    "user.update_balance(-500)\n",
    "print(user.balance)\n",
    "# => 19700"
   ],
   "metadata": {
    "collapsed": false,
    "pycharm": {
     "name": "#%%\n"
    }
   }
  },
  {
   "cell_type": "code",
   "execution_count": 4,
   "outputs": [
    {
     "data": {
      "text/plain": "4"
     },
     "execution_count": 4,
     "metadata": {},
     "output_type": "execute_result"
    }
   ],
   "source": [
    "# Определите класс IntDataFrame, который принимает список неотрицательных чисел и приводит к целым значениям все числа в этом списке. После этого становится доступен метод count, который считает количество ненулевых элементов, и метод unique, который возвращает число уникальных элементов.\n",
    "#\n",
    "# В случае правильного описания класса код, приведённый ниже, должен выдать следующий результат:\n",
    "#\n",
    "# df = IntDataFrame([4.7, 4, 3, 0, 2.4, 0.3, 4])\n",
    "#\n",
    "# df.count()\n",
    "# # => 5\n",
    "# df.unique()\n",
    "# # => 4\n",
    "\n",
    "class IntDataFrame():\n",
    "\n",
    "    def __init__(self, df):\n",
    "        self.df = df\n",
    "\n",
    "        self.fff()\n",
    "\n",
    "    def fff(self):\n",
    "        self.df = [int(i) for i in self.df]\n",
    "\n",
    "    def count(self):\n",
    "        count = 0\n",
    "        for i in range(len(self.df)):\n",
    "            if self.df[i] != 0:\n",
    "                count += 1\n",
    "        return count\n",
    "\n",
    "    def unique(self):\n",
    "        return len(set(self.df))\n",
    "\n",
    "\n",
    "df = IntDataFrame([4.7, 4, 3, 0, 2.4, 0.3, 4])\n",
    "\n",
    "df.count()\n",
    "# => 5\n",
    "df.unique()\n",
    "# => 4"
   ],
   "metadata": {
    "collapsed": false,
    "pycharm": {
     "name": "#%%\n"
    }
   }
  },
  {
   "cell_type": "code",
   "execution_count": 5,
   "outputs": [
    {
     "name": "stdout",
     "output_type": "stream",
     "text": [
      "None\n",
      "Connection lost\n",
      "System started\n"
     ]
    }
   ],
   "source": [
    "# Напишите класс сборщика технических сообщений OwnLogger.\n",
    "#\n",
    "# У него должен быть метод log(message, level), который записывает сообщения. Здесь сообщение message может быть любым, а level — один из \"info\", \"warning\", \"error\".\n",
    "# Также примените метод show_last(level), где level может быть \"info\", \"warning\", \"error\", \"all\". Для \"all\" он просто возвращает последнее добавленное сообщение, а для остальных — последнее поступившее сообщение соответствующего уровня.\n",
    "# При этом по умолчанию значение именно \"all\". Если подходящего сообщения нет, возвращает None.\n",
    "# В случае правильного описания класса код, приведённый ниже, должен выдать следующий результат:\n",
    "#\n",
    "# logger = OwnLogger()\n",
    "# logger.log(\"System started\", \"info\")\n",
    "# logger.show_last(\"error\")\n",
    "# # => None\n",
    "# # Некоторые интерпретаторы Python могут не выводить None, тогда в этой проверке у вас будет пустая строка\n",
    "# logger.log(\"Connection instable\", \"warning\")\n",
    "# logger.log(\"Connection lost\", \"error\")\n",
    "#\n",
    "# logger.show_last()\n",
    "# # => Connection lost\n",
    "# logger.show_last(\"info\")\n",
    "# # => System started\n",
    "class OwnLogger():\n",
    "\n",
    "    def __init__(self):\n",
    "        self.info = None\n",
    "        self.warning = None\n",
    "        self.error = None\n",
    "        self.all = None\n",
    "\n",
    "    def log(self, message, level):\n",
    "        if level == 'info':\n",
    "            self.info = message\n",
    "        if level == 'warning':\n",
    "            self.warning = message\n",
    "        if level == 'error':\n",
    "            self.error = message\n",
    "        self.all = message\n",
    "\n",
    "    def show_last(self, last=None):\n",
    "        if last == 'info':\n",
    "            return self.info\n",
    "        if last == 'warning':\n",
    "            return self.warning\n",
    "        if last == 'error':\n",
    "            return self.error\n",
    "        if last is None:\n",
    "            return self.all\n",
    "\n",
    "\n",
    "logger = OwnLogger()\n",
    "logger.log(\"System started\", \"info\")\n",
    "print(logger.show_last(\"error\"))\n",
    "# => None\n",
    "# Некоторые интерпретаторы Python могут не выводить None, тогда в этой проверке у вас будет пустая строка\n",
    "logger.log(\"Connection instable\", \"warning\")\n",
    "logger.log(\"Connection lost\", \"error\")\n",
    "\n",
    "print(logger.show_last())\n",
    "# => Connection lost\n",
    "print(logger.show_last(\"info\"))\n",
    "# => System started\n"
   ],
   "metadata": {
    "collapsed": false,
    "pycharm": {
     "name": "#%%\n"
    }
   }
  },
  {
   "cell_type": "code",
   "execution_count": 6,
   "outputs": [
    {
     "name": "stdout",
     "output_type": "stream",
     "text": [
      "Bark!\n",
      "Paw!\n"
     ]
    }
   ],
   "source": [
    "# Определите класс Dog, у которого есть методы bark и give_paw.\n",
    "#\n",
    "# bark возвращает строку \"Bark!\"\n",
    "# give_paw возвращает строку \"Paw\"\n",
    "\n",
    "class Dog():\n",
    "\n",
    "    def __init__(self):\n",
    "        pass\n",
    "\n",
    "    def bark(self):\n",
    "        return \"Bark!\"\n",
    "\n",
    "    def give_paw(self):\n",
    "        return \"Paw!\"\n",
    "\n",
    "d = Dog()\n",
    "\n",
    "print(d.bark())\n",
    "print(d.give_paw())"
   ],
   "metadata": {
    "collapsed": false,
    "pycharm": {
     "name": "#%%\n"
    }
   }
  }
 ],
 "metadata": {
  "kernelspec": {
   "display_name": "Python 3",
   "language": "python",
   "name": "python3"
  },
  "language_info": {
   "codemirror_mode": {
    "name": "ipython",
    "version": 2
   },
   "file_extension": ".py",
   "mimetype": "text/x-python",
   "name": "python",
   "nbconvert_exporter": "python",
   "pygments_lexer": "ipython2",
   "version": "2.7.6"
  }
 },
 "nbformat": 4,
 "nbformat_minor": 0
}